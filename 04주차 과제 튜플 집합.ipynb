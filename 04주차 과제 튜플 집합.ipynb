{
 "cells": [
  {
   "cell_type": "code",
   "execution_count": 30,
   "id": "7c75c8e9",
   "metadata": {},
   "outputs": [
    {
     "name": "stdout",
     "output_type": "stream",
     "text": [
      "Americano 가격: 3000\n",
      "Ice Americano 가격: 3500\n",
      "Cappuccino 가격: 4000\n",
      "Cafe Latte 가격: 4500\n",
      "Espresso 가격: 3600\n",
      "위의 메뉴중 하나를 선택하세요: Espresso\n",
      "Espresso 는 3600 원 입니다. 결제를 부탁합니다.\n"
     ]
    }
   ],
   "source": [
    "#6.3\n",
    "#1\n",
    "menu = {'Americano' : 3000, 'Ice Americano' : 3500, 'Cappuccino' : 4000, 'Cafe Latte' : 4500, 'Espresso' : 3600}\n",
    "for key, value in menu.items():\n",
    "    print(key,'가격:',value)\n",
    "#2\n",
    "order = input('위의 메뉴중 하나를 선택하세요: ')\n",
    "if order in menu:\n",
    "    print(order,'는', value, '원 입니다. 결제를 부탁합니다.')\n",
    "else:\n",
    "    print('미안합니다.',order, '는 메뉴에 없습니다.')"
   ]
  },
  {
   "cell_type": "code",
   "execution_count": 6,
   "id": "16d00e76",
   "metadata": {},
   "outputs": [
    {
     "ename": "AttributeError",
     "evalue": "'tuple' object has no attribute 'append'",
     "output_type": "error",
     "traceback": [
      "\u001b[1;31m---------------------------------------------------------------------------\u001b[0m",
      "\u001b[1;31mAttributeError\u001b[0m                            Traceback (most recent call last)",
      "Input \u001b[1;32mIn [6]\u001b[0m, in \u001b[0;36m<cell line: 3>\u001b[1;34m()\u001b[0m\n\u001b[0;32m      1\u001b[0m \u001b[38;5;66;03m#6.4\u001b[39;00m\n\u001b[0;32m      2\u001b[0m t \u001b[38;5;241m=\u001b[39m (\u001b[38;5;241m10\u001b[39m,\u001b[38;5;241m20\u001b[39m,\u001b[38;5;241m30\u001b[39m,\u001b[38;5;241m40\u001b[39m)\n\u001b[1;32m----> 3\u001b[0m \u001b[43mt\u001b[49m\u001b[38;5;241;43m.\u001b[39;49m\u001b[43mappend\u001b[49m(\u001b[38;5;241m50\u001b[39m)   \n\u001b[0;32m      4\u001b[0m t \u001b[38;5;241m=\u001b[39m (\u001b[38;5;241m10\u001b[39m,\u001b[38;5;241m20\u001b[39m,\u001b[38;5;241m30\u001b[39m,\u001b[38;5;241m40\u001b[39m)\n\u001b[0;32m      5\u001b[0m t\u001b[38;5;241m.\u001b[39mremove(\u001b[38;5;241m50\u001b[39m)\n",
      "\u001b[1;31mAttributeError\u001b[0m: 'tuple' object has no attribute 'append'"
     ]
    }
   ],
   "source": [
    "#6.4\n",
    "t = (10,20,30,40)\n",
    "t.append(50)   \n",
    "t = (10,20,30,40)\n",
    "t.remove(50)\n",
    "t[0] = 0\n",
    "t = (10, 20, 30, 40)\n",
    "t[0] = 0\n",
    "# 튜플은 변경 불가능한 자료형이기에 변경하려면 리스트로 변환 후 변경 가능함"
   ]
  },
  {
   "cell_type": "code",
   "execution_count": 7,
   "id": "205cbab8",
   "metadata": {},
   "outputs": [
    {
     "name": "stdout",
     "output_type": "stream",
     "text": [
      "t[0] = 10\n",
      "t[0:2] = (10, 20)\n",
      "t[1:] = (20, 30, 40, 50, 60)\n",
      "t[:3] = (10, 20, 30)\n",
      "t[1::2] = (20, 40, 60)\n",
      "t[::-1] = (60, 50, 40, 30, 20, 10)\n"
     ]
    }
   ],
   "source": [
    "#6.5\n",
    "t = (10, 20, 30, 40, 50, 60)\n",
    "print('t[0] =', t[0])\n",
    "print('t[0:2] =', t[0:2])\n",
    "print('t[1:] =', t[1:])\n",
    "print('t[:3] =', t[:3])\n",
    "print('t[1::2] =', t[1::2])\n",
    "print('t[::-1] =', t[::-1])"
   ]
  },
  {
   "cell_type": "code",
   "execution_count": 9,
   "id": "7a93a38a",
   "metadata": {},
   "outputs": [
    {
     "name": "stdout",
     "output_type": "stream",
     "text": [
      "(1) True\n",
      "(2) ('a', 'b', 'c', 'd', 'e')\n",
      "(3) ['a', 'b', 'c']\n",
      "(4) ['a', 'b', 'c']\n",
      "(5) ['ad', 'ae', 'bd', 'be', 'cd', 'ce']\n",
      "(6) ['ad', 'ae', 'bd', 'be', 'cd', 'ce']\n"
     ]
    }
   ],
   "source": [
    "#6.6\n",
    "t1 = 'a', 'b', 'c'\n",
    "t2 = ('a', 'b', 'c')\n",
    "t3 = ('d', 'e')\n",
    "t1 == t2\n",
    "print('(1)', t1 == t2)\n",
    "t2 + t3\n",
    "print('(2)', t2 + t3)\n",
    "\n",
    "my_list = []\n",
    "for x in t1:\n",
    "    my_list.append(x)\n",
    "print('(3)', my_list)\n",
    "\n",
    "[x for x in t1]   #t1의 모든 원소를 x에 넣어 리스트로 만듦\n",
    "print('(4)', [x for x in t1])\n",
    "\n",
    "my_list = []\n",
    "for x in t1:\n",
    "    for y in t3:\n",
    "        my_list.append(x+y)\n",
    "print('(5)', my_list)\n",
    "\n",
    "[x + y for x in t1 for y in t3]   #t1의 모든 원소와 t3의 모든 원소 쌍을 더함\n",
    "print('(6)', [x + y for x in t1 for y in t3])"
   ]
  },
  {
   "cell_type": "code",
   "execution_count": 3,
   "id": "f20c772b",
   "metadata": {},
   "outputs": [
    {
     "name": "stdout",
     "output_type": "stream",
     "text": [
      "지난 10일 동안 전일대비 매출이 감소한 날은 3 일 입니다.\n"
     ]
    }
   ],
   "source": [
    "#6.7\n",
    "day = (100, 121, 120, 130, 140, 120, 122, 123, 190, 125)\n",
    "list_day = list(day)\n",
    "cnt = 0   #매출이 전날보다 감소한 날 카운트\n",
    "for i in range(len(list_day)-1):   #전날대비니까 len(list_day)-1까지 범위설정\n",
    "    if list_day[i] > list_day[i+1]:\n",
    "        cnt += 1\n",
    "print('지난 10일 동안 전일대비 매출이 감소한 날은', cnt,'일 입니다.')"
   ]
  },
  {
   "cell_type": "code",
   "execution_count": 19,
   "id": "14d7ecf1",
   "metadata": {},
   "outputs": [
    {
     "name": "stdout",
     "output_type": "stream",
     "text": [
      "주어진 튜플은: (1, 2, 5, 4, 3, 2, 9, 1, 4, 7, 8, 9, 9)\n",
      "중복 원소는: {1, 2, 4, 9}\n"
     ]
    }
   ],
   "source": [
    "#6.8\n",
    "tup = (1, 2, 5, 4, 3, 2, 9, 1, 4, 7, 8, 9, 9)\n",
    "print('주어진 튜플은:', tup)\n",
    "dup = set()   #set 중복을 허용하지 않는 데이터의 조합\n",
    "for i in tup:\n",
    "    if tup.count(i) > 1:   #이미 tup 안에 원소 i가 있다면 dup의 원소\n",
    "        dup |= {i}\n",
    "print('중복 원소는:', dup)"
   ]
  },
  {
   "cell_type": "code",
   "execution_count": 13,
   "id": "79acf516",
   "metadata": {},
   "outputs": [
    {
     "name": "stdout",
     "output_type": "stream",
     "text": [
      "주어진 튜플: (1, 2, 5, 4, 3, 2, 1, 4, 7, 8, 9, 9, 3, 7, 3)\n",
      "중복 제거 튜플: (1, 2, 3, 4, 5, 7, 8, 9)\n"
     ]
    }
   ],
   "source": [
    "#6.9\n",
    "tup = (1, 2, 5, 4, 3, 2, 1, 4, 7, 8, 9, 9, 3, 7, 3)\n",
    "print('주어진 튜플:', tup)\n",
    "tup_set = set(tup)   #set 중복을 허용하지 않는 데이터의 조합\n",
    "tup_set = tuple(tup_set)\n",
    "print('중복 제거 튜플:', tup_set)"
   ]
  },
  {
   "cell_type": "code",
   "execution_count": 3,
   "id": "3f78a938",
   "metadata": {},
   "outputs": [
    {
     "name": "stdout",
     "output_type": "stream",
     "text": [
      "주어진 리스트는 = [5, 6, 3, 9, 2, 12, 3, 8, 7]\n",
      "가장 큰 수를 마지막으로 옮긴 결과: [5, 3, 6, 2, 9, 3, 8, 7, 12]\n"
     ]
    }
   ],
   "source": [
    "#6-12\n",
    "lst = [5, 6, 3, 9, 2, 12, 3, 8, 7]\n",
    "print('주어진 리스트는 =', lst)\n",
    "for i in range(len(lst) - 1):   #임시변수를 사용하지 않고 두 변수의 값을 swap하기 위해 튜플 데이터를 이용\n",
    "    if (lst[i] > lst[i+1]):\n",
    "        lst[i], lst[i+1] = lst[i+1], lst[i]\n",
    "print('가장 큰 수를 마지막으로 옮긴 결과:', lst)"
   ]
  },
  {
   "cell_type": "code",
   "execution_count": 1,
   "id": "799f3844",
   "metadata": {},
   "outputs": [
    {
     "name": "stdout",
     "output_type": "stream",
     "text": [
      "주어진 리스트는 = [5, 6, 3, 9, 2, 12, 3, 8, 7]\n",
      "1 단계: [5, 3, 6, 2, 9, 3, 8, 7, 12]\n",
      "2 단계: [3, 5, 2, 6, 3, 8, 7, 9, 12]\n",
      "3 단계: [3, 2, 5, 3, 6, 7, 8, 9, 12]\n",
      "4 단계: [2, 3, 3, 5, 6, 7, 8, 9, 12]\n",
      "5 단계: [2, 3, 3, 5, 6, 7, 8, 9, 12]\n",
      "6 단계: [2, 3, 3, 5, 6, 7, 8, 9, 12]\n",
      "7 단계: [2, 3, 3, 5, 6, 7, 8, 9, 12]\n",
      "8 단계: [2, 3, 3, 5, 6, 7, 8, 9, 12]\n"
     ]
    }
   ],
   "source": [
    "#6-13\n",
    "lst = [5, 6, 3, 9, 2, 12, 3, 8, 7]\n",
    "print('주어진 리스트는 =', lst)\n",
    "for i in range(len(lst) -1):   #버블정렬: 인접한 2개의 데이터를 비교하여 정렬\n",
    "    for j in range(len(lst) - 1 - i):\n",
    "        if lst[j] > lst[j+1]:\n",
    "            lst[j], lst[j+1] = lst[j+1], lst[j]   #튜플을 이용해 swap\n",
    "    print('{} 단계: {}'.format(i+1, lst))   #'format() 사용법: {인덱스0}, {인덱스1}'.format(값0, 값1)"
   ]
  },
  {
   "cell_type": "code",
   "execution_count": 2,
   "id": "33acbc0d",
   "metadata": {},
   "outputs": [
    {
     "name": "stdout",
     "output_type": "stream",
     "text": [
      "(4, 5, 2, 3, 8, 1, 9, 0)\n",
      "(4, 5, 2, 3, 8, 1, 9)\n",
      "(4, 5, 2, 3, 8, 1)\n",
      "(4, 5, 2, 3, 8)\n",
      "(4, 5, 2, 3)\n",
      "(4, 5, 2)\n",
      "(4, 5)\n",
      "(4,)\n"
     ]
    }
   ],
   "source": [
    "#6-15\n",
    "t = (4, 5, 2, 3, 8, 1, 9, 0)\n",
    "for i in range(len(t)):\n",
    "    print(t[: len(t)-i])"
   ]
  },
  {
   "cell_type": "code",
   "execution_count": 43,
   "id": "cff0c0d4",
   "metadata": {},
   "outputs": [
    {
     "name": "stdout",
     "output_type": "stream",
     "text": [
      "{'191101': '홍길동', '191102': '임꺽정', '191103': '장길산'}\n",
      "학번을 입력하세요191102\n",
      "191102번 학생은 임꺽정입니다.\n",
      "학번을 입력하세요191106\n",
      "해당 학번의 학생은 없습니다.\n",
      "학번을 입력하세요-1\n",
      "프로그램을 종료합니다.\n"
     ]
    }
   ],
   "source": [
    "#6.16\n",
    "student_tuple = (\n",
    "    ('191101', '홍길동', '010-123-45xx'),\n",
    "    ('191102', '임꺽정', '010-223-45xx'),\n",
    "    ('191103', '장길산', '010-323-45xx'),\n",
    ")\n",
    "\n",
    "stduent_dic = {a: b for a, b, c in student_tuple}\n",
    "print(stduent_dic)\n",
    "while 1:\n",
    "    num = input('학번을 입력하세요')\n",
    "    if num == '-1':\n",
    "        print('프로그램을 종료합니다.')\n",
    "        break\n",
    "    if num in stduents:\n",
    "        print(f'{num}번 학생은 {stduents[num]}입니다.')\n",
    "    else:\n",
    "        print('해당 학번의 학생은 없습니다.')"
   ]
  },
  {
   "cell_type": "code",
   "execution_count": 39,
   "id": "681b4ede",
   "metadata": {},
   "outputs": [
    {
     "name": "stdout",
     "output_type": "stream",
     "text": [
      "마을 A와 B에 보낼 투표용지의 개수는 각각 971 장과 1698 장입니다.\n",
      "마을 A와 B의 고령화 정도는 각각 0.165와 0.003입니다.\n"
     ]
    }
   ],
   "source": [
    "#6.17\n",
    "population_A = (100, 150, 230, 120, 180, 100, 140, 95, 81, 21, 4)\n",
    "population_B = (300, 420, 530, 420, 400, 300, 40, 5, 1, 1, 1)\n",
    "\n",
    "print('마을 A와 B에 보낼 투표용지의 개수는 각각 {} 장과 {} 장입니다.'.format(sum(population_A[2:]), sum(population_B[2:])))\n",
    "print('마을 A와 B의 고령화 정도는 각각 {:0.3f}와 {:0.3f}입니다.'\n",
    "      .format(sum(population_A[7:])/sum(population_A), sum(population_B[7:])/sum(population_B)))"
   ]
  },
  {
   "cell_type": "code",
   "execution_count": 45,
   "id": "87e67a54",
   "metadata": {},
   "outputs": [
    {
     "name": "stdout",
     "output_type": "stream",
     "text": [
      "문자열을 입력하세요: racecar\n",
      "회문입니다.\n"
     ]
    }
   ],
   "source": [
    "#6.21\n",
    "s = input('문자열을 입력하세요: ')\n",
    "if s == s[::-1]:   #전체 문자열을 역순으로 출력해주는 것\n",
    "    print('회문입니다.')\n",
    "else:\n",
    "    print('회문이 아닙니다.')"
   ]
  },
  {
   "cell_type": "code",
   "execution_count": 40,
   "id": "7fb528c7",
   "metadata": {},
   "outputs": [
    {
     "name": "stdout",
     "output_type": "stream",
     "text": [
      "두 정수를 입력하시오: 4 9\n",
      "(4, 9) 요소는 없으나 5번째에 (9, 4) 요소가 있습니다.\n"
     ]
    }
   ],
   "source": [
    "#6.26\n",
    "mylist = [(1, 2), (4, 5), (4, 2), (3, 1), (9, 4)]\n",
    "answer = tuple(map(int, input('두 정수를 입력하시오: ').split()))\n",
    "if answer in mylist:   #mylist 요소와 같은 요소일때\n",
    "    print('{}번째에 {} 요소가 있습니다'.format(mylist.index(answer)+1, answer))   \n",
    "                                                    #index 자리수가 0부터 시작하니까 1더해주기 (0번째 -> 1번째)\n",
    "elif answer[::-1] in mylist:   #mylist 요소와 역순인 요소일때\n",
    "    print('{} 요소는 없으나 {}번째에 {} 요소가 있습니다.'.format(answer, mylist.index(answer[::-1])+1, answer[::-1]))\n",
    "else: \n",
    "    print('이 요소는 없습니다.')"
   ]
  }
 ],
 "metadata": {
  "kernelspec": {
   "display_name": "Python 3 (ipykernel)",
   "language": "python",
   "name": "python3"
  },
  "language_info": {
   "codemirror_mode": {
    "name": "ipython",
    "version": 3
   },
   "file_extension": ".py",
   "mimetype": "text/x-python",
   "name": "python",
   "nbconvert_exporter": "python",
   "pygments_lexer": "ipython3",
   "version": "3.9.12"
  }
 },
 "nbformat": 4,
 "nbformat_minor": 5
}
