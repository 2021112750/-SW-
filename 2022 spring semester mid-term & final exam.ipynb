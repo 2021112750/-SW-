{
 "cells": [
  {
   "cell_type": "code",
   "execution_count": 1,
   "id": "d898409d",
   "metadata": {},
   "outputs": [
    {
     "name": "stdout",
     "output_type": "stream",
     "text": [
      "섭씨온도: 0\n",
      "화씨온도: 32.0\n",
      "\n",
      "\n",
      "섭씨온도: 5\n",
      "화씨온도: 41.0\n",
      "\n",
      "\n",
      "섭씨온도: 10\n",
      "화씨온도: 50.0\n",
      "\n",
      "\n",
      "섭씨온도: 15\n",
      "화씨온도: 59.0\n",
      "\n",
      "\n",
      "섭씨온도: 20\n",
      "화씨온도: 68.0\n",
      "\n",
      "\n",
      "섭씨온도: 25\n",
      "화씨온도: 77.0\n",
      "\n",
      "\n",
      "섭씨온도: 30\n",
      "화씨온도: 86.0\n",
      "\n",
      "\n",
      "섭씨온도: 35\n",
      "화씨온도: 95.0\n",
      "\n",
      "\n",
      "섭씨온도: 40\n",
      "화씨온도: 104.0\n",
      "\n",
      "\n",
      "섭씨온도: 45\n",
      "화씨온도: 113.0\n",
      "\n",
      "\n",
      "섭씨온도: 50\n",
      "화씨온도: 122.0\n",
      "\n",
      "\n"
     ]
    }
   ],
   "source": [
    "#섭씨온도 0도에서 50도까지 5도 단위로 증가시키면서 섭씨온도와 화씨온도의 값을 보여주는 프로그램\n",
    "for c in range(0, 51, 5):\n",
    "    print('섭씨온도:', c)\n",
    "    f = (9 / 5) * c + 32\n",
    "    print('화씨온도:', f)\n",
    "    print('\\n')         "
   ]
  },
  {
   "cell_type": "code",
   "execution_count": 3,
   "id": "c5486ed5",
   "metadata": {},
   "outputs": [
    {
     "name": "stdout",
     "output_type": "stream",
     "text": [
      "2 3\n"
     ]
    }
   ],
   "source": [
    "a = 2 * 2 // 2\n",
    "b = 3 // 2 * 3\n",
    "print(a, b)"
   ]
  },
  {
   "cell_type": "code",
   "execution_count": 2,
   "id": "9ac321a7",
   "metadata": {},
   "outputs": [
    {
     "name": "stdout",
     "output_type": "stream",
     "text": [
      "233168\n"
     ]
    }
   ],
   "source": [
    "# 1000미만의 자연수에서 3의 배수와 5의 배수의 종합\n",
    "sum = 0\n",
    "for i in range(1, 1000):\n",
    "    if (i % 3 == 0) or (i % 5 == 0):\n",
    "        sum = sum + i\n",
    "print(sum)"
   ]
  }
 ],
 "metadata": {
  "kernelspec": {
   "display_name": "Python 3 (ipykernel)",
   "language": "python",
   "name": "python3"
  },
  "language_info": {
   "codemirror_mode": {
    "name": "ipython",
    "version": 3
   },
   "file_extension": ".py",
   "mimetype": "text/x-python",
   "name": "python",
   "nbconvert_exporter": "python",
   "pygments_lexer": "ipython3",
   "version": "3.9.12"
  }
 },
 "nbformat": 4,
 "nbformat_minor": 5
}
