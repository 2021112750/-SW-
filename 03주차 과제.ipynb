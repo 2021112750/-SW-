{
 "cells": [
  {
   "cell_type": "code",
   "execution_count": 6,
   "id": "eb059469",
   "metadata": {},
   "outputs": [
    {
     "name": "stdout",
     "output_type": "stream",
     "text": [
      "이름을 입력하세요: 승주\n",
      "키를 입력하세요: 132\n",
      "승주 님은 놀이기구를 탈 수 없습니다.\n"
     ]
    }
   ],
   "source": [
    "#3.2\n",
    "name = input('이름을 입력하세요: ')\n",
    "height = int(input('키를 입력하세요: '))\n",
    "\n",
    "if height < 140:\n",
    "    print(name, '님은 놀이기구를 탈 수 없습니다.')\n",
    "else:\n",
    "    print(name, '님은 놀이기구를 탈 수 있습니다.')\n"
   ]
  },
  {
   "cell_type": "code",
   "execution_count": 9,
   "id": "db2d49a6",
   "metadata": {},
   "outputs": [
    {
     "name": "stdout",
     "output_type": "stream",
     "text": [
      "나이를 입력하시오: 16\n",
      "키를 입력하시오(단위 cm): 162\n",
      "입장할 수 없습니다.\n"
     ]
    }
   ],
   "source": [
    "#3.3\n",
    "age = int(input('나이를 입력하시오: '))\n",
    "height = int(input('키를 입력하시오(단위 cm): '))\n",
    "if (age >= 19) and (height >= 150):\n",
    "    print('입장할 수 있습니다.')\n",
    "else:\n",
    "    print('입장할 수 없습니다.')"
   ]
  },
  {
   "cell_type": "code",
   "execution_count": 14,
   "id": "a7ec0f0d",
   "metadata": {},
   "outputs": [
    {
     "name": "stdout",
     "output_type": "stream",
     "text": [
      "나이를 입력하시오: 9\n",
      "Kid\n"
     ]
    }
   ],
   "source": [
    "#3.4\n",
    "age = int(input('나이를 입력하시오: '))\n",
    "if (age >= 20):\n",
    "    print('Adult')\n",
    "elif (age >= 10) and (age < 20):\n",
    "    print('Youth')\n",
    "else: \n",
    "    print('Kid')"
   ]
  },
  {
   "cell_type": "code",
   "execution_count": 16,
   "id": "0c5f3bc8",
   "metadata": {},
   "outputs": [
    {
     "name": "stdout",
     "output_type": "stream",
     "text": [
      "두 정수를 입력하시오: 15 33\n",
      "15 33\n"
     ]
    }
   ],
   "source": [
    "#3.5\n",
    "a, b = input('두 정수를 입력하시오: ').split()   #입력받은 값을 공백을 기준으로 분리\n",
    "a = int(a)   # 입력받은 변수들을 정수로 변환\n",
    "b = int(b)\n",
    "if (a > b):   #가장 작은 수부터 출력\n",
    "    print(b, a)\n",
    "else:\n",
    "    print(a, b)"
   ]
  },
  {
   "cell_type": "code",
   "execution_count": 21,
   "id": "36a63401",
   "metadata": {},
   "outputs": [
    {
     "name": "stdout",
     "output_type": "stream",
     "text": [
      "세 정수를 입력하시오: 99 12 4\n",
      "4 12 99\n"
     ]
    }
   ],
   "source": [
    "#3.6 \n",
    "a, b, c = input('세 정수를 입력하시오: ').split()   #입력받은 값을 공백을 기준으로 분리\n",
    "a = int(a)    #입력 받은 변수들을 정수로 변환\n",
    "b = int(b)\n",
    "c = int(c)\n",
    "\n",
    "if(a > b) and (b > c):\n",
    "    print(c, b, a)\n",
    "elif(a < b) and (a > c):\n",
    "    print(c, a, b)\n",
    "elif(b < a) and (a < c):\n",
    "    print(b, a, c)\n",
    "elif(b < c) and (c < a):\n",
    "    print(b, c, a)\n",
    "elif(a < b) and (b < c):\n",
    "    print(a, b, c)\n",
    "else:\n",
    "    print(a, c, b)"
   ]
  },
  {
   "cell_type": "code",
   "execution_count": 24,
   "id": "2a7b2551",
   "metadata": {},
   "outputs": [
    {
     "name": "stdout",
     "output_type": "stream",
     "text": [
      "게임점수를 입력하시오: 1200\n",
      "고수입니다.\n"
     ]
    }
   ],
   "source": [
    "#3.7\n",
    "game_score = int(input('게임점수를 입력하시오: '))\n",
    "if(game_score >= 1000):\n",
    "    print('고수입니다.')\n",
    "else:\n",
    "    print('입문자입니다.')"
   ]
  },
  {
   "cell_type": "code",
   "execution_count": 7,
   "id": "ed5eb4c4",
   "metadata": {},
   "outputs": [
    {
     "name": "stdout",
     "output_type": "stream",
     "text": [
      "점의 좌표 x를 입력하시오: -2\n",
      "점의 좌표 y를 입력하시오: -4\n",
      "3사분면에 있음\n"
     ]
    }
   ],
   "source": [
    "#3.8\n",
    "x = int(input('점의 좌표 x를 입력하시오: '))\n",
    "y = int(input('점의 좌표 y를 입력하시오: '))\n",
    "\n",
    "if x > 0 and y > 0:\n",
    "    print('1사분면에 있음')\n",
    "elif x < 0 and y > 0:\n",
    "    print('2사분면에 있음')\n",
    "elif x < 0 and y < 0: \n",
    "    print('3사분면에 있음')\n",
    "else: \n",
    "    print('4사분면에 있음')"
   ]
  },
  {
   "cell_type": "code",
   "execution_count": 36,
   "id": "2e788156",
   "metadata": {},
   "outputs": [
    {
     "name": "stdout",
     "output_type": "stream",
     "text": [
      "정수를 입력하시오: 12\n",
      "12 는(은) 2(으)로 나누어집니다.\n",
      "12 는(은) 3(으)로 나누어집니다.\n",
      "12 는(은) 2와(과) 3 모두로 나누어집니다.\n"
     ]
    }
   ],
   "source": [
    "#3.9\n",
    "n = int(input('정수를 입력하시오: '))\n",
    "if(n % 2 == 0):\n",
    "    print(n, '는(은) 2(으)로 나누어집니다.')\n",
    "if(n % 2 != 0):\n",
    "    print(n, '는(은) 2(으)로 나누어지지 않습니다.')\n",
    "if(n % 3 == 0):\n",
    "    print(n, '는(은) 3(으)로 나누어집니다.')\n",
    "if(n % 3 != 0):\n",
    "    print(n, '는(은) 3(으)로 나누어지지 않습니다.')\n",
    "if(n % 2 == 0) and (n % 3 == 0):\n",
    "    print(n, '는(은) 2와(과) 3 모두로 나누어집니다.')\n",
    "else:\n",
    "    print(n, '는(은) 2와(과) 3 모두로 나누어지지 않습니다.')"
   ]
  },
  {
   "cell_type": "code",
   "execution_count": 47,
   "id": "0e533a05",
   "metadata": {},
   "outputs": [
    {
     "name": "stdout",
     "output_type": "stream",
     "text": [
      "두 정수를 입력하시오: 13 2\n",
      "13 는(은) 2 의 배수가 아닙니다.\n"
     ]
    }
   ],
   "source": [
    "#3.10\n",
    "a, b = input('두 정수를 입력하시오: ').split()                  \n",
    "a = int(a)\n",
    "b = int(b)\n",
    "if (a % b == 0):\n",
    "    print(a,'는(은)', b, '의 배수입니다.')\n",
    "else:\n",
    "    print(a,'는(은)', b, '의 배수가 아닙니다.')"
   ]
  },
  {
   "cell_type": "code",
   "execution_count": 53,
   "id": "34e2918a",
   "metadata": {},
   "outputs": [
    {
     "name": "stdout",
     "output_type": "stream",
     "text": [
      "알파벳을 입력하시오: b\n",
      "b (은)는 자음입니다.\n"
     ]
    }
   ],
   "source": [
    "#3.14\n",
    "alphabet = input('알파벳을 입력하시오: ')\n",
    "if(alphabet == 'a' or alphabet == 'e' or alphabet == 'i' or alphabet == 'o' or alphabet == 'u'):\n",
    "    print(alphabet, '(은)는 모음입니다.')\n",
    "else:\n",
    "    print(alphabet, '(은)는 자음입니다.')"
   ]
  },
  {
   "cell_type": "code",
   "execution_count": 60,
   "id": "b9da6241",
   "metadata": {},
   "outputs": [
    {
     "name": "stdout",
     "output_type": "stream",
     "text": [
      "Python \n",
      "is \n",
      "FUN! \n",
      "Python \n",
      "is \n",
      "FUN! \n",
      "Python \n",
      "is \n",
      "FUN! \n",
      "\n",
      "\n",
      "Python \n",
      "is \n",
      "Python \n",
      "is \n",
      "Python \n",
      "is \n",
      "FUN! \n"
     ]
    }
   ],
   "source": [
    "#3.17\n",
    "for i in range(3):\n",
    "    print('Python ')\n",
    "    print('is ')\n",
    "    print('FUN! ')\n",
    "print('\\n')\n",
    "\n",
    "for i in range(3):\n",
    "    print('Python ')\n",
    "    print('is ')\n",
    "print('FUN! ')"
   ]
  },
  {
   "cell_type": "code",
   "execution_count": 68,
   "id": "19eb030f",
   "metadata": {},
   "outputs": [
    {
     "name": "stdout",
     "output_type": "stream",
     "text": [
      "숫자를 입력하세요: 6\n",
      "     *\n",
      "    **\n",
      "   ***\n",
      "  ****\n",
      " *****\n",
      "******\n"
     ]
    }
   ],
   "source": [
    "#3.20\n",
    "n = int(input('숫자를 입력하세요: '))\n",
    "for i in range (1, n+1):\n",
    "    for j in range(n - i):\n",
    "        print(' ', end = '')\n",
    "    for j in range(i):\n",
    "        print('*', end = '')\n",
    "    print('')"
   ]
  },
  {
   "cell_type": "code",
   "execution_count": 66,
   "id": "ebfe3ab9",
   "metadata": {},
   "outputs": [
    {
     "name": "stdout",
     "output_type": "stream",
     "text": [
      "숫자를 입력하세요: 9\n",
      "9 소수가 아닙니다.\n"
     ]
    }
   ],
   "source": [
    "#3.21\n",
    "n = int(input('숫자를 입력하세요: '))\n",
    "is_prime = 0\n",
    "for i in range(2, n):\n",
    "    if n % i == 0:\n",
    "        is_prime = 1\n",
    "if is_prime == 0:\n",
    "    print(n, '소수입니다.')\n",
    "else:\n",
    "    print(n, '소수가 아닙니다.')"
   ]
  },
  {
   "cell_type": "code",
   "execution_count": 65,
   "id": "df118791",
   "metadata": {},
   "outputs": [
    {
     "name": "stdout",
     "output_type": "stream",
     "text": [
      "숫자를 입력하세요: 21\n",
      "결과는 3311 입니다.\n"
     ]
    }
   ],
   "source": [
    "#3.23\n",
    "n = int(input('숫자를 입력하세요: '))\n",
    "sum = 0\n",
    "for i in range(1, n+1):\n",
    "    sum = sum + i ** 2\n",
    "print('결과는', sum,'입니다.')"
   ]
  },
  {
   "cell_type": "code",
   "execution_count": 58,
   "id": "34286a7e",
   "metadata": {},
   "outputs": [
    {
     "name": "stdout",
     "output_type": "stream",
     "text": [
      "숫자를 입력하세요: 10\n",
      "결과는 1.5497677311665408 입니다.\n"
     ]
    }
   ],
   "source": [
    "#3.24\n",
    "n = int(input('숫자를 입력하세요: '))\n",
    "sum = 0\n",
    "for i in range(1, n+1):\n",
    "    sum = sum + 1 / (i ** 2)\n",
    "print('결과는', sum,'입니다.')"
   ]
  }
 ],
 "metadata": {
  "kernelspec": {
   "display_name": "Python 3 (ipykernel)",
   "language": "python",
   "name": "python3"
  },
  "language_info": {
   "codemirror_mode": {
    "name": "ipython",
    "version": 3
   },
   "file_extension": ".py",
   "mimetype": "text/x-python",
   "name": "python",
   "nbconvert_exporter": "python",
   "pygments_lexer": "ipython3",
   "version": "3.9.12"
  }
 },
 "nbformat": 4,
 "nbformat_minor": 5
}
