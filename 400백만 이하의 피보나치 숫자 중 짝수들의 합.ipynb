{
 "cells": [
  {
   "cell_type": "markdown",
   "id": "c9ec22ed",
   "metadata": {},
   "source": [
    "400만 이하의 피보나치 숫자들 중 짝수인 숫자들의 합"
   ]
  },
  {
   "cell_type": "code",
   "execution_count": 1,
   "id": "54c0d90e",
   "metadata": {},
   "outputs": [
    {
     "name": "stdout",
     "output_type": "stream",
     "text": [
      "4613732\n"
     ]
    }
   ],
   "source": [
    "a = 1   #fibo(0) \n",
    "b = 1   #fibo(1)\n",
    "c = a + b   \n",
    "\n",
    "sum = 0\n",
    "\n",
    "while (c <= 4000000):\n",
    "    if c % 2 == 0:\n",
    "        sum += c\n",
    "    a = b\n",
    "    b = c\n",
    "    c = a + b\n",
    "\n",
    "print(sum)\n"
   ]
  }
 ],
 "metadata": {
  "kernelspec": {
   "display_name": "Python 3 (ipykernel)",
   "language": "python",
   "name": "python3"
  },
  "language_info": {
   "codemirror_mode": {
    "name": "ipython",
    "version": 3
   },
   "file_extension": ".py",
   "mimetype": "text/x-python",
   "name": "python",
   "nbconvert_exporter": "python",
   "pygments_lexer": "ipython3",
   "version": "3.9.12"
  }
 },
 "nbformat": 4,
 "nbformat_minor": 5
}
