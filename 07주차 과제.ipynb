{
 "cells": [
  {
   "cell_type": "markdown",
   "id": "2b2381f1",
   "metadata": {},
   "source": [
    "7.1"
   ]
  },
  {
   "cell_type": "code",
   "execution_count": 26,
   "id": "ffc5faee",
   "metadata": {},
   "outputs": [
    {
     "name": "stdout",
     "output_type": "stream",
     "text": [
      "춘향이와 몽룡이의 연애 시작일 : 2019년 2월 24일\n",
      "연애 시작일로부터 경과한 날짜 : 1328일\n"
     ]
    }
   ],
   "source": [
    "#1\n",
    "import datetime as dt\n",
    "d = dt.date(2019, 2, 24)\n",
    "print('춘향이와 몽룡이의 연애 시작일 : {}년 {}월 {}일'.format(d.year, d.month, d.day))\n",
    "\n",
    "today = dt.date.today()\n",
    "dd = today - d\n",
    "print('연애 시작일로부터 경과한 날짜 : {}일'.format(dd.days))"
   ]
  },
  {
   "cell_type": "code",
   "execution_count": 27,
   "id": "c33009f2",
   "metadata": {},
   "outputs": [
    {
     "name": "stdout",
     "output_type": "stream",
     "text": [
      "춘향이와 몽룡이의 연애 시작일 : 2019년 2월 24일\n",
      "100일 기념일 : 2019년 6월 4일\n",
      "200일 기념일 : 2019년 9월 12일\n",
      "500일 기념일 : 2020년 7월 8일\n",
      "1000일 기념일 : 2021년 11월 20일\n"
     ]
    }
   ],
   "source": [
    "#2\n",
    "import datetime as dt\n",
    "d = dt.date(2019, 2, 24)\n",
    "print('춘향이와 몽룡이의 연애 시작일 : {}년 {}월 {}일'.format(d.year, d.month, d.day))\n",
    "\n",
    "d_100 = dt.timedelta(days = 100) + d\n",
    "d_200 = dt.timedelta(days = 200) + d\n",
    "d_500 = dt.timedelta(days = 500) + d\n",
    "d_1000 = dt.timedelta(days = 1000) + d\n",
    "\n",
    "print('100일 기념일 : {}년 {}월 {}일'.format(d_100.year, d_100.month, d_100.day))\n",
    "print('200일 기념일 : {}년 {}월 {}일'.format(d_200.year, d_200.month, d_200.day))\n",
    "print('500일 기념일 : {}년 {}월 {}일'.format(d_500.year, d_500.month, d_500.day))\n",
    "print('1000일 기념일 : {}년 {}월 {}일'.format(d_1000.year, d_1000.month, d_1000.day))"
   ]
  },
  {
   "cell_type": "markdown",
   "id": "6f8244a6",
   "metadata": {},
   "source": [
    "7.2"
   ]
  },
  {
   "cell_type": "code",
   "execution_count": 30,
   "id": "5c23f666",
   "metadata": {},
   "outputs": [
    {
     "name": "stdout",
     "output_type": "stream",
     "text": [
      "1에서 1,000,000까지의 합을 구하는 시간: 0.0469초\n"
     ]
    }
   ],
   "source": [
    "#1\n",
    "import time\n",
    "\n",
    "def sum1to1000000():\n",
    "    sum = 0\n",
    "    for i in range(1, 1000001):\n",
    "        sum += i\n",
    "    return sum\n",
    "\n",
    "start = time.time()   #함수 실행 전 시간\n",
    "sum1to1000000()   #함수 실행\n",
    "end = time.time()   #함수 실행 후 시간\n",
    "time = end - start   #함수 실행 동안 걸린 시간\n",
    "print('1에서 1,000,000까지의 합을 구하는 시간: {:.4f}초'.format(time))"
   ]
  },
  {
   "cell_type": "code",
   "execution_count": 2,
   "id": "baca1c1f",
   "metadata": {},
   "outputs": [
    {
     "name": "stdout",
     "output_type": "stream",
     "text": [
      "1,000,000까지의 합을 100번 반복해서 구하는 시간: 4.1164초\n"
     ]
    }
   ],
   "source": [
    "#2\n",
    "import time\n",
    "\n",
    "def sum1to1000000():\n",
    "    sum = 0\n",
    "    for i in range(1, 1000001):\n",
    "        sum += i\n",
    "    return sum\n",
    "\n",
    "start = time.time()\n",
    "for i in range(100):   #함수 100번 실행\n",
    "    sum1to1000000()\n",
    "end = time.time()\n",
    "time = end - start\n",
    "print('1,000,000까지의 합을 100번 반복해서 구하는 시간: {:.4f}초'.format(time))"
   ]
  },
  {
   "cell_type": "markdown",
   "id": "cf198706",
   "metadata": {},
   "source": [
    "7.3"
   ]
  },
  {
   "cell_type": "code",
   "execution_count": 4,
   "id": "85c5f02d",
   "metadata": {},
   "outputs": [
    {
     "name": "stdout",
     "output_type": "stream",
     "text": [
      "Hello Python!\n",
      "Hello Python!\n",
      "Hello Python!\n",
      "Hello Python!\n",
      "Hello Python!\n",
      "Hello Python!\n",
      "Hello Python!\n",
      "Hello Python!\n",
      "Hello Python!\n",
      "Hello Python!\n",
      "Hello Python!\n",
      "Hello Python!\n",
      "Hello Python!\n",
      "Hello Python!\n",
      "Hello Python!\n",
      "Hello Python!\n",
      "Hello Python!\n",
      "Hello Python!\n",
      "Hello Python!\n",
      "Hello Python!\n",
      "Hello Python!\n",
      "Hello Python!\n",
      "Hello Python!\n",
      "Hello Python!\n",
      "Hello Python!\n",
      "Hello Python!\n",
      "Hello Python!\n",
      "Hello Python!\n",
      "Hello Python!\n",
      "Hello Python!\n",
      "Hello Python!\n",
      "Hello Python!\n",
      "Hello Python!\n",
      "Hello Python!\n",
      "Hello Python!\n",
      "Hello Python!\n",
      "Hello Python!\n",
      "Hello Python!\n",
      "Hello Python!\n",
      "Hello Python!\n",
      "Hello Python!\n",
      "Hello Python!\n",
      "Hello Python!\n",
      "Hello Python!\n",
      "Hello Python!\n",
      "Hello Python!\n",
      "Hello Python!\n",
      "Hello Python!\n",
      "Hello Python!\n",
      "Hello Python!\n",
      "Hello Python!\n",
      "Hello Python!\n",
      "Hello Python!\n",
      "Hello Python!\n",
      "Hello Python!\n",
      "Hello Python!\n",
      "Hello Python!\n",
      "Hello Python!\n",
      "Hello Python!\n",
      "Hello Python!\n",
      "Hello Python!\n",
      "Hello Python!\n",
      "Hello Python!\n",
      "Hello Python!\n",
      "Hello Python!\n",
      "Hello Python!\n",
      "Hello Python!\n",
      "Hello Python!\n",
      "Hello Python!\n",
      "Hello Python!\n",
      "Hello Python!\n",
      "Hello Python!\n",
      "Hello Python!\n",
      "Hello Python!\n",
      "Hello Python!\n",
      "Hello Python!\n",
      "Hello Python!\n",
      "Hello Python!\n",
      "Hello Python!\n",
      "Hello Python!\n",
      "Hello Python!\n",
      "Hello Python!\n",
      "Hello Python!\n",
      "Hello Python!\n",
      "Hello Python!\n",
      "Hello Python!\n",
      "Hello Python!\n",
      "Hello Python!\n",
      "Hello Python!\n",
      "Hello Python!\n",
      "Hello Python!\n",
      "Hello Python!\n",
      "Hello Python!\n",
      "Hello Python!\n",
      "Hello Python!\n",
      "Hello Python!\n",
      "Hello Python!\n",
      "Hello Python!\n",
      "Hello Python!\n",
      "Hello Python!\n",
      "\n",
      "\n",
      "Hello Python! 출력을 100번 반복하는 시간: 0.0040초\n"
     ]
    }
   ],
   "source": [
    "#1\n",
    "import time\n",
    "\n",
    "def print_Hello():\n",
    "    print('Hello Python!')\n",
    "\n",
    "start = time.time()   #함수 실행 전 시간\n",
    "for i in range(100):   #함수 100번 실행\n",
    "    print_Hello()\n",
    "end = time.time()   #함수 실행 후 시간\n",
    "time = end - start\n",
    "print('\\n')\n",
    "print('Hello Python! 출력을 100번 반복하는 시간: {:.4f}초'.format(time))"
   ]
  },
  {
   "cell_type": "code",
   "execution_count": 23,
   "id": "59512171",
   "metadata": {},
   "outputs": [
    {
     "name": "stdout",
     "output_type": "stream",
     "text": [
      "1000!을 100번 반복해서 구하는 시간: 0.0329초\n"
     ]
    }
   ],
   "source": [
    "#2\n",
    "import time\n",
    "\n",
    "def factorial_1000():\n",
    "    result = 1\n",
    "    for i in range(1, 1001):\n",
    "        result *= i\n",
    "    return result\n",
    "\n",
    "start = time.time()\n",
    "for i in range(100):\n",
    "    factorial_1000()\n",
    "end = time.time()\n",
    "time = end - start\n",
    "print('1000!을 100번 반복해서 구하는 시간: {:.4f}초'.format(time))"
   ]
  },
  {
   "cell_type": "code",
   "execution_count": 5,
   "id": "d643de77",
   "metadata": {},
   "outputs": [
    {
     "name": "stdout",
     "output_type": "stream",
     "text": [
      "1에서 1000까지 홀수의 세제곱 더하기를 100번 반복하는 시간: 0.0150초\n"
     ]
    }
   ],
   "source": [
    "#3\n",
    "import time\n",
    "import math\n",
    "\n",
    "def odd1to1000():\n",
    "    sum = 0\n",
    "    for i in range(1, 1001, 2):   #1부터 1000까지의 홀수\n",
    "        sum += pow(i, 3)   #1부터 1000까지 홀수의 세제곱 합 \n",
    "    return sum\n",
    "\n",
    "start = time.time()\n",
    "for i in range(100):\n",
    "    odd1to1000()\n",
    "end = time.time()\n",
    "time = end - start\n",
    "print('1에서 1000까지 홀수의 세제곱 더하기를 100번 반복하는 시간: {:.4f}초'.format(time))"
   ]
  },
  {
   "cell_type": "code",
   "execution_count": 7,
   "id": "44d9d78d",
   "metadata": {},
   "outputs": [
    {
     "name": "stdout",
     "output_type": "stream",
     "text": [
      "1도에서 360도까지 sin 값의 합을 100번 반복하는 시간: 0.0080초\n"
     ]
    }
   ],
   "source": [
    "#4\n",
    "import time\n",
    "import math\n",
    "\n",
    "def sin1to360():\n",
    "    sum = 0\n",
    "    for i in range(1, 361):\n",
    "        sum += math.sin(math.radians(i))\n",
    "    return sum\n",
    "\n",
    "start = time.time()\n",
    "for i in range(100):\n",
    "    sin1to360()\n",
    "end = time.time()\n",
    "time = end - start\n",
    "print('1도에서 360도까지 sin 값의 합을 100번 반복하는 시간: {:.4f}초'.format(time))"
   ]
  },
  {
   "cell_type": "markdown",
   "id": "ca38c438",
   "metadata": {},
   "source": [
    "7.4"
   ]
  },
  {
   "cell_type": "code",
   "execution_count": 16,
   "id": "d67b1ac1",
   "metadata": {},
   "outputs": [
    {
     "name": "stdout",
     "output_type": "stream",
     "text": [
      "829370\n",
      "319300\n",
      "997472\n",
      "942815\n",
      "899890\n",
      "35430\n",
      "980832\n",
      "636670\n",
      "362355\n",
      "39155\n"
     ]
    }
   ],
   "source": [
    "#1\n",
    "import random\n",
    "\n",
    "def my_rand():\n",
    "    for i in range(10):\n",
    "        print(random.randrange(0, 1000001))\n",
    "        \n",
    "my_rand()"
   ]
  },
  {
   "cell_type": "code",
   "execution_count": 15,
   "id": "62af832e",
   "metadata": {},
   "outputs": [
    {
     "name": "stdout",
     "output_type": "stream",
     "text": [
      "4922\n",
      "18104\n",
      "757598\n",
      "787048\n",
      "18571\n",
      "\n",
      "\n",
      "4922\n",
      "18104\n",
      "757598\n",
      "787048\n",
      "18571\n",
      "\n",
      "\n"
     ]
    }
   ],
   "source": [
    "#2\n",
    "import random\n",
    "import time\n",
    "\n",
    "def my_rand():\n",
    "    for i in range(5):\n",
    "        print(int(random.randrange(1, 1000001)))\n",
    "        \n",
    "for i in range(2):\n",
    "    random.seed(int(time.time()))\n",
    "    my_rand()\n",
    "    print('\\n')"
   ]
  },
  {
   "cell_type": "markdown",
   "id": "9c02785c",
   "metadata": {},
   "source": [
    "7.5"
   ]
  },
  {
   "cell_type": "code",
   "execution_count": 22,
   "id": "8b02137d",
   "metadata": {},
   "outputs": [
    {
     "name": "stdout",
     "output_type": "stream",
     "text": [
      "sin(  0) =  0.000, cos(  0) =  1.000, tan(  0) =  0.000\n",
      "sin( 10) =  0.174, cos( 10) =  0.985, tan( 10) =  0.176\n",
      "sin( 20) =  0.342, cos( 20) =  0.940, tan( 20) =  0.364\n",
      "sin( 30) =  0.500, cos( 30) =  0.866, tan( 30) =  0.577\n",
      "sin( 40) =  0.643, cos( 40) =  0.766, tan( 40) =  0.839\n",
      "sin( 50) =  0.766, cos( 50) =  0.643, tan( 50) =  1.192\n",
      "sin( 60) =  0.866, cos( 60) =  0.500, tan( 60) =  1.732\n",
      "sin( 70) =  0.940, cos( 70) =  0.342, tan( 70) =  2.747\n",
      "sin( 80) =  0.985, cos( 80) =  0.174, tan( 80) =  5.671\n",
      "sin( 90) =  1.000, cos( 90) =  0.000, tan( 90) =  16331239353195370.000\n",
      "sin(100) =  0.985, cos(100) = -0.174, tan(100) = -5.671\n",
      "sin(110) =  0.940, cos(110) = -0.342, tan(110) = -2.747\n",
      "sin(120) =  0.866, cos(120) = -0.500, tan(120) = -1.732\n",
      "sin(130) =  0.766, cos(130) = -0.643, tan(130) = -1.192\n",
      "sin(140) =  0.643, cos(140) = -0.766, tan(140) = -0.839\n",
      "sin(150) =  0.500, cos(150) = -0.866, tan(150) = -0.577\n",
      "sin(160) =  0.342, cos(160) = -0.940, tan(160) = -0.364\n",
      "sin(170) =  0.174, cos(170) = -0.985, tan(170) = -0.176\n",
      "sin(180) =  0.000, cos(180) = -1.000, tan(180) = -0.000\n"
     ]
    }
   ],
   "source": [
    "import math\n",
    "for i in range(0, 181, 10):\n",
    "    print('sin({:3}) = {: .3f}, cos({:3}) = {: .3f}, tan({:3}) = {: .3f}'\n",
    "          .format(i, math.sin(math.radians(i)), i, math.cos(math.radians(i)), i, math.tan(math.radians(i))))"
   ]
  },
  {
   "cell_type": "markdown",
   "id": "c826e720",
   "metadata": {},
   "source": [
    "7.6"
   ]
  },
  {
   "cell_type": "code",
   "execution_count": 25,
   "id": "6bf579ce",
   "metadata": {},
   "outputs": [
    {
     "name": "stdout",
     "output_type": "stream",
     "text": [
      "sqrt( 1) = 1.000\n",
      "sqrt( 2) = 1.414\n",
      "sqrt( 3) = 1.732\n",
      "sqrt( 4) = 2.000\n",
      "sqrt( 5) = 2.236\n",
      "sqrt( 6) = 2.449\n",
      "sqrt( 7) = 2.646\n",
      "sqrt( 8) = 2.828\n",
      "sqrt( 9) = 3.000\n",
      "sqrt(10) = 3.162\n"
     ]
    }
   ],
   "source": [
    "import math\n",
    "\n",
    "for i in range(1, 11):\n",
    "    print('sqrt({:2}) = {:.3f}'.format(i, math.sqrt(i)))"
   ]
  },
  {
   "cell_type": "markdown",
   "id": "1dc96021",
   "metadata": {},
   "source": [
    "7.8"
   ]
  },
  {
   "cell_type": "code",
   "execution_count": 27,
   "id": "27c43c05",
   "metadata": {},
   "outputs": [
    {
     "name": "stdout",
     "output_type": "stream",
     "text": [
      "로미오의 주사위 숫자는 4 입니다.\n",
      "줄리엣의 주사위 숫자는 5 입니다.\n",
      "줄리엣이 이겼습니다.\n"
     ]
    }
   ],
   "source": [
    "import random\n",
    "r = random.randrange(1, 7)\n",
    "j = random.randrange(1, 7)\n",
    "print('로미오의 주사위 숫자는', r, '입니다.')\n",
    "print('줄리엣의 주사위 숫자는', j, '입니다.')\n",
    "\n",
    "if r > j:\n",
    "    print('로미오가 이겼습니다.')\n",
    "elif r == j:\n",
    "    print('비겼습니다.')\n",
    "else:\n",
    "    print('줄리엣이 이겼습니다.')"
   ]
  },
  {
   "cell_type": "markdown",
   "id": "4f0e9374",
   "metadata": {},
   "source": [
    "7.9"
   ]
  },
  {
   "cell_type": "code",
   "execution_count": 33,
   "id": "071a1f1e",
   "metadata": {},
   "outputs": [
    {
     "name": "stdout",
     "output_type": "stream",
     "text": [
      "로미오의 승부: 바위\n",
      "줄리엣의 승부: 가위\n",
      "로미오가 이겼습니다.\n"
     ]
    }
   ],
   "source": [
    "import random\n",
    "G = {1:'가위', 2:'바위', 3:'보'}\n",
    "r = random.randrange(1, 4)\n",
    "j = random.randrange(1, 4)\n",
    "print('로미오의 승부:', G[r])\n",
    "print('줄리엣의 승부:', G[j])\n",
    "\n",
    "if r == 1:\n",
    "    if j == 2:\n",
    "        print('줄리엣이 이겼습니다.')\n",
    "    elif j == 3:\n",
    "        print('로미오가 이겼습니다.')\n",
    "    else:\n",
    "        print('비겼습니다.')\n",
    "\n",
    "if r == 2:\n",
    "    if j == 1:\n",
    "        print('로미오가 이겼습니다.')\n",
    "    elif j == 2:\n",
    "        print('비겼습니다.')\n",
    "    else:\n",
    "        print('줄리엣이 이겼습니다.')\n",
    "        \n",
    "if r == 3:\n",
    "    if j == 1:\n",
    "        print('줄리엣이 이겼습니다.')\n",
    "    elif j == 2:\n",
    "        print('로미오가 이겼습니다.')\n",
    "    else:\n",
    "        print('비겼습니다.')\n"
   ]
  },
  {
   "cell_type": "markdown",
   "id": "4c1df7c3",
   "metadata": {},
   "source": [
    "7.10"
   ]
  },
  {
   "cell_type": "code",
   "execution_count": 34,
   "id": "8e1edcc9",
   "metadata": {},
   "outputs": [
    {
     "name": "stdout",
     "output_type": "stream",
     "text": [
      "1~20까지의 숫자를 입력하세요: 3\n",
      "3 보다 큽니다!\n",
      "1~20까지의 숫자를 입력하세요: 9\n",
      "9 보다 큽니다!\n",
      "1~20까지의 숫자를 입력하세요: 11\n",
      "정답입니다!\n",
      "3번 만에 맞추셨네요. 잘했어요^^\n"
     ]
    }
   ],
   "source": [
    "import random\n",
    "x = random.randrange(1, 21)\n",
    "cnt = 0\n",
    "while True:\n",
    "    n = int(input('1~20까지의 숫자를 입력하세요: '))\n",
    "    cnt += 1\n",
    "    if x == n:\n",
    "        print('정답입니다!')\n",
    "        if cnt < 3:\n",
    "            print('{}번 만에 맞춘 당신은 천재!'.format(cnt))\n",
    "        elif cnt >= 3 and cnt <= 6:\n",
    "            print('{}번 만에 맞추셨네요. 잘했어요^^'.format(cnt))\n",
    "        else: \n",
    "            print('{}번 만에 맞추다니 쩝쩝...'.format(cnt))\n",
    "        break\n",
    "    elif x > n:\n",
    "        print(n, '보다 큽니다!')\n",
    "    else:\n",
    "        print(n, '보다 짝습니다!')"
   ]
  }
 ],
 "metadata": {
  "kernelspec": {
   "display_name": "Python 3 (ipykernel)",
   "language": "python",
   "name": "python3"
  },
  "language_info": {
   "codemirror_mode": {
    "name": "ipython",
    "version": 3
   },
   "file_extension": ".py",
   "mimetype": "text/x-python",
   "name": "python",
   "nbconvert_exporter": "python",
   "pygments_lexer": "ipython3",
   "version": "3.9.12"
  }
 },
 "nbformat": 4,
 "nbformat_minor": 5
}
