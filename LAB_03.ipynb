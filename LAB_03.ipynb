{
 "cells": [
  {
   "cell_type": "code",
   "execution_count": 2,
   "id": "36052ce0",
   "metadata": {},
   "outputs": [
    {
     "name": "stdout",
     "output_type": "stream",
     "text": [
      "game_score = 1000\n",
      "당신은 고수입니다\n",
      "\n",
      "\n"
     ]
    }
   ],
   "source": [
    "#LAB 3-1 \n",
    "#1\n",
    "game_score = int(input('game_score = '))\n",
    "if game_score >= 1000:\n",
    "    print('당신은 고수입니다')\n",
    "    \n",
    "print('\\n')"
   ]
  },
  {
   "cell_type": "code",
   "execution_count": 3,
   "id": "961dc617",
   "metadata": {},
   "outputs": [
    {
     "name": "stdout",
     "output_type": "stream",
     "text": [
      "num_a = 100\n",
      "num_b = 100\n",
      "두 값이 일치합니다.\n",
      "\n",
      "\n"
     ]
    }
   ],
   "source": [
    "#LAB 3-1\n",
    "#2\n",
    "num_a = int(input('num_a = '))\n",
    "num_b = int(input('num_b = '))\n",
    "\n",
    "if num_a == num_b:\n",
    "    print('두 값이 일치합니다.')\n",
    "    \n",
    "print('\\n')"
   ]
  },
  {
   "cell_type": "code",
   "execution_count": 4,
   "id": "79ecf8ef",
   "metadata": {},
   "outputs": [
    {
     "name": "stdout",
     "output_type": "stream",
     "text": [
      "정수를 입력하세요: 50\n",
      "n = 50\n",
      "50 은(는) 짝수입니다.\n",
      "\n",
      "\n"
     ]
    }
   ],
   "source": [
    "#LAB 3-2 \n",
    "#1\n",
    "number = int(input('정수를 입력하세요: '))\n",
    "print('n =', number)\n",
    "if number % 2 == 0:\n",
    "        print(number, '은(는) 짝수입니다.')\n",
    "        \n",
    "print('\\n')"
   ]
  },
  {
   "cell_type": "code",
   "execution_count": 5,
   "id": "468ed16d",
   "metadata": {},
   "outputs": [
    {
     "name": "stdout",
     "output_type": "stream",
     "text": [
      "정수를 입력하세요: -10\n",
      "n = -10\n",
      "\n",
      "\n"
     ]
    }
   ],
   "source": [
    "#LAB 3-2 \n",
    "#2\n",
    "number = int(input('정수를 입력하세요: '))\n",
    "print('n =', number)\n",
    "if number > 0:\n",
    "    print(number, '은(는) 자연수압니다.')\n",
    "    \n",
    "print('\\n')\n"
   ]
  },
  {
   "cell_type": "code",
   "execution_count": 6,
   "id": "ff0e8de8",
   "metadata": {},
   "outputs": [
    {
     "name": "stdout",
     "output_type": "stream",
     "text": [
      "게임점수를 입력하시오: 2000\n",
      "고수입니다.\n",
      "\n",
      "\n"
     ]
    }
   ],
   "source": [
    "#LAB 3-3 \n",
    "#1\n",
    "game_score = int(input('게임점수를 입력하시오: '))\n",
    "if game_score >= 1000:\n",
    "    print('고수입니다.')\n",
    "else:\n",
    "    print('입문자입니다.')\n",
    "\n",
    "print('\\n')"
   ]
  },
  {
   "cell_type": "code",
   "execution_count": 7,
   "id": "9b47baaf",
   "metadata": {},
   "outputs": [
    {
     "name": "stdout",
     "output_type": "stream",
     "text": [
      "한 정수를 입력하시오: 100\n",
      "다른 정수를 입력하시오: 200\n",
      "두 값이 일치하지 않습니다.\n",
      "\n",
      "\n"
     ]
    }
   ],
   "source": [
    "#LAB 3-3 \n",
    "#2\n",
    "num1 = int(input('한 정수를 입력하시오: '))\n",
    "num2 = int(input('다른 정수를 입력하시오: '))\n",
    "if num1 == num2:\n",
    "    print('두 값이 일치합니다.')\n",
    "else:\n",
    "    print('두 값이 일치하지 않습니다.')\n",
    "    \n",
    "print('\\n')"
   ]
  },
  {
   "cell_type": "code",
   "execution_count": 73,
   "id": "8e5ccb17",
   "metadata": {},
   "outputs": [
    {
     "name": "stdout",
     "output_type": "stream",
     "text": [
      "당신은 성인인가요(성인이면 1, 미성년이면 0): 0\n",
      "당신은 미성년자입니다.\n",
      "\n",
      "\n",
      "당신은 성인인가요(성인이면 1, 미성년이면 0): 1\n",
      "결혼을 하셨나요(기혼이면 1, 미혼이면 0)0\n",
      "당신은 결혼하지 않은 성인입니다.\n"
     ]
    }
   ],
   "source": [
    "#LAB 3-3\n",
    "#3-(1)\n",
    "adult_or_not = int(input('당신은 성인인가요(성인이면 1, 미성년이면 0): '))\n",
    "if adult_or_not == 0:\n",
    "    print('당신은 미성년자입니다.')\n",
    "print('\\n')\n",
    "\n",
    "#3-(2)\n",
    "adult_or_not = int(input('당신은 성인인가요(성인이면 1, 미성년이면 0): '))\n",
    "if adult_or_not == 1:\n",
    "    married_or_not = int(input('결혼을 하셨나요(기혼이면 1, 미혼이면 0)'))\n",
    "    if married_or_not == 1:\n",
    "        print('당신은 결혼한 성인입니다.')\n",
    "    else:\n",
    "        print('당신은 결혼하지 않은 성인입니다.')"
   ]
  },
  {
   "cell_type": "code",
   "execution_count": 8,
   "id": "755e9934",
   "metadata": {},
   "outputs": [
    {
     "name": "stdout",
     "output_type": "stream",
     "text": [
      "True\n",
      "\n",
      "\n"
     ]
    }
   ],
   "source": [
    "#LAB 3-4 \n",
    "#1\n",
    "num = 2\n",
    "if (num >= 1)and (num <= 10):\n",
    "    print('True')\n",
    "    \n",
    "print('\\n')"
   ]
  },
  {
   "cell_type": "code",
   "execution_count": 9,
   "id": "9c2a912b",
   "metadata": {},
   "outputs": [
    {
     "name": "stdout",
     "output_type": "stream",
     "text": [
      "age = 18\n",
      "청소년입니다.\n",
      "\n",
      "\n"
     ]
    }
   ],
   "source": [
    "#LAB 3-4 \n",
    "#2\n",
    "age = int(input('age = '))\n",
    "if (age > 10) and (age < 19):\n",
    "    print('청소년입니다.')\n",
    "\n",
    "print('\\n')"
   ]
  },
  {
   "cell_type": "code",
   "execution_count": 10,
   "id": "4d5b62bd",
   "metadata": {},
   "outputs": [
    {
     "name": "stdout",
     "output_type": "stream",
     "text": [
      "자동차의 속도를 입력하세요(단위: km/h): 60\n",
      "중속\n",
      "\n",
      "\n"
     ]
    }
   ],
   "source": [
    "#LAB 3-5 \n",
    "#1\n",
    "speed = int(input('자동차의 속도를 입력하세요(단위: km/h): '))\n",
    "if (speed >= 100):\n",
    "    print('고속')\n",
    "elif (60 <= speed < 100):\n",
    "    print('중속')\n",
    "else:\n",
    "    print('저속')\n",
    "    \n",
    "print('\\n')"
   ]
  },
  {
   "cell_type": "code",
   "execution_count": 13,
   "id": "5d5c2be8",
   "metadata": {},
   "outputs": [
    {
     "name": "stdout",
     "output_type": "stream",
     "text": [
      "미세먼지 농도를 입력하세요(단위: microgram/m^3): 33\n",
      "보통\n"
     ]
    }
   ],
   "source": [
    "#LAB 3-5\n",
    "#2\n",
    "dust = int(input('미세먼지 농도를 입력하세요(단위: microgram/m^3): '))\n",
    "if (dust >= 0) and (dust <= 15):\n",
    "    print('좋음')\n",
    "elif (dust >= 16) and (dust <= 35):\n",
    "    print('보통')\n",
    "elif (dust >= 36) and (dust <= 75):\n",
    "    print('나쁨')\n",
    "else:\n",
    "    print('매우 나쁨')"
   ]
  },
  {
   "cell_type": "code",
   "execution_count": 14,
   "id": "8d2d116f",
   "metadata": {},
   "outputs": [
    {
     "name": "stdout",
     "output_type": "stream",
     "text": [
      "Hello, Python!\n",
      "Hello, Python!\n",
      "Hello, Python!\n",
      "Hello, Python!\n",
      "Hello, Python!\n",
      "\n",
      "\n"
     ]
    }
   ],
   "source": [
    "#LAB 3-6 \n",
    "#1\n",
    "for i in range(5):\n",
    "    print('Hello, Python!')\n",
    "\n",
    "print('\\n')"
   ]
  },
  {
   "cell_type": "code",
   "execution_count": 15,
   "id": "19a9c78b",
   "metadata": {},
   "outputs": [
    {
     "name": "stdout",
     "output_type": "stream",
     "text": [
      "0\n",
      "1\n",
      "2\n",
      "3\n",
      "4\n",
      "\n",
      "\n"
     ]
    }
   ],
   "source": [
    "#LAB 3-6\n",
    "#2\n",
    "for i in range(5):\n",
    "    print(i)\n",
    "\n",
    "print('\\n')"
   ]
  },
  {
   "cell_type": "code",
   "execution_count": 16,
   "id": "b03f88ca",
   "metadata": {},
   "outputs": [
    {
     "name": "stdout",
     "output_type": "stream",
     "text": [
      "[1, 2, 3, 4, 5, 6, 7, 8, 9, 10, 11, 12, 13, 14, 15, 16, 17, 18, 19, 20, 21, 22, 23, 24, 25, 26, 27, 28, 29, 30, 31, 32, 33, 34, 35, 36, 37, 38, 39, 40, 41, 42, 43, 44, 45, 46, 47, 48, 49, 50, 51, 52, 53, 54, 55, 56, 57, 58, 59, 60, 61, 62, 63, 64, 65, 66, 67, 68, 69, 70, 71, 72, 73, 74, 75, 76, 77, 78, 79, 80, 81, 82, 83, 84, 85, 86, 87, 88, 89, 90, 91, 92, 93, 94, 95, 96, 97, 98, 99, 100]\n",
      "\n",
      "\n",
      "[2, 4, 6, 8, 10, 12, 14, 16, 18, 20, 22, 24, 26, 28, 30, 32, 34, 36, 38, 40, 42, 44, 46, 48, 50, 52, 54, 56, 58, 60, 62, 64, 66, 68, 70, 72, 74, 76, 78, 80, 82, 84, 86, 88, 90, 92, 94, 96, 98, 100]\n",
      "\n",
      "\n",
      "[1, 3, 5, 7, 9, 11, 13, 15, 17, 19, 21, 23, 25, 27, 29, 31, 33, 35, 37, 39, 41, 43, 45, 47, 49, 51, 53, 55, 57, 59, 61, 63, 65, 67, 69, 71, 73, 75, 77, 79, 81, 83, 85, 87, 89, 91, 93, 95, 97, 99]\n",
      "\n",
      "\n",
      "[-99, -98, -97, -96, -95, -94, -93, -92, -91, -90, -89, -88, -87, -86, -85, -84, -83, -82, -81, -80, -79, -78, -77, -76, -75, -74, -73, -72, -71, -70, -69, -68, -67, -66, -65, -64, -63, -62, -61, -60, -59, -58, -57, -56, -55, -54, -53, -52, -51, -50, -49, -48, -47, -46, -45, -44, -43, -42, -41, -40, -39, -38, -37, -36, -35, -34, -33, -32, -31, -30, -29, -28, -27, -26, -25, -24, -23, -22, -21, -20, -19, -18, -17, -16, -15, -14, -13, -12, -11, -10, -9, -8, -7, -6, -5, -4, -3, -2, -1]\n",
      "\n",
      "\n"
     ]
    }
   ],
   "source": [
    "#LAB 3-7 \n",
    "#1\n",
    "result1 = list(range(1, 101))\n",
    "print(result1)\n",
    "print('\\n')\n",
    "#2\n",
    "result2 = list(range(2, 101, 2))\n",
    "print(result2)\n",
    "print('\\n')\n",
    "#3\n",
    "result3 = list(range(1, 101, 2))\n",
    "print(result3)\n",
    "print('\\n')\n",
    "#4\n",
    "result4 = list(range(-99, 0))\n",
    "print(result4)\n",
    "print('\\n')"
   ]
  },
  {
   "cell_type": "code",
   "execution_count": 22,
   "id": "5251c9aa",
   "metadata": {},
   "outputs": [
    {
     "name": "stdout",
     "output_type": "stream",
     "text": [
      "1에서 100까지 정수의 합: 5050\n",
      "1에서 100까지 정수 중에서 짝수의 합: 2550\n",
      "1에서 100까지 정수 중에서 홀수의 합: 2500\n"
     ]
    }
   ],
   "source": [
    "#LAB 3-8\n",
    "#1\n",
    "sum1 = 0\n",
    "for i in range(1, 101):\n",
    "    sum1 = sum1 + i\n",
    "    \n",
    "print('1에서 100까지 정수의 합:', sum1)\n",
    "\n",
    "#2\n",
    "sum2 = 0\n",
    "for i in range(0, 101, 2):\n",
    "    sum2 = sum2 + i\n",
    "\n",
    "print('1에서 100까지 정수 중에서 짝수의 합:', sum2)\n",
    "\n",
    "#3\n",
    "sum3 = 0\n",
    "for i in range(1, 101, 2):\n",
    "    sum3 = sum3 + i\n",
    "\n",
    "print('1에서 100까지 정수 중에서 홀수의 합:', sum3)"
   ]
  },
  {
   "cell_type": "code",
   "execution_count": 66,
   "id": "184a9ffd",
   "metadata": {},
   "outputs": [
    {
     "name": "stdout",
     "output_type": "stream",
     "text": [
      "        #\n",
      "       #\n",
      "      #\n",
      "     #\n",
      "    #\n",
      "   #\n",
      "  #\n",
      "       #\n",
      "      #\n",
      "     #\n",
      "    #\n",
      "   #\n",
      "  #\n",
      " #\n"
     ]
    }
   ],
   "source": [
    "#LAB 3-9\n",
    "#이중 for 루프를 이용하는 경우\n",
    "n = 7\n",
    "for i in range(n):\n",
    "    st = ' '\n",
    "    for j in range(n - i):\n",
    "        st = st + ' '\n",
    "    print(st + '#')\n",
    "\n",
    "    \n",
    "#이중 for 루프를 이용하지 않는 경우\n",
    "n = 7 \n",
    "for i in range(n):\n",
    "    print(' ' * (n - i) + '#')"
   ]
  }
 ],
 "metadata": {
  "kernelspec": {
   "display_name": "Python 3 (ipykernel)",
   "language": "python",
   "name": "python3"
  },
  "language_info": {
   "codemirror_mode": {
    "name": "ipython",
    "version": 3
   },
   "file_extension": ".py",
   "mimetype": "text/x-python",
   "name": "python",
   "nbconvert_exporter": "python",
   "pygments_lexer": "ipython3",
   "version": "3.9.12"
  }
 },
 "nbformat": 4,
 "nbformat_minor": 5
}
