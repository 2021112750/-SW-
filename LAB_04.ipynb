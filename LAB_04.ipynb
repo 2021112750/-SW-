{
 "cells": [
  {
   "cell_type": "code",
   "execution_count": 1,
   "id": "3bec639f",
   "metadata": {},
   "outputs": [
    {
     "name": "stdout",
     "output_type": "stream",
     "text": [
      "************************\n",
      "************************\n",
      "************************\n",
      "************************\n",
      "************************\n",
      "************************\n"
     ]
    }
   ],
   "source": [
    "#LAB 4-1\n",
    "#1\n",
    "def print_star():\n",
    "    print('************************')\n",
    "    \n",
    "#2\n",
    "def print_star():\n",
    "    print('************************')\n",
    "\n",
    "print_star()\n",
    "print_star()\n",
    "print_star()\n",
    "print_star()\n",
    "print_star()\n",
    "print_star()"
   ]
  },
  {
   "cell_type": "code",
   "execution_count": 2,
   "id": "02915ec5",
   "metadata": {},
   "outputs": [
    {
     "name": "stdout",
     "output_type": "stream",
     "text": [
      "************************\n",
      "************************\n",
      "************************\n",
      "************************\n",
      "************************\n",
      "************************\n",
      "************************\n",
      "************************\n",
      "************************\n",
      "************************\n"
     ]
    }
   ],
   "source": [
    "#LAB 4-2\n",
    "def print_star5():\n",
    "    print('************************')\n",
    "    print('************************')\n",
    "    print('************************')\n",
    "    print('************************')\n",
    "    print('************************')\n",
    "\n",
    "print_star5()\n",
    "print_star5()"
   ]
  },
  {
   "cell_type": "code",
   "execution_count": 3,
   "id": "7a1ded61",
   "metadata": {},
   "outputs": [
    {
     "name": "stdout",
     "output_type": "stream",
     "text": [
      "########################\n",
      "************************\n",
      "++++++++++++++++++++++++\n",
      "++++++++++++++++++++++++\n",
      "************************\n",
      "########################\n"
     ]
    }
   ],
   "source": [
    "#LAB 4-3\n",
    "#1\n",
    "def print_star():\n",
    "    print('************************')\n",
    "\n",
    "def print_plus():\n",
    "    print('++++++++++++++++++++++++')\n",
    "\n",
    "def print_hash():\n",
    "    print('########################')\n",
    "    \n",
    "#2\n",
    "print_hash()\n",
    "print_star()\n",
    "print_plus()\n",
    "print_plus()\n",
    "print_star()\n",
    "print_hash()"
   ]
  },
  {
   "cell_type": "code",
   "execution_count": 4,
   "id": "77a1ef11",
   "metadata": {},
   "outputs": [
    {
     "name": "stdout",
     "output_type": "stream",
     "text": [
      "************************\n",
      "************************\n",
      "************************\n",
      "************************\n",
      "************************\n",
      "************************\n",
      "************************\n",
      "************************\n",
      "************************\n",
      "************************\n",
      "\n",
      "\n",
      "####################\n",
      "####################\n",
      "####################\n",
      "####################\n",
      "####################\n",
      "####################\n",
      "####################\n",
      "####################\n",
      "####################\n",
      "####################\n",
      "\n",
      "\n",
      "0 ####################\n",
      "1 ####################\n",
      "2 ####################\n",
      "3 ####################\n",
      "4 ####################\n",
      "5 ####################\n"
     ]
    }
   ],
   "source": [
    "#LAB 4-4\n",
    "#1\n",
    "def print_star(n):\n",
    "    for _ in range(n):\n",
    "        print('************************')\n",
    "\n",
    "print_star(10)\n",
    "print('\\n')\n",
    "\n",
    "#2\n",
    "def print_hash(n):\n",
    "    for _ in range(n):\n",
    "        print('####################')\n",
    "        \n",
    "print_hash(10)\n",
    "print('\\n')\n",
    "\n",
    "#3\n",
    "def print_hash(n):\n",
    "    for _ in range(n):\n",
    "        print(_, '####################')\n",
    "print_hash(6)"
   ]
  },
  {
   "cell_type": "code",
   "execution_count": 5,
   "id": "ad7a549a",
   "metadata": {},
   "outputs": [
    {
     "name": "stdout",
     "output_type": "stream",
     "text": [
      "10 과 20 의 합은 -10 입니다.\n",
      "10 과 20 의 곱은 200 입니다.\n"
     ]
    }
   ],
   "source": [
    "#LAB 4-5\n",
    "#1\n",
    "def print_sub(a, b):\n",
    "    result_sub = a - b\n",
    "    print(a, '과', b, '의 합은', result_sub, '입니다.')\n",
    "\n",
    "print_sub(10, 20)\n",
    "\n",
    "#2\n",
    "def print_mult(a, b):\n",
    "    result_mult = a * b\n",
    "    print(a, '과', b, '의 곱은', result_mult, '입니다.')\n",
    "    \n",
    "print_mult(10, 20)"
   ]
  },
  {
   "cell_type": "code",
   "execution_count": 6,
   "id": "70369540",
   "metadata": {},
   "outputs": [
    {
     "name": "stdout",
     "output_type": "stream",
     "text": [
      "해는 3.0 또는 -7.0\n",
      "해는 4.0 또는 2.0\n",
      "밑변 10 높이 20 인 삼각형의 면적은: 100.0\n"
     ]
    }
   ],
   "source": [
    "#LAB 4-6\n",
    "#1\n",
    "def print_root(a, b, c):\n",
    "    r1 = (-b + (b ** 2 - 4 * a * c) ** 0.5) / (2 * a)\n",
    "    r2 = (-b - (b ** 2 - 4 * a * c) ** 0.5) / (2 * a)\n",
    "    print('해는', r1, '또는',r2)\n",
    "    \n",
    "print_root(1, 4, -21)\n",
    "print_root(1, -6, 8)\n",
    "\n",
    "#2\n",
    "def print_area(width, height):\n",
    "    area = width * height * 0.5\n",
    "    print('밑변', width, '높이', height, '인 삼각형의 면적은:', area)\n",
    "\n",
    "print_area(10, 20)"
   ]
  },
  {
   "cell_type": "code",
   "execution_count": 7,
   "id": "157b93d9",
   "metadata": {},
   "outputs": [
    {
     "name": "stdout",
     "output_type": "stream",
     "text": [
      "반지름 10 인 원의 면적은 314.0 원의 둘레는 62.800000000000004\n"
     ]
    }
   ],
   "source": [
    "#LAB 4-7\n",
    "def circle_area_circum(radius):\n",
    "    area = radius * radius * 3.14\n",
    "    circum = radius * 2 * 3.14\n",
    "    return area, circum\n",
    "\n",
    "radius = 10\n",
    "area, circum = circle_area_circum(10)\n",
    "print('반지름', radius, '인 원의 면적은', area, '원의 둘레는', circum)"
   ]
  },
  {
   "cell_type": "code",
   "execution_count": 8,
   "id": "ae79e911",
   "metadata": {},
   "outputs": [
    {
     "name": "stdout",
     "output_type": "stream",
     "text": [
      "3 6 9 12\n",
      "2 4 6 8 10\n"
     ]
    }
   ],
   "source": [
    "#LAB 4-8\n",
    "def multiplies(n, m):\n",
    "    tup = ()    #빈 튜플 만들기\n",
    "    for i in range(1, m + 1):\n",
    "        tup = tup + (n * i, )   #튜플에 요소 추가하기 append 사용불가\n",
    "    return tup\n",
    "\n",
    "r1, r2, r3, r4 = multiplies(3, 4)    #3의 배수 4개\n",
    "print(r1, r2, r3, r4)\n",
    "\n",
    "r1, r2, r3, r4, r5 = multiplies(2, 5)    #2의 배수 5개\n",
    "print(r1, r2, r3, r4, r5)"
   ]
  },
  {
   "cell_type": "code",
   "execution_count": 9,
   "id": "96370d08",
   "metadata": {},
   "outputs": [
    {
     "name": "stdout",
     "output_type": "stream",
     "text": [
      "3 6 9 12\n",
      "2 4 6 8 10\n"
     ]
    }
   ],
   "source": [
    "#LAB 4-8\n",
    "#리스트 ---> 튜플형\n",
    "def multiplies(n, m):\n",
    "    result = []   #빈 리스트 생성\n",
    "    for i in range(1, m + 1):\n",
    "        result.append(i * n)    #리스트에 요소 추가\n",
    "    return result   #리스트 반환\n",
    "\n",
    "r1, r2, r3, r4 = multiplies(3, 4)    #3의 배수 4개\n",
    "print(r1, r2, r3, r4)\n",
    "\n",
    "r1, r2, r3, r4, r5 = multiplies(2, 5)    #2의 배수 5개\n",
    "print(r1, r2, r3, r4, r5)"
   ]
  },
  {
   "cell_type": "code",
   "execution_count": 10,
   "id": "25c980b6",
   "metadata": {},
   "outputs": [
    {
     "name": "stdout",
     "output_type": "stream",
     "text": [
      "Dr. Gildong Hong\n",
      "Gildpng Hong Dr.\n"
     ]
    }
   ],
   "source": [
    "#LAB 4-9\n",
    "def print_name(honorifics, first_name, last_name):\n",
    "    print(honorifics, first_name, last_name)\n",
    "    \n",
    "print_name(first_name = 'Gildong', last_name = 'Hong', honorifics ='Dr.')\n",
    "print_name('Gildpng', 'Hong', 'Dr.')"
   ]
  },
  {
   "cell_type": "code",
   "execution_count": 1,
   "id": "b35b72aa",
   "metadata": {
    "scrolled": false
   },
   "outputs": [
    {
     "name": "stdout",
     "output_type": "stream",
     "text": [
      "3 개의 인자 (10, 20, 30)\n",
      "합계: 60 평균: 20.0\n",
      "5 개의 인자 (10, 20, 30, 40, 50)\n",
      "합계: 150 평균: 30.0\n"
     ]
    },
    {
     "data": {
      "text/plain": [
       "(150, 30.0)"
      ]
     },
     "execution_count": 1,
     "metadata": {},
     "output_type": "execute_result"
    }
   ],
   "source": [
    "#LAB 4-10\n",
    "def sum_nums(*numbers):\n",
    "    result = 0\n",
    "    for n in numbers:\n",
    "        result += n\n",
    "        avg = result / len(numbers)\n",
    "        \n",
    "    print(len(numbers), '개의 인자', numbers)\n",
    "    print('합계:', result, '평균:', avg)\n",
    "    \n",
    "    return result, avg\n",
    "\n",
    "sum_nums(10, 20, 30)\n",
    "sum_nums(10, 20, 30, 40, 50)"
   ]
  },
  {
   "cell_type": "code",
   "execution_count": 11,
   "id": "894709c9",
   "metadata": {},
   "outputs": [
    {
     "name": "stdout",
     "output_type": "stream",
     "text": [
      "당신의 이름을 입력해주세요: 김철수\n",
      "나이를 입력해주세요: 21\n",
      "직업을 알려주세요: 학생\n",
      "사는 곳을 입력해 주세요: 창원시\n",
      "당신의 이름은 김철수, 나이는 21살, 직업은 학생, 사는 곳은 창원시입니다.\n",
      "당신의 이름은 김철수 나이는 21 살, 직업은 학생 사는 곳은 창원시 입니다.\n"
     ]
    }
   ],
   "source": [
    "#LAB 4-11\n",
    "name = input('당신의 이름을 입력해주세요: ')\n",
    "age = input('나이를 입력해주세요: ')\n",
    "job = input('직업을 알려주세요: ')\n",
    "home = input('사는 곳을 입력해 주세요: ')\n",
    "#1\n",
    "print('당신의 이름은 {}, 나이는 {}살, 직업은 {}, 사는 곳은 {}입니다.'.format(name, age, job, home))\n",
    "\n",
    "#2\n",
    "print('당신의 이름은', name, '나이는', age, '살, 직업은', job, '사는 곳은', home, '입니다.')"
   ]
  },
  {
   "cell_type": "code",
   "execution_count": 12,
   "id": "a4515df9",
   "metadata": {},
   "outputs": [
    {
     "name": "stdout",
     "output_type": "stream",
     "text": [
      "A_B_C_D\n",
      "My favorite thing is cartoons\n"
     ]
    }
   ],
   "source": [
    "#LAB 4-12\n",
    "#1\n",
    "print('_'.join('ABCD'))\n",
    "\n",
    "#2\n",
    "s = 'My favorite thing is monsters'\n",
    "print(s.replace('monsters', 'cartoons'))"
   ]
  }
 ],
 "metadata": {
  "kernelspec": {
   "display_name": "Python 3 (ipykernel)",
   "language": "python",
   "name": "python3"
  },
  "language_info": {
   "codemirror_mode": {
    "name": "ipython",
    "version": 3
   },
   "file_extension": ".py",
   "mimetype": "text/x-python",
   "name": "python",
   "nbconvert_exporter": "python",
   "pygments_lexer": "ipython3",
   "version": "3.9.12"
  }
 },
 "nbformat": 4,
 "nbformat_minor": 5
}
