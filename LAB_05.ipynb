{
 "cells": [
  {
   "cell_type": "code",
   "execution_count": 1,
   "id": "f0b30a54",
   "metadata": {},
   "outputs": [
    {
     "name": "stdout",
     "output_type": "stream",
     "text": [
      "even_list = [2, 4, 6, 8, 10]\n",
      "even_list = [2, 4, 6, 8, 10]\n",
      "nations = ['Korea', 'China', 'India', 'Nepal']\n",
      "friends = ['길동', '철수', '은지', '지은', '영민']\n",
      "string = ['X', 'Y', 'Z']\n"
     ]
    }
   ],
   "source": [
    "#LAB 5-1\n",
    "#1\n",
    "even_list = [2, 4, 6, 8, 10]\n",
    "print('even_list =', even_list)\n",
    "#2\n",
    "print('even_list =', list(range(2, 11, 2)))\n",
    "#3\n",
    "nations = ['Korea', 'China', 'India', 'Nepal']\n",
    "print('nations =', nations)\n",
    "#4\n",
    "friends = ['길동', '철수', '은지', '지은', '영민']\n",
    "print('friends =', friends)\n",
    "#5\n",
    "string = ['X', 'Y', 'Z']\n",
    "print('string =', string)"
   ]
  },
  {
   "cell_type": "code",
   "execution_count": 2,
   "id": "a01b48a6",
   "metadata": {},
   "outputs": [
    {
     "name": "stdout",
     "output_type": "stream",
     "text": [
      "prime_list 의 첫 원소: 2\n",
      "prime_list 의 마지막 원소: 7\n",
      "prime_list 의 마지막 원소: 7\n",
      "nations의 첫 원소: Korea\n",
      "nations의 마지막 원소: Malaysia\n",
      "nations의 마지막 원소: Malaysia\n"
     ]
    }
   ],
   "source": [
    "#LAB 5-2\n",
    "#1\n",
    "prime_list = [2, 3, 5, 7]\n",
    "print('prime_list 의 첫 원소:', prime_list[0])\n",
    "#2\n",
    "print('prime_list 의 마지막 원소:', prime_list[3])\n",
    "#3\n",
    "print('prime_list 의 마지막 원소:', prime_list[-1])\n",
    "#4\n",
    "nations = ['Korea', 'China', 'Russia', 'Malaysia']\n",
    "print('nations의 첫 원소:', nations[0])\n",
    "#5\n",
    "print('nations의 마지막 원소:', nations[-1])\n",
    "#6\n",
    "print('nations의 마지막 원소:', nations[len(nations)-1])"
   ]
  },
  {
   "cell_type": "code",
   "execution_count": 3,
   "id": "0c838eb6",
   "metadata": {},
   "outputs": [
    {
     "name": "stdout",
     "output_type": "stream",
     "text": [
      "소수 목록: [2, 3, 5, 7]\n",
      "추가 후 소수 목록: [2, 3, 5, 7, 11]\n",
      "삭제 전 소수 목록: [2, 3, 5, 7, 11]\n",
      "삭제 후 소수 목록: [2, 5, 7, 11]\n",
      "국가 목록: ['Korea', 'China', 'Russia', 'Malaysia']\n",
      "추가 후 국가 목록: ['Korea', 'China', 'Russia', 'Malaysia', 'Nepal']\n",
      "Japan 는(은) 국가 목록에 없습니다.\n",
      "Russia 는(은) 국가 목록에 있습니다.\n"
     ]
    }
   ],
   "source": [
    "#LAB 5-3\n",
    "#1\n",
    "prime_list = [2, 3, 5, 7]\n",
    "print('소수 목록:', prime_list)\n",
    "prime_list.append(11)\n",
    "print('추가 후 소수 목록:', prime_list)\n",
    "#2\n",
    "print('삭제 전 소수 목록:', prime_list)\n",
    "prime_list.remove(3)\n",
    "print('삭제 후 소수 목록:', prime_list)\n",
    "#3\n",
    "nations = ['Korea', 'China', 'Russia', 'Malaysia']\n",
    "print('국가 목록:', nations)\n",
    "nations.append('Nepal')\n",
    "print('추가 후 국가 목록:', nations)\n",
    "#4\n",
    "if('Japan' in nations):\n",
    "    print('Japan 는(은) 국가 목록에 있습니다.')\n",
    "else:\n",
    "    print('Japan 는(은) 국가 목록에 없습니다.')\n",
    "if('Russia' in nations):\n",
    "    print('Russia 는(은) 국가 목록에 있습니다.')\n",
    "else:\n",
    "    print('Russia 는(은) 국가 목록에 없습니다.')"
   ]
  },
  {
   "cell_type": "code",
   "execution_count": 4,
   "id": "9d2caba3",
   "metadata": {},
   "outputs": [
    {
     "name": "stdout",
     "output_type": "stream",
     "text": [
      "1에서 10까지의 소수: [2, 3, 5, 7]\n",
      "최솟값: 2\n",
      "최댓값: 7\n",
      "합계: 17\n",
      "평균값: 4.25\n",
      "국가 목록: ['Korea', 'China', 'Russia', 'Malaysia']\n",
      "사전에 가장 먼저 나오는 나라: China\n",
      "사전에 가장 뒤에 나온는 나라: Russia\n"
     ]
    }
   ],
   "source": [
    "#LAB 5-4\n",
    "#1\n",
    "prime_list = [2, 3, 5, 7]\n",
    "print('1에서 10까지의 소수:', prime_list)\n",
    "print('최솟값:', min(prime_list))\n",
    "print('최댓값:', max(prime_list))\n",
    "print('합계:', sum(prime_list))\n",
    "print('평균값:', sum(prime_list)/len(prime_list))\n",
    "#2\n",
    "nations = ['Korea', 'China', 'Russia', 'Malaysia']\n",
    "print('국가 목록:', nations)\n",
    "print('사전에 가장 먼저 나오는 나라:', min(nations))   #영어사전 순서로 가장 앞에있는 단어를 반환\n",
    "print('사전에 가장 뒤에 나온는 나라:', max(nations))   #영어사전 순서로 가장 뒤에 있는 단어를 반환"
   ]
  },
  {
   "cell_type": "code",
   "execution_count": 5,
   "id": "edda85ca",
   "metadata": {},
   "outputs": [
    {
     "name": "stdout",
     "output_type": "stream",
     "text": [
      "[1, 2, 3, [10, 20, 30]]\n",
      "[1, 2, 3, 10, 20, 30]\n",
      "nlist = [1, 2, 3, 4, 5, 6, 7, 8, 9, 10]\n",
      "nlist = [0, 1, 2, 3, 4, 5, 6, 7, 8, 9, 10]\n",
      "nlist = [10, 9, 8, 7, 6, 5, 4, 3, 2, 1, 0]\n",
      "마지막 원소 = 0\n",
      "nlist = [10, 9, 8, 7, 6, 5, 4, 3, 2, 1]\n"
     ]
    }
   ],
   "source": [
    "#LAB 5-5\n",
    "#1-(1)\n",
    "a = [1, 2, 3]\n",
    "b = [10, 20, 30]\n",
    "a.append(b)\n",
    "print(a)\n",
    "#1-(2)\n",
    "a = [1, 2, 3]\n",
    "b = [10, 20, 30]\n",
    "a.extend(b)\n",
    "print(a)\n",
    "#2\n",
    "nlist = list(range(1, 11))\n",
    "print('nlist =', nlist)\n",
    "#3\n",
    "nlist.insert(0, 0)   #nlist의 제일 앞에 0삽입\n",
    "print('nlist =', nlist)\n",
    "#4\n",
    "nlist.reverse()   #리스트의 원소를 역순으로 다시 배열\n",
    "print('nlist =', nlist)\n",
    "#5\n",
    "print('마지막 원소 =', nlist.pop())   #리스트의 마지막 원소를 삭제하고 반환\n",
    "print('nlist =', nlist)"
   ]
  },
  {
   "cell_type": "code",
   "execution_count": 6,
   "id": "92d5b802",
   "metadata": {},
   "outputs": [
    {
     "name": "stdout",
     "output_type": "stream",
     "text": [
      "반복할 정수를 입력하시오: 3\n",
      "[1, 2, 3, 1, 2, 3, 1, 2, 3]\n"
     ]
    }
   ],
   "source": [
    "#LAB 5-6\n",
    "#1\n",
    "list = [1, 2, 3]\n",
    "n = int(input('반복할 정수를 입력하시오: '))\n",
    "print(list * n)"
   ]
  },
  {
   "cell_type": "code",
   "execution_count": 7,
   "id": "badfea67",
   "metadata": {},
   "outputs": [
    {
     "name": "stdout",
     "output_type": "stream",
     "text": [
      "반복할 정수를 입력하시오: 4\n",
      "[1, 2, 3, 1, 2, 3, 1, 2, 3, 1, 2, 3]\n"
     ]
    }
   ],
   "source": [
    "#LAB 5-6\n",
    "#1\n",
    "list = [1, 2, 3]\n",
    "n = int(input('반복할 정수를 입력하시오: '))\n",
    "print(list * n)"
   ]
  },
  {
   "cell_type": "code",
   "execution_count": 1,
   "id": "44b95109",
   "metadata": {},
   "outputs": [
    {
     "name": "stdout",
     "output_type": "stream",
     "text": [
      "n_list = [0, 1, 2, 3, 4, 5, 6, 7, 8, 9, 10, 11, 12, 13, 14]\n",
      "s_list1 = [0, 1, 2, 3, 4]\n",
      "s_list2 = [5, 6, 7, 8, 9, 10]\n",
      "s_list3 = [11, 12, 13, 14]\n",
      "s_list4 = [2, 4, 6, 8, 10]\n",
      "s_list5 = [10, 9, 8, 7, 6]\n",
      "s_list6 = [10, 8, 6, 4, 2]\n"
     ]
    }
   ],
   "source": [
    "#LAB 5-7\n",
    "#1\n",
    "n_list = list(range(15))\n",
    "print('n_list =', n_list)\n",
    "#2\n",
    "print('s_list1 =', n_list[0:5])\n",
    "print('s_list2 =', n_list[5:11])\n",
    "print('s_list3 =', n_list[11:15])\n",
    "print('s_list4 =', n_list[2:11:2])\n",
    "print('s_list5 =', n_list[10:5:-1])\n",
    "print('s_list6 =', n_list[10:1:-2])"
   ]
  }
 ],
 "metadata": {
  "kernelspec": {
   "display_name": "Python 3 (ipykernel)",
   "language": "python",
   "name": "python3"
  },
  "language_info": {
   "codemirror_mode": {
    "name": "ipython",
    "version": 3
   },
   "file_extension": ".py",
   "mimetype": "text/x-python",
   "name": "python",
   "nbconvert_exporter": "python",
   "pygments_lexer": "ipython3",
   "version": "3.9.12"
  }
 },
 "nbformat": 4,
 "nbformat_minor": 5
}
