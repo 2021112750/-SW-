{
 "cells": [
  {
   "cell_type": "markdown",
   "id": "387e8394",
   "metadata": {},
   "source": [
    "8-1"
   ]
  },
  {
   "cell_type": "code",
   "execution_count": 9,
   "id": "00f2f8b8",
   "metadata": {},
   "outputs": [
    {
     "name": "stdout",
     "output_type": "stream",
     "text": [
      "두 수를 입력하시오: 일 5\n",
      "오류: 입력 값이 정수나 실수가 아님\n"
     ]
    }
   ],
   "source": [
    "#1\n",
    "try:\n",
    "    a, b = input('두 수를 입력하시오: ').split()\n",
    "    result = int(a) * int(b)\n",
    "    print('{} * {} = {}'.format(a, b, result))\n",
    "except:\n",
    "    print('오류: 입력 값이 정수나 실수가 아님')"
   ]
  },
  {
   "cell_type": "code",
   "execution_count": 8,
   "id": "26cc4706",
   "metadata": {},
   "outputs": [
    {
     "name": "stdout",
     "output_type": "stream",
     "text": [
      "두 수를 입력하시오: 25 0\n",
      "오류: 0으로 나누기를 시도했습니다.\n"
     ]
    }
   ],
   "source": [
    "#2\n",
    "try:\n",
    "    a, b = input('두 수를 입력하시오: ').split()\n",
    "    result = int(a) / int(b)\n",
    "    print('{} / {} = {}'.format(a, b, result))\n",
    "except:\n",
    "    print('오류: 0으로 나누기를 시도했습니다.')"
   ]
  },
  {
   "cell_type": "code",
   "execution_count": 7,
   "id": "22fa71d5",
   "metadata": {},
   "outputs": [
    {
     "name": "stdout",
     "output_type": "stream",
     "text": [
      "a_list: [200, 300, 400]\n",
      "구하고자 하는 값의 인덱스를 0, 1, 2 중에서 입력하시오: 3\n",
      "리스트 인덱스가 범위를 벗어났습니다.\n"
     ]
    }
   ],
   "source": [
    "#3\n",
    "try:\n",
    "    a_list = [200, 300, 400]\n",
    "    print('a_list:', a_list)\n",
    "    idx = int(input('구하고자 하는 값의 인덱스를 0, 1, 2 중에서 입력하시오: '))\n",
    "    result = a_list[idx]\n",
    "    print('결과:', result)\n",
    "except:\n",
    "    print('리스트 인덱스가 범위를 벗어났습니다.')"
   ]
  },
  {
   "cell_type": "code",
   "execution_count": 11,
   "id": "8e8683ec",
   "metadata": {},
   "outputs": [
    {
     "name": "stdout",
     "output_type": "stream",
     "text": [
      "읽어들일 파일 이름을 입력하세요: test.txt\n",
      "해당 파일이 없습니다.\n"
     ]
    }
   ],
   "source": [
    "#4\n",
    "try:\n",
    "    f_name = input('읽어들일 파일 이름을 입력하세요: ')\n",
    "    in_file = open(f_name, 'r')\n",
    "    buf = in_file.readline()\n",
    "    print(buf)\n",
    "except:\n",
    "    print('해당 파일이 없습니다.')"
   ]
  },
  {
   "cell_type": "markdown",
   "id": "25ecf0ab",
   "metadata": {},
   "source": [
    "8.3"
   ]
  },
  {
   "cell_type": "code",
   "execution_count": 31,
   "id": "6e068bb6",
   "metadata": {},
   "outputs": [],
   "source": [
    "f = open('hello.txt', 'w')\n",
    "f.write('Hello.\\n')\n",
    "f.write('Hi, there.\\n')\n",
    "f.close()"
   ]
  },
  {
   "cell_type": "code",
   "execution_count": 33,
   "id": "93999364",
   "metadata": {},
   "outputs": [
    {
     "name": "stdout",
     "output_type": "stream",
     "text": [
      "hello.txt 파일 :\n",
      "Hello.\n",
      "Hi, there.\n"
     ]
    }
   ],
   "source": [
    "f = open('hello.txt', 'r')\n",
    "print('hello.txt 파일 :')\n",
    "for i in range(2):\n",
    "    s = f.readline().rstrip()\n",
    "    print(s)"
   ]
  },
  {
   "cell_type": "code",
   "execution_count": 35,
   "id": "4d6852e9",
   "metadata": {},
   "outputs": [],
   "source": [
    "f = open('hello.txt', 'a+')\n",
    "f.write('Welcome to Python!\\n')\n",
    "f.close()"
   ]
  },
  {
   "cell_type": "code",
   "execution_count": 36,
   "id": "ab13ecac",
   "metadata": {},
   "outputs": [
    {
     "name": "stdout",
     "output_type": "stream",
     "text": [
      "hello.txt 파일 :\n",
      "Hello.\n",
      "Hi, there.\n",
      "Welcome to Python!\n"
     ]
    }
   ],
   "source": [
    "f = open('hello.txt', 'r')\n",
    "print('hello.txt 파일 :')\n",
    "for i in range(3):\n",
    "    s = f.readline().rstrip()\n",
    "    print(s)"
   ]
  },
  {
   "cell_type": "markdown",
   "id": "214e94f2",
   "metadata": {},
   "source": [
    "8.4"
   ]
  },
  {
   "cell_type": "code",
   "execution_count": 38,
   "id": "4d124b74",
   "metadata": {},
   "outputs": [],
   "source": [
    "try:\n",
    "    f = open('greet.txt', 'w')\n",
    "    f.write('Hi, everyone.\\n')\n",
    "    f.write('Welcome to Python.\\n')\n",
    "    f.close()\n",
    "except Exception as e:\n",
    "    print('쓰기 금지 모드')"
   ]
  },
  {
   "cell_type": "markdown",
   "id": "729725fe",
   "metadata": {},
   "source": [
    "8.5"
   ]
  },
  {
   "cell_type": "code",
   "execution_count": 48,
   "id": "22918fdf",
   "metadata": {},
   "outputs": [],
   "source": [
    "f = open('number1to10.txt', 'w')\n",
    "for i in range(1,11):\n",
    "    f.write('%d\\n' % i)\n",
    "f.close()"
   ]
  },
  {
   "cell_type": "markdown",
   "id": "9458c479",
   "metadata": {},
   "source": [
    "8.6"
   ]
  },
  {
   "cell_type": "code",
   "execution_count": 49,
   "id": "05ead8bb",
   "metadata": {},
   "outputs": [
    {
     "name": "stdout",
     "output_type": "stream",
     "text": [
      "number1to10.txt 파일을 읽었습니다.\n",
      "몇 번째 라인까지 출력하시겠습니까? 3\n",
      "1\n",
      "2\n",
      "3\n"
     ]
    }
   ],
   "source": [
    "f = open('number1to10.txt', 'r')\n",
    "print('number1to10.txt 파일을 읽었습니다.')\n",
    "n = int(input('몇 번째 라인까지 출력하시겠습니까? '))\n",
    "for i in range(1, n + 1):\n",
    "    s = f.readline().rstrip()\n",
    "    print(s)"
   ]
  },
  {
   "cell_type": "markdown",
   "id": "2864e685",
   "metadata": {},
   "source": [
    "8.8"
   ]
  },
  {
   "cell_type": "code",
   "execution_count": 64,
   "id": "35a16764",
   "metadata": {},
   "outputs": [],
   "source": [
    "#1\n",
    "import random\n",
    "f = open('random_numbers.txt', 'w')\n",
    "for i in range(10):\n",
    "    n = random.randint(1, 1000)\n",
    "    f.write('%d ' % n)"
   ]
  }
 ],
 "metadata": {
  "kernelspec": {
   "display_name": "Python 3 (ipykernel)",
   "language": "python",
   "name": "python3"
  },
  "language_info": {
   "codemirror_mode": {
    "name": "ipython",
    "version": 3
   },
   "file_extension": ".py",
   "mimetype": "text/x-python",
   "name": "python",
   "nbconvert_exporter": "python",
   "pygments_lexer": "ipython3",
   "version": "3.9.12"
  }
 },
 "nbformat": 4,
 "nbformat_minor": 5
}
