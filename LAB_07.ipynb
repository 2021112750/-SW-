{
 "cells": [
  {
   "cell_type": "markdown",
   "id": "65b3188e",
   "metadata": {},
   "source": [
    "LAB 7-1"
   ]
  },
  {
   "cell_type": "code",
   "execution_count": 22,
   "id": "55548cb9",
   "metadata": {},
   "outputs": [
    {
     "name": "stdout",
     "output_type": "stream",
     "text": [
      "오늘의 날짜 : 2022년 10월 13일\n",
      "현재시간: 오후9시 26분 10초\n"
     ]
    }
   ],
   "source": [
    "from datetime import datetime\n",
    "\n",
    "today = datetime.today()\n",
    "print('오늘의 날짜 : {}년 {}월 {}일'.format(today.year, today.month, today.day))\n",
    "\n",
    "now = datetime.now()\n",
    "if now.hour >= 12:\n",
    "    print('현재시간: 오후{}시 {}분 {}초'.format(now.hour - 12, now.minute, now.second))\n",
    "else: \n",
    "    print('현재시간: 오전{}시 {}분 {}초'.format(now.hour, now.minute, now.second))"
   ]
  },
  {
   "cell_type": "markdown",
   "id": "d78d0727",
   "metadata": {},
   "source": [
    "LAB 7-2"
   ]
  },
  {
   "cell_type": "code",
   "execution_count": 4,
   "id": "77a60ae8",
   "metadata": {},
   "outputs": [
    {
     "name": "stdout",
     "output_type": "stream",
     "text": [
      "오늘은 2022년 10월 14일입니다\n",
      "2025년 크리스마스 까지는 1167일 22시간 남았습니다.\n"
     ]
    }
   ],
   "source": [
    "#1\n",
    "import datetime as dt\n",
    "today = dt.date.today()\n",
    "print('오늘은 {}년 {}월 {}일입니다'.format(today.year, today.month, today.day))\n",
    "xMas = dt.datetime(2025, 12, 25)\n",
    "time_gap = xMas - dt.datetime.now()\n",
    "print('2025년 크리스마스 까지는 {}일 {}시간 남았습니다.'.format( \\\n",
    "time_gap.days,time_gap.seconds // 3600))"
   ]
  },
  {
   "cell_type": "code",
   "execution_count": 5,
   "id": "a151188a",
   "metadata": {},
   "outputs": [
    {
     "name": "stdout",
     "output_type": "stream",
     "text": [
      "오늘은 2022년 10월 14일입니다\n",
      "2036년 새해 까지는 4826일 22시간 남았습니다.\n"
     ]
    }
   ],
   "source": [
    "#2\n",
    "import datetime as dt\n",
    "today = dt.date.today()\n",
    "print('오늘은 {}년 {}월 {}일입니다'.format(today.year, today.month, today.day))\n",
    "NY = dt.datetime(2036, 1, 1)\n",
    "time_gap = NY - dt.datetime.now()\n",
    "print('2036년 새해 까지는 {}일 {}시간 남았습니다.'.format( \\\n",
    "time_gap.days,time_gap.seconds // 3600))"
   ]
  },
  {
   "cell_type": "code",
   "execution_count": 6,
   "id": "0920ed06",
   "metadata": {},
   "outputs": [
    {
     "name": "stdout",
     "output_type": "stream",
     "text": [
      "오늘은 2022년 10월 14일입니다\n",
      "2023년 생일까지는 319일 22시간 남았습니다.\n"
     ]
    }
   ],
   "source": [
    "#3\n",
    "import datetime as dt\n",
    "today = dt.date.today()\n",
    "print('오늘은 {}년 {}월 {}일입니다'.format(today.year, today.month, today.day))\n",
    "bd= dt.datetime(2023, 8, 30)\n",
    "time_gap = bd - dt.datetime.now()\n",
    "print('2023년 생일까지는 {}일 {}시간 남았습니다.'.format( \\\n",
    "time_gap.days,time_gap.seconds // 3600))"
   ]
  },
  {
   "cell_type": "markdown",
   "id": "6ff5c200",
   "metadata": {},
   "source": [
    "LAB 7-3"
   ]
  },
  {
   "cell_type": "code",
   "execution_count": 27,
   "id": "acfc2ce1",
   "metadata": {},
   "outputs": [
    {
     "name": "stdout",
     "output_type": "stream",
     "text": [
      "오늘 날짜로부터 1000일 후의 날짜: 2025-07-09 21:35:18.840495\n",
      "처음으로 사귄 연도와 월, 일을 입력하시오: 2019 03 30\n",
      "100일 기념일은: 2019년 7월 8일입니다.\n"
     ]
    }
   ],
   "source": [
    "#1\n",
    "import datetime as dt\n",
    "plus1000days = dt.datetime.now() + dt.timedelta(days = 1000)\n",
    "print('오늘 날짜로부터 1000일 후의 날짜:', plus1000days)\n",
    "\n",
    "#2\n",
    "from datetime import datetime, timedelta\n",
    "year, month, day = list(map(int, input('처음으로 사귄 연도와 월, 일을 입력하시오: ').split()))\n",
    "plus100days = datetime(year, month, day) + timedelta(days = 100)\n",
    "print('100일 기념일은: {}년 {}월 {}일입니다.'.format(plus100days.year, plus100days.month, plus100days.day))"
   ]
  },
  {
   "cell_type": "markdown",
   "id": "4da1650a",
   "metadata": {},
   "source": [
    "LAB 7-4"
   ]
  },
  {
   "cell_type": "code",
   "execution_count": 1,
   "id": "087fc4bb",
   "metadata": {},
   "outputs": [
    {
     "name": "stdout",
     "output_type": "stream",
     "text": [
      "4** 2 =      16.0\n",
      "4** 3 =      64.0\n",
      "4** 4 =     256.0\n",
      "4** 5 =    1024.0\n",
      "4** 6 =    4096.0\n",
      "4** 7 =   16384.0\n",
      "4** 8 =   65536.0\n",
      "4** 9 =  262144.0\n",
      "4**10 = 1048576.0\n"
     ]
    }
   ],
   "source": [
    "#1\n",
    "import math\n",
    "for i in range(2, 11):\n",
    "    print('4**{:2} = {:9.1f}'.format(i, pow(4, i)))"
   ]
  },
  {
   "cell_type": "code",
   "execution_count": 2,
   "id": "9a4c8753",
   "metadata": {},
   "outputs": [
    {
     "name": "stdout",
     "output_type": "stream",
     "text": [
      "  0 degree = 0.000 radian\n",
      " 10 degree = 0.175 radian\n",
      " 20 degree = 0.349 radian\n",
      " 30 degree = 0.524 radian\n",
      " 40 degree = 0.698 radian\n",
      " 50 degree = 0.873 radian\n",
      " 60 degree = 1.047 radian\n",
      " 70 degree = 1.222 radian\n",
      " 80 degree = 1.396 radian\n",
      " 90 degree = 1.571 radian\n",
      "100 degree = 1.745 radian\n",
      "110 degree = 1.920 radian\n",
      "120 degree = 2.094 radian\n",
      "130 degree = 2.269 radian\n",
      "140 degree = 2.443 radian\n",
      "150 degree = 2.618 radian\n",
      "160 degree = 2.793 radian\n",
      "170 degree = 2.967 radian\n",
      "180 degree = 3.142 radian\n"
     ]
    }
   ],
   "source": [
    "#2\n",
    "import math\n",
    "for i in range(0, 181, 10):\n",
    "    print('{:3} degree = {:4.3f} radian'.format(i, math.radians(i)))"
   ]
  },
  {
   "cell_type": "code",
   "execution_count": 3,
   "id": "404b4336",
   "metadata": {},
   "outputs": [
    {
     "name": "stdout",
     "output_type": "stream",
     "text": [
      "sin(   0) = 0.00\n",
      "sin(  10) = 0.17\n",
      "sin(  20) = 0.34\n",
      "sin(  30) = 0.50\n",
      "sin(  40) = 0.64\n",
      "sin(  50) = 0.77\n",
      "sin(  60) = 0.87\n",
      "sin(  70) = 0.94\n",
      "sin(  80) = 0.98\n",
      "sin(  90) = 1.00\n",
      "sin( 100) = 0.98\n",
      "sin( 110) = 0.94\n",
      "sin( 120) = 0.87\n",
      "sin( 130) = 0.77\n",
      "sin( 140) = 0.64\n",
      "sin( 150) = 0.50\n",
      "sin( 160) = 0.34\n",
      "sin( 170) = 0.17\n",
      "sin( 180) = 0.00\n"
     ]
    }
   ],
   "source": [
    "#3\n",
    "import math\n",
    "for i in range(0, 181, 10):\n",
    "    print('sin({:4}) = {:.2f}'.format(i, math.sin(math.radians(i))))"
   ]
  },
  {
   "cell_type": "markdown",
   "id": "cdc943c6",
   "metadata": {},
   "source": [
    "LAB 7-5"
   ]
  },
  {
   "cell_type": "code",
   "execution_count": 31,
   "id": "78b9f6fd",
   "metadata": {},
   "outputs": [
    {
     "name": "stdout",
     "output_type": "stream",
     "text": [
      "0에서 100 이하의 정수 중에서 5의 배수\n",
      "[5, 10, 40]\n",
      "1에서 10 사이의 임의의 정수: [9, 5, 8]\n"
     ]
    }
   ],
   "source": [
    "#1\n",
    "import random \n",
    "L = []\n",
    "for i in range(3):\n",
    "    L.append(random.randrange(0, 101, 5))\n",
    "print('0에서 100 이하의 정수 중에서 5의 배수')\n",
    "print(L)\n",
    "\n",
    "#2\n",
    "import random\n",
    "L = list(range(1, 11))\n",
    "print('1에서 10 사이의 임의의 정수:', random.sample(L, 3))"
   ]
  },
  {
   "cell_type": "markdown",
   "id": "d5987726",
   "metadata": {},
   "source": [
    "LAB 7-6"
   ]
  },
  {
   "cell_type": "code",
   "execution_count": 33,
   "id": "5fcd46ce",
   "metadata": {},
   "outputs": [
    {
     "name": "stdout",
     "output_type": "stream",
     "text": [
      "이번 주의 추천 로또번호\n",
      "[11, 17, 27, 28, 35, 36]\n",
      "[9, 16, 18, 37, 41, 43]\n",
      "[4, 5, 8, 15, 35, 39]\n",
      "[7, 10, 13, 27, 31, 38]\n",
      "[10, 16, 22, 32, 39, 43]\n",
      "이번 주의 당첨 로또번호 + 보너스\n",
      "[18, 25, 26, 28, 30, 45] + [7]\n"
     ]
    }
   ],
   "source": [
    "#1\n",
    "import random\n",
    "print('이번 주의 추천 로또번호')\n",
    "for i in range(5):\n",
    "    lotto_list = list(range(1, 46))   #1-45까지 생성\n",
    "    random.shuffle(lotto_list)   #임의의 순서로 섞기\n",
    "    lotto_list = lotto_list[:6]   #앞 부분 6개 선택\n",
    "    lotto_list.sort()   #선택된 6개의 숫자 오름차순 정렬\n",
    "    print(lotto_list)  \n",
    "    \n",
    "#2\n",
    "lotto_list = list(range(1, 46))   #1-45까지 생성\n",
    "lotto_list = random.sample(lotto_list, 6)   #임의의 값 6개 추출(샘플링)\n",
    "lotto_list.sort()   #선택된 6개의 숫자 오름차순 정렬\n",
    "bonus_list = random.sample(range(1, 46), 1)   #1-45까지의 숫자 중 임의의 값 1개 추출(샘플링)\n",
    "print('이번 주의 당첨 로또번호 + 보너스')\n",
    "print(lotto_list, '+', bonus_list)"
   ]
  },
  {
   "cell_type": "markdown",
   "id": "fa811abf",
   "metadata": {},
   "source": [
    "주사위 게임"
   ]
  },
  {
   "cell_type": "code",
   "execution_count": 40,
   "id": "1b0c6e31",
   "metadata": {},
   "outputs": [
    {
     "name": "stdout",
     "output_type": "stream",
     "text": [
      "a의 주사위는 5, b의 주사위는 5\n",
      "비겼습니다.\n",
      "a의 주사위는 4, b의 주사위는 4\n",
      "비겼습니다.\n",
      "a의 주사위는 1, b의 주사위는 3\n",
      "b가 이겼습니다.\n"
     ]
    }
   ],
   "source": [
    "import random\n",
    "while True:   #승부가 나면 while문 종료, 무승부면 승부가 날 때까지 반복\n",
    "    a = random.randrange(1, 7)   #1-6까지 임의의 수\n",
    "    b = random.randrange(1, 7)\n",
    "    print('a의 주사위는 {}, b의 주사위는 {}'.format(a, b))\n",
    "    \n",
    "    if a > b:   \n",
    "        print('a가 이겼습니다.')\n",
    "        break\n",
    "    elif a == b:\n",
    "        print('비겼습니다.')\n",
    "    else:\n",
    "        print('b가 이겼습니다.')\n",
    "        break"
   ]
  }
 ],
 "metadata": {
  "kernelspec": {
   "display_name": "Python 3 (ipykernel)",
   "language": "python",
   "name": "python3"
  },
  "language_info": {
   "codemirror_mode": {
    "name": "ipython",
    "version": 3
   },
   "file_extension": ".py",
   "mimetype": "text/x-python",
   "name": "python",
   "nbconvert_exporter": "python",
   "pygments_lexer": "ipython3",
   "version": "3.9.12"
  }
 },
 "nbformat": 4,
 "nbformat_minor": 5
}
