{
 "cells": [
  {
   "cell_type": "markdown",
   "id": "4c65d3de",
   "metadata": {},
   "source": [
    "LAB 9-1"
   ]
  },
  {
   "cell_type": "markdown",
   "id": "d75ddbc0",
   "metadata": {},
   "source": [
    "#1"
   ]
  },
  {
   "cell_type": "code",
   "execution_count": 1,
   "id": "0855d5a0",
   "metadata": {},
   "outputs": [
    {
     "data": {
      "text/plain": [
       "100"
      ]
     },
     "execution_count": 1,
     "metadata": {},
     "output_type": "execute_result"
    }
   ],
   "source": [
    "(200).__sub__(100)"
   ]
  },
  {
   "cell_type": "code",
   "execution_count": 2,
   "id": "79fedb24",
   "metadata": {},
   "outputs": [
    {
     "data": {
      "text/plain": [
       "20000"
      ]
     },
     "execution_count": 2,
     "metadata": {},
     "output_type": "execute_result"
    }
   ],
   "source": [
    "(200).__mul__(100)"
   ]
  },
  {
   "cell_type": "code",
   "execution_count": 3,
   "id": "f821e733",
   "metadata": {},
   "outputs": [
    {
     "data": {
      "text/plain": [
       "2.0"
      ]
     },
     "execution_count": 3,
     "metadata": {},
     "output_type": "execute_result"
    }
   ],
   "source": [
    "(200).__truediv__(100)"
   ]
  },
  {
   "cell_type": "markdown",
   "id": "c17f2601",
   "metadata": {},
   "source": [
    "#2"
   ]
  },
  {
   "cell_type": "code",
   "execution_count": 4,
   "id": "b439e875",
   "metadata": {},
   "outputs": [
    {
     "data": {
      "text/plain": [
       "40"
      ]
     },
     "execution_count": 4,
     "metadata": {},
     "output_type": "execute_result"
    }
   ],
   "source": [
    "[10, 20, 30, 40].pop()"
   ]
  },
  {
   "cell_type": "markdown",
   "id": "f6db2972",
   "metadata": {},
   "source": [
    "#3\n",
    "key(), get()"
   ]
  },
  {
   "cell_type": "markdown",
   "id": "7a92bb96",
   "metadata": {},
   "source": [
    "#4"
   ]
  },
  {
   "cell_type": "code",
   "execution_count": 6,
   "id": "e5f73b8b",
   "metadata": {},
   "outputs": [
    {
     "data": {
      "text/plain": [
       "['__abs__',\n",
       " '__add__',\n",
       " '__and__',\n",
       " '__bool__',\n",
       " '__ceil__',\n",
       " '__class__',\n",
       " '__delattr__',\n",
       " '__dir__',\n",
       " '__divmod__',\n",
       " '__doc__',\n",
       " '__eq__',\n",
       " '__float__',\n",
       " '__floor__',\n",
       " '__floordiv__',\n",
       " '__format__',\n",
       " '__ge__',\n",
       " '__getattribute__',\n",
       " '__getnewargs__',\n",
       " '__gt__',\n",
       " '__hash__',\n",
       " '__index__',\n",
       " '__init__',\n",
       " '__init_subclass__',\n",
       " '__int__',\n",
       " '__invert__',\n",
       " '__le__',\n",
       " '__lshift__',\n",
       " '__lt__',\n",
       " '__mod__',\n",
       " '__mul__',\n",
       " '__ne__',\n",
       " '__neg__',\n",
       " '__new__',\n",
       " '__or__',\n",
       " '__pos__',\n",
       " '__pow__',\n",
       " '__radd__',\n",
       " '__rand__',\n",
       " '__rdivmod__',\n",
       " '__reduce__',\n",
       " '__reduce_ex__',\n",
       " '__repr__',\n",
       " '__rfloordiv__',\n",
       " '__rlshift__',\n",
       " '__rmod__',\n",
       " '__rmul__',\n",
       " '__ror__',\n",
       " '__round__',\n",
       " '__rpow__',\n",
       " '__rrshift__',\n",
       " '__rshift__',\n",
       " '__rsub__',\n",
       " '__rtruediv__',\n",
       " '__rxor__',\n",
       " '__setattr__',\n",
       " '__sizeof__',\n",
       " '__str__',\n",
       " '__sub__',\n",
       " '__subclasshook__',\n",
       " '__truediv__',\n",
       " '__trunc__',\n",
       " '__xor__',\n",
       " 'as_integer_ratio',\n",
       " 'bit_length',\n",
       " 'conjugate',\n",
       " 'denominator',\n",
       " 'from_bytes',\n",
       " 'imag',\n",
       " 'numerator',\n",
       " 'real',\n",
       " 'to_bytes']"
      ]
     },
     "execution_count": 6,
     "metadata": {},
     "output_type": "execute_result"
    }
   ],
   "source": [
    "dir(int)"
   ]
  },
  {
   "cell_type": "markdown",
   "id": "0a0b8e55",
   "metadata": {},
   "source": [
    "#5"
   ]
  },
  {
   "cell_type": "code",
   "execution_count": 7,
   "id": "7d7360d6",
   "metadata": {},
   "outputs": [
    {
     "data": {
      "text/plain": [
       "['__add__',\n",
       " '__class__',\n",
       " '__class_getitem__',\n",
       " '__contains__',\n",
       " '__delattr__',\n",
       " '__delitem__',\n",
       " '__dir__',\n",
       " '__doc__',\n",
       " '__eq__',\n",
       " '__format__',\n",
       " '__ge__',\n",
       " '__getattribute__',\n",
       " '__getitem__',\n",
       " '__gt__',\n",
       " '__hash__',\n",
       " '__iadd__',\n",
       " '__imul__',\n",
       " '__init__',\n",
       " '__init_subclass__',\n",
       " '__iter__',\n",
       " '__le__',\n",
       " '__len__',\n",
       " '__lt__',\n",
       " '__mul__',\n",
       " '__ne__',\n",
       " '__new__',\n",
       " '__reduce__',\n",
       " '__reduce_ex__',\n",
       " '__repr__',\n",
       " '__reversed__',\n",
       " '__rmul__',\n",
       " '__setattr__',\n",
       " '__setitem__',\n",
       " '__sizeof__',\n",
       " '__str__',\n",
       " '__subclasshook__',\n",
       " 'append',\n",
       " 'clear',\n",
       " 'copy',\n",
       " 'count',\n",
       " 'extend',\n",
       " 'index',\n",
       " 'insert',\n",
       " 'pop',\n",
       " 'remove',\n",
       " 'reverse',\n",
       " 'sort']"
      ]
     },
     "execution_count": 7,
     "metadata": {},
     "output_type": "execute_result"
    }
   ],
   "source": [
    "dir(list)"
   ]
  },
  {
   "cell_type": "markdown",
   "id": "c18d1341",
   "metadata": {},
   "source": [
    "LAB 9-2"
   ]
  },
  {
   "cell_type": "markdown",
   "id": "4366757a",
   "metadata": {},
   "source": [
    "a) 객체 지향 프로그래밍(OPP) | 컴퓨터 프로그래밍 패러다임 중 하나로, 프로그래밍에서 필요한 데이터를 추상화시켜 상태와 행위를 가진 객체를 만들고 그 객체들 간의 유깆거인 상호작용을 통해 로직을 구성하는 프로그래밍 방법이다.\n"
   ]
  },
  {
   "cell_type": "markdown",
   "id": "dde657b7",
   "metadata": {},
   "source": [
    "b) 절차적 프로그래밍(PP) | 순차적인 처리를 중요시 여기며, 프로그램 전체가 유기적으로 연결되도록 만드는 프로그래밍 기법이다."
   ]
  },
  {
   "cell_type": "markdown",
   "id": "25dbd6a1",
   "metadata": {},
   "source": [
    "c) 그래픽 사용자 인터페이스(GUI) | 컴퓨터와 상호 작용하여 다양한 작업과 프로세스를 수행하는데 사용되는 시각적 인터페이스"
   ]
  },
  {
   "cell_type": "code",
   "execution_count": null,
   "id": "2bb6656e",
   "metadata": {},
   "outputs": [],
   "source": [
    "객체 지향 프로그래밍 기법의 장점\n",
    "- 코드의 재사용성과 가독성이 높음\n",
    "- 유지보수가 쉬움\n",
    "- 대형 프로젝트에 적합함\n",
    "객체 지향 프로그래밍 기법의 단점\n",
    "- 처리속도가 절차적 프로그래밍 기법에 비해 느림\n",
    "- 객체가 많아지면 용량이 커짐\n",
    "- 설계시 많은 시간과 노력이 필요함"
   ]
  },
  {
   "cell_type": "code",
   "execution_count": null,
   "id": "852da8a3",
   "metadata": {},
   "outputs": [],
   "source": [
    "절차적 프로그래밍 기법의 장점\n",
    "- 모듈 구성이 용이, 구조적인 프로그래밍이 가능함\n",
    "- 실행속도가 빠름\n",
    "절차적 프로그래밍 기법의 단점 \n",
    "- 유지보수가 어려움\n",
    "- 순서를 바꾸면 결과값을 보장할 수 없음\n",
    "- 가독성이 떨어짐\n",
    "- 대형 프로젝트에 부적합함"
   ]
  },
  {
   "cell_type": "markdown",
   "id": "9e999179",
   "metadata": {},
   "source": [
    "LAB 9-3"
   ]
  },
  {
   "cell_type": "markdown",
   "id": "8e3d7ec9",
   "metadata": {},
   "source": [
    "a) 클래스 | 프로그램 상에서 사용되는 속성과 행위를 모아놓은 집합체, 객체의 설계도, 템플릿, 청사진"
   ]
  },
  {
   "cell_type": "markdown",
   "id": "0e879f59",
   "metadata": {},
   "source": [
    "b) 객체 | 클래스에 선언된 모양 그대로 생성된 실체, '클래스의 인스턴스'라고 부름"
   ]
  },
  {
   "cell_type": "markdown",
   "id": "6c476cca",
   "metadata": {},
   "source": [
    "c) 인스턴스 | 클래스를 통해서 구형해야 할 대상(객체)이 실제로 구현된 구체적인 실체"
   ]
  },
  {
   "cell_type": "markdown",
   "id": "16892be5",
   "metadata": {},
   "source": [
    "d) 클래스의 속성 | 모든 인스턴스가 공유, 인스턴스 전체가 사용해야 하는 값을 저장할 때 사용"
   ]
  },
  {
   "cell_type": "markdown",
   "id": "a5fc4ce4",
   "metadata": {},
   "source": [
    "e) 클래스의 동작 | 인스턴스별로 독립되어 있음, 각 인스턴스가 값을 따로 저장해야 할 때 사용\n"
   ]
  },
  {
   "cell_type": "markdown",
   "id": "8b8485df",
   "metadata": {},
   "source": [
    "LAB 9-4\n"
   ]
  },
  {
   "cell_type": "code",
   "execution_count": 10,
   "id": "ea4d4a5e",
   "metadata": {},
   "outputs": [
    {
     "name": "stdout",
     "output_type": "stream",
     "text": [
      "멍멍~~\n"
     ]
    }
   ],
   "source": [
    "class Dog:\n",
    "    def bark(self):\n",
    "        print('멍멍~~')\n",
    "\n",
    "my_dog = Dog()\n",
    "my_dog.bark()"
   ]
  },
  {
   "cell_type": "markdown",
   "id": "a12107a1",
   "metadata": {},
   "source": [
    "LAB 9-5\n"
   ]
  },
  {
   "cell_type": "code",
   "execution_count": 11,
   "id": "4006026a",
   "metadata": {},
   "outputs": [
    {
     "name": "stdout",
     "output_type": "stream",
     "text": [
      "Jindo, 멍멍~~\n"
     ]
    }
   ],
   "source": [
    "class Dog:\n",
    "    def __init__(self, name):\n",
    "        self.name = name\n",
    "    def bark(self):\n",
    "        print('{}, 멍멍~~'.format(self.name))\n",
    "\n",
    "my_dog = Dog('Jindo')\n",
    "my_dog.bark()"
   ]
  },
  {
   "cell_type": "markdown",
   "id": "a7fa6220",
   "metadata": {},
   "source": [
    "LAB 9-6\t\n"
   ]
  },
  {
   "cell_type": "code",
   "execution_count": 12,
   "id": "fa006c49",
   "metadata": {},
   "outputs": [
    {
     "name": "stdout",
     "output_type": "stream",
     "text": [
      "my_dog의 정보 : Dog(name = Jindo)\n"
     ]
    }
   ],
   "source": [
    "class Dog:\n",
    "    def __init__(self,name):\n",
    "        self.name = name\n",
    "    def __str__(self):\n",
    "        return 'Dog(name = ' + self.name + ')'\n",
    "\n",
    "my_dog = Dog('Jindo')\n",
    "\n",
    "print('my_dog의 정보 :',my_dog)"
   ]
  },
  {
   "cell_type": "markdown",
   "id": "adeadec9",
   "metadata": {},
   "source": [
    "LAB 9-7"
   ]
  },
  {
   "cell_type": "code",
   "execution_count": 13,
   "id": "42c96ae0",
   "metadata": {},
   "outputs": [
    {
     "name": "stdout",
     "output_type": "stream",
     "text": [
      "n is m\n"
     ]
    }
   ],
   "source": [
    "n = 100\n",
    "m = 100\n",
    "if n is m:\n",
    "    print('n is m')\n",
    "else:\n",
    "    print('n is not m')"
   ]
  },
  {
   "cell_type": "markdown",
   "id": "1b60c495",
   "metadata": {},
   "source": [
    "is는 Object의 id()를 비교하고, ==는 Object의 Value(값)을 비교한다.\n",
    "가변객체(리스트, 딕셔너리, 집합 등)이 아닌 불변객체(숫자, 문자열)\n",
    "n, m은 숫자 즉 불변객체이므로 is의 id()의 값이 같다."
   ]
  },
  {
   "cell_type": "markdown",
   "id": "82e079bf",
   "metadata": {},
   "source": [
    "LAB 9-8\n"
   ]
  },
  {
   "cell_type": "code",
   "execution_count": 14,
   "id": "634d062e",
   "metadata": {},
   "outputs": [
    {
     "name": "stdout",
     "output_type": "stream",
     "text": [
      "v1 * v2 = (300, 800)\n",
      "v1 / v2 = (3.0, 2.0)\n"
     ]
    }
   ],
   "source": [
    "#1\n",
    "class Vector2D:\n",
    "    def __init__(self, x, y):\n",
    "        self.x = x\n",
    "        self.y = y\n",
    "    def __mul__(self, other):\n",
    "        return Vector2D(self.x * other.x, self.y * other.y)\n",
    "    def __truediv__(self, other):\n",
    "        return Vector2D(self.x / other.x, self.y / other.y)\n",
    "    def __str__(self):\n",
    "        return'({}, {})'.format(self.x, self.y)\n",
    "    \n",
    "v1 = Vector2D(30, 40)\n",
    "v2 = Vector2D(10, 20)\n",
    "v3 = v1 * v2\n",
    "print('v1 * v2 =', v3)\n",
    "v4 = v1 / v2\n",
    "print('v1 / v2 =', v4)"
   ]
  },
  {
   "cell_type": "code",
   "execution_count": 19,
   "id": "0ba8fa77",
   "metadata": {},
   "outputs": [
    {
     "name": "stdout",
     "output_type": "stream",
     "text": [
      "-v1 = (-10, -20)\n"
     ]
    }
   ],
   "source": [
    "#2\n",
    "class Vector:\n",
    "    def __init__(self, x, y):\n",
    "        self.x = x\n",
    "        self.y = y\n",
    "    def __neg__(self):\n",
    "        return Vector(-self.x, -self.y)\n",
    "    def __str__(self):\n",
    "        return '({}, {})'.format(-self.x, -self.y)\n",
    "v1 = Vector(10, 20)\n",
    "print('-v1 =', v1)"
   ]
  },
  {
   "cell_type": "markdown",
   "id": "8a16927d",
   "metadata": {},
   "source": [
    "LAB 9-9\n"
   ]
  },
  {
   "cell_type": "code",
   "execution_count": null,
   "id": "238e4248",
   "metadata": {},
   "outputs": [],
   "source": []
  },
  {
   "cell_type": "markdown",
   "id": "3c932092",
   "metadata": {},
   "source": [
    "LAB 9-10\n"
   ]
  },
  {
   "cell_type": "code",
   "execution_count": 20,
   "id": "713abcd4",
   "metadata": {},
   "outputs": [
    {
     "name": "stdout",
     "output_type": "stream",
     "text": [
      "{'width': 100, 'height': 200}\n"
     ]
    },
    {
     "ename": "AttributeError",
     "evalue": "'Rect' object has no attribute 'dict__'",
     "output_type": "error",
     "traceback": [
      "\u001b[1;31m---------------------------------------------------------------------------\u001b[0m",
      "\u001b[1;31mAttributeError\u001b[0m                            Traceback (most recent call last)",
      "Input \u001b[1;32mIn [20]\u001b[0m, in \u001b[0;36m<cell line: 8>\u001b[1;34m()\u001b[0m\n\u001b[0;32m      6\u001b[0m r1 \u001b[38;5;241m=\u001b[39m Rect(\u001b[38;5;241m100\u001b[39m, \u001b[38;5;241m200\u001b[39m)\n\u001b[0;32m      7\u001b[0m \u001b[38;5;28mprint\u001b[39m(r1\u001b[38;5;241m.\u001b[39m\u001b[38;5;18m__dict__\u001b[39m)\n\u001b[1;32m----> 8\u001b[0m \u001b[38;5;28mprint\u001b[39m(\u001b[43mr1\u001b[49m\u001b[38;5;241;43m.\u001b[39;49m\u001b[43mdict__\u001b[49m[\u001b[38;5;124m'\u001b[39m\u001b[38;5;124mwidth\u001b[39m\u001b[38;5;124m'\u001b[39m])\n",
      "\u001b[1;31mAttributeError\u001b[0m: 'Rect' object has no attribute 'dict__'"
     ]
    }
   ],
   "source": [
    "#1\n",
    "class Rect:\n",
    "    def __init__(self, width, height):\n",
    "        self.width = width\n",
    "        self.height = height\n",
    "r1 = Rect(100, 200)\n",
    "print(r1.__dict__)\n",
    "print(r1.dict__['width'])"
   ]
  },
  {
   "cell_type": "code",
   "execution_count": 21,
   "id": "51424027",
   "metadata": {},
   "outputs": [
    {
     "name": "stdout",
     "output_type": "stream",
     "text": [
      "{'_Rect__width': 100, '_Rect__height': 200}\n"
     ]
    },
    {
     "ename": "AttributeError",
     "evalue": "'Rect' object has no attribute '__dict'",
     "output_type": "error",
     "traceback": [
      "\u001b[1;31m---------------------------------------------------------------------------\u001b[0m",
      "\u001b[1;31mAttributeError\u001b[0m                            Traceback (most recent call last)",
      "Input \u001b[1;32mIn [21]\u001b[0m, in \u001b[0;36m<cell line: 9>\u001b[1;34m()\u001b[0m\n\u001b[0;32m      7\u001b[0m r1 \u001b[38;5;241m=\u001b[39m Rect(\u001b[38;5;241m100\u001b[39m, \u001b[38;5;241m200\u001b[39m)\n\u001b[0;32m      8\u001b[0m \u001b[38;5;28mprint\u001b[39m(r1\u001b[38;5;241m.\u001b[39m\u001b[38;5;18m__dict__\u001b[39m)\n\u001b[1;32m----> 9\u001b[0m \u001b[38;5;28mprint\u001b[39m(\u001b[43mr1\u001b[49m\u001b[38;5;241;43m.\u001b[39;49m\u001b[43m__dict\u001b[49m[\u001b[38;5;124m'\u001b[39m\u001b[38;5;124m_Rect__width\u001b[39m\u001b[38;5;124m'\u001b[39m])\n",
      "\u001b[1;31mAttributeError\u001b[0m: 'Rect' object has no attribute '__dict'"
     ]
    }
   ],
   "source": [
    "#2\n",
    "class Rect:\n",
    "    def __init__(self, width, height):\n",
    "        self.__width = width\n",
    "        self.__height = height\n",
    "        \n",
    "r1 = Rect(100, 200)\n",
    "print(r1.__dict__)\n",
    "print(r1.__dict['_Rect__width'])"
   ]
  },
  {
   "cell_type": "markdown",
   "id": "29e36e43",
   "metadata": {},
   "source": [
    "LAB 9-11"
   ]
  },
  {
   "cell_type": "code",
   "execution_count": null,
   "id": "c18f685a",
   "metadata": {},
   "outputs": [],
   "source": [
    "a = 100\n",
    "b = a\n",
    "id(a) == id(b)\n",
    "True\n",
    "id(b) == id(100)\n",
    "True\n",
    "id(a) == id(b)\n",
    "True\n",
    "a = 200\n",
    "id(a) == id(200)\n",
    "True\n",
    "id(b) == id(200)\n",
    "False\n",
    "id(a) == id(b)\n",
    "False"
   ]
  },
  {
   "cell_type": "markdown",
   "id": "1fbfbb46",
   "metadata": {},
   "source": [
    "클래스변수: 모든 객체를 통틀어서 하나만 생성되고 모든 객체가 이것을 공유"
   ]
  }
 ],
 "metadata": {
  "kernelspec": {
   "display_name": "Python 3 (ipykernel)",
   "language": "python",
   "name": "python3"
  },
  "language_info": {
   "codemirror_mode": {
    "name": "ipython",
    "version": 3
   },
   "file_extension": ".py",
   "mimetype": "text/x-python",
   "name": "python",
   "nbconvert_exporter": "python",
   "pygments_lexer": "ipython3",
   "version": "3.9.12"
  }
 },
 "nbformat": 4,
 "nbformat_minor": 5
}
