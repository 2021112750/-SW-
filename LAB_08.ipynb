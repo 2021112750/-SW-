{
 "cells": [
  {
   "cell_type": "markdown",
   "id": "96c9d708",
   "metadata": {},
   "source": [
    "LAB 8-1"
   ]
  },
  {
   "cell_type": "code",
   "execution_count": 1,
   "id": "0a802cc7",
   "metadata": {},
   "outputs": [
    {
     "ename": "IndexError",
     "evalue": "list index out of range",
     "output_type": "error",
     "traceback": [
      "\u001b[1;31m---------------------------------------------------------------------------\u001b[0m",
      "\u001b[1;31mIndexError\u001b[0m                                Traceback (most recent call last)",
      "Input \u001b[1;32mIn [1]\u001b[0m, in \u001b[0;36m<cell line: 2>\u001b[1;34m()\u001b[0m\n\u001b[0;32m      1\u001b[0m a \u001b[38;5;241m=\u001b[39m [\u001b[38;5;241m10\u001b[39m, \u001b[38;5;241m20\u001b[39m, \u001b[38;5;241m30\u001b[39m]\n\u001b[1;32m----> 2\u001b[0m \u001b[43ma\u001b[49m\u001b[43m[\u001b[49m\u001b[38;5;241;43m3\u001b[39;49m\u001b[43m]\u001b[49m\n",
      "\u001b[1;31mIndexError\u001b[0m: list index out of range"
     ]
    }
   ],
   "source": [
    "a = [10, 20, 30]\n",
    "a[3]"
   ]
  },
  {
   "cell_type": "code",
   "execution_count": 2,
   "id": "64bb43ad",
   "metadata": {},
   "outputs": [
    {
     "ename": "ValueError",
     "evalue": "invalid literal for int() with base 10: '20%'",
     "output_type": "error",
     "traceback": [
      "\u001b[1;31m---------------------------------------------------------------------------\u001b[0m",
      "\u001b[1;31mValueError\u001b[0m                                Traceback (most recent call last)",
      "Input \u001b[1;32mIn [2]\u001b[0m, in \u001b[0;36m<cell line: 1>\u001b[1;34m()\u001b[0m\n\u001b[1;32m----> 1\u001b[0m n \u001b[38;5;241m=\u001b[39m \u001b[38;5;28;43mint\u001b[39;49m\u001b[43m(\u001b[49m\u001b[38;5;124;43m'\u001b[39;49m\u001b[38;5;124;43m20\u001b[39;49m\u001b[38;5;124;43m%\u001b[39;49m\u001b[38;5;124;43m'\u001b[39;49m\u001b[43m)\u001b[49m\n",
      "\u001b[1;31mValueError\u001b[0m: invalid literal for int() with base 10: '20%'"
     ]
    }
   ],
   "source": [
    "n = int('20%')"
   ]
  },
  {
   "cell_type": "code",
   "execution_count": 3,
   "id": "a496d327",
   "metadata": {},
   "outputs": [
    {
     "ename": "TypeError",
     "evalue": "unsupported operand type(s) for +: 'int' and 'str'",
     "output_type": "error",
     "traceback": [
      "\u001b[1;31m---------------------------------------------------------------------------\u001b[0m",
      "\u001b[1;31mTypeError\u001b[0m                                 Traceback (most recent call last)",
      "Input \u001b[1;32mIn [3]\u001b[0m, in \u001b[0;36m<cell line: 1>\u001b[1;34m()\u001b[0m\n\u001b[1;32m----> 1\u001b[0m a \u001b[38;5;241m=\u001b[39m \u001b[38;5;241;43m100\u001b[39;49m\u001b[43m \u001b[49m\u001b[38;5;241;43m+\u001b[39;49m\u001b[43m \u001b[49m\u001b[38;5;124;43m'\u001b[39;49m\u001b[38;5;124;43m200\u001b[39;49m\u001b[38;5;124;43m'\u001b[39;49m\n",
      "\u001b[1;31mTypeError\u001b[0m: unsupported operand type(s) for +: 'int' and 'str'"
     ]
    }
   ],
   "source": [
    "a = 100 + '200'"
   ]
  },
  {
   "cell_type": "code",
   "execution_count": 4,
   "id": "d61ce036",
   "metadata": {},
   "outputs": [
    {
     "name": "stdout",
     "output_type": "stream",
     "text": [
      "error: list index out of range\n"
     ]
    }
   ],
   "source": [
    "try:\n",
    "    a = [10, 20, 30]\n",
    "    a[3]\n",
    "except Exception as e:\n",
    "    print('error:', e)"
   ]
  },
  {
   "cell_type": "code",
   "execution_count": 5,
   "id": "43651f46",
   "metadata": {},
   "outputs": [
    {
     "name": "stdout",
     "output_type": "stream",
     "text": [
      "error: invalid literal for int() with base 10: '20%'\n"
     ]
    }
   ],
   "source": [
    "try:\n",
    "    n = int('20%')\n",
    "except Exception as e:\n",
    "    print('error:', e)"
   ]
  },
  {
   "cell_type": "code",
   "execution_count": 6,
   "id": "7d42bdf7",
   "metadata": {},
   "outputs": [
    {
     "name": "stdout",
     "output_type": "stream",
     "text": [
      "error: unsupported operand type(s) for +: 'int' and 'str'\n"
     ]
    }
   ],
   "source": [
    "try:\n",
    "    a = 100 + '200'\n",
    "except Exception as e:\n",
    "    print('error:',e)"
   ]
  },
  {
   "cell_type": "markdown",
   "id": "c4a4ba0f",
   "metadata": {},
   "source": [
    "LAB 8-2"
   ]
  },
  {
   "cell_type": "code",
   "execution_count": 7,
   "id": "5c3e5925",
   "metadata": {},
   "outputs": [
    {
     "name": "stdout",
     "output_type": "stream",
     "text": [
      "0으로 나눔을 시도했습니다\n"
     ]
    }
   ],
   "source": [
    "try:\n",
    "    test = 10 * (30 / 0)\n",
    "except ZeroDivisionError:\n",
    "    print('0으로 나눔을 시도했습니다')"
   ]
  },
  {
   "cell_type": "code",
   "execution_count": 9,
   "id": "10168847",
   "metadata": {},
   "outputs": [
    {
     "name": "stdout",
     "output_type": "stream",
     "text": [
      "정수 x를 입력하세요: 일\n",
      "오류: 정수를 입력하세요\n"
     ]
    }
   ],
   "source": [
    "try:\n",
    "    x = int(input('정수 x를 입력하세요: '))\n",
    "except:\n",
    "    print('오류: 정수를 입력하세요')"
   ]
  },
  {
   "cell_type": "code",
   "execution_count": 10,
   "id": "058c1af2",
   "metadata": {},
   "outputs": [
    {
     "name": "stdout",
     "output_type": "stream",
     "text": [
      "파일이 없습니다\n"
     ]
    }
   ],
   "source": [
    "import sys\n",
    "try:\n",
    "    f = open('myfile.txt')\n",
    "    s = f.readline()\n",
    "except:\n",
    "    print('파일이 없습니다')"
   ]
  },
  {
   "cell_type": "markdown",
   "id": "afffe85e",
   "metadata": {},
   "source": [
    "LAB 8-3"
   ]
  },
  {
   "cell_type": "code",
   "execution_count": 11,
   "id": "2b147d8e",
   "metadata": {},
   "outputs": [
    {
     "name": "stdout",
     "output_type": "stream",
     "text": [
      "a = [1, 2, 3, 4, 5]\n",
      "a의 요소를 하나 선택하시오: 2\n",
      "2은(는) 2번째 요소입니다.\n"
     ]
    }
   ],
   "source": [
    "a = [1, 2, 3, 4, 5]\n",
    "print('a =', a)\n",
    "try:\n",
    "    i = int(input('a의 요소를 하나 선택하시오: '))\n",
    "    print('{}은(는) {}번째 요소입니다.'.format(i, a.index(i) + 1))\n",
    "except:\n",
    "    print('{}이(가) a에 없습니다.'.format(i))"
   ]
  },
  {
   "cell_type": "code",
   "execution_count": 13,
   "id": "42fc4d4f",
   "metadata": {},
   "outputs": [
    {
     "name": "stdout",
     "output_type": "stream",
     "text": [
      "a = [1, 2, 3, 4, 5]\n",
      "a의 요소를 하나 선택하시오: 삼\n",
      "오류: 입력 값이 정수나 실수가 아님\n"
     ]
    }
   ],
   "source": [
    "a = [1, 2, 3, 4, 5]\n",
    "print('a =', a)\n",
    "try:\n",
    "    i = int(input('a의 요소를 하나 선택하시오: '))\n",
    "    print('{}은(는) {}번째 요소입니다.'.format(i, a.index(i) + 1))\n",
    "    \n",
    "except:\n",
    "    print('오류: 입력 값이 정수나 실수가 아님')"
   ]
  },
  {
   "cell_type": "markdown",
   "id": "af0dd55c",
   "metadata": {},
   "source": [
    "LAB 8-4"
   ]
  },
  {
   "cell_type": "code",
   "execution_count": 14,
   "id": "760ff61c",
   "metadata": {},
   "outputs": [],
   "source": [
    "f = open('numbers.txt', 'w')\n",
    "f.write('100\\n200\\n300\\n400')\n",
    "f.close()"
   ]
  },
  {
   "cell_type": "code",
   "execution_count": 20,
   "id": "88b1cb69",
   "metadata": {},
   "outputs": [],
   "source": [
    "f = open('we_will_rock.txt', 'w')\n",
    "f.write(\"Buddy, you're a boy, make a big noise\\n\")\n",
    "f.write(\"Playing in the street, gonna be a big man someday\\n\")\n",
    "f.write(\"You got mud on your face, you big disgrace\\n\")\n",
    "f.write(\"Kicking your can all over the place, singin'\\n\")\n",
    "f.write(\"We will, we will rock you\\n\")\n",
    "f.write(\"We will, we will rock you\")\n",
    "f.close()"
   ]
  },
  {
   "cell_type": "markdown",
   "id": "5a4cd417",
   "metadata": {},
   "source": [
    "LAB 8-5"
   ]
  },
  {
   "cell_type": "code",
   "execution_count": 18,
   "id": "44246b13",
   "metadata": {},
   "outputs": [
    {
     "name": "stdout",
     "output_type": "stream",
     "text": [
      "100\n",
      "200\n",
      "300\n",
      "400\n"
     ]
    }
   ],
   "source": [
    "f = open('numbers.txt', 'r')\n",
    "for i in range(4):\n",
    "    s = f.readline().rstrip()\n",
    "    print(s)\n",
    "f.close()"
   ]
  },
  {
   "cell_type": "code",
   "execution_count": 21,
   "id": "f94d503f",
   "metadata": {},
   "outputs": [
    {
     "name": "stdout",
     "output_type": "stream",
     "text": [
      "Buddy, you're a boy, make a big noise\n",
      "Playing in the street, gonna be a big man someday\n",
      "You got mud on your face, you big disgrace\n",
      "Kicking your can all over the place, singin'\n",
      "We will, we will rock you\n",
      "We will, we will rock you\n"
     ]
    }
   ],
   "source": [
    "f = open('we_will_rock.txt', 'r')\n",
    "for i in range(6):\n",
    "    s = f.readline().rstrip()\n",
    "    print(s)\n",
    "f.close()"
   ]
  },
  {
   "cell_type": "markdown",
   "id": "6c477c0f",
   "metadata": {},
   "source": [
    "LAB 8-6"
   ]
  },
  {
   "cell_type": "code",
   "execution_count": 34,
   "id": "e018bcc9",
   "metadata": {},
   "outputs": [
    {
     "name": "stdout",
     "output_type": "stream",
     "text": [
      "입력할 파일의 이름: we_will_rock.txt\n",
      "BUDDY, YOU'RE A BOY, MAKE A BIG NOISE\n",
      "PLAYING IN THE STREET, GONNA BE A BIG MAN SOMEDAY\n",
      "YOU GOT MUD ON YOUR FACE, YOU BIG DISGRACE\n",
      "KICKING YOUR CAN ALL OVER THE PLACE, SINGIN'\n",
      "WE WILL, WE WILL ROCK YOU\n",
      "WE WILL, WE WILL ROCK YOU"
     ]
    }
   ],
   "source": [
    "fname = input('입력할 파일의 이름: ')\n",
    "f = open(fname, 'r')\n",
    "l = f.readline()\n",
    "\n",
    "while l:\n",
    "    l = l.upper()\n",
    "    print('{}'.format(l), end = '')\n",
    "    l = f.readline()\n",
    "f.close()"
   ]
  },
  {
   "cell_type": "code",
   "execution_count": 35,
   "id": "8d3dee56",
   "metadata": {},
   "outputs": [
    {
     "name": "stdout",
     "output_type": "stream",
     "text": [
      "입력할 파일의 이름: we_will_rock.txt\n",
      "We will, we will rock you\n",
      "We will, we will rock you\n",
      "Kicking your can all over the place, singin'\n",
      "You got mud on your face, you big disgrace\n",
      "Playing in the street, gonna be a big man someday\n",
      "Buddy, you're a boy, make a big noise\n"
     ]
    }
   ],
   "source": [
    "fname = input('입력할 파일의 이름: ')\n",
    "for line in reversed(list(open(fname))):\n",
    "    print(line.rstrip())"
   ]
  }
 ],
 "metadata": {
  "kernelspec": {
   "display_name": "Python 3 (ipykernel)",
   "language": "python",
   "name": "python3"
  },
  "language_info": {
   "codemirror_mode": {
    "name": "ipython",
    "version": 3
   },
   "file_extension": ".py",
   "mimetype": "text/x-python",
   "name": "python",
   "nbconvert_exporter": "python",
   "pygments_lexer": "ipython3",
   "version": "3.9.12"
  }
 },
 "nbformat": 4,
 "nbformat_minor": 5
}
