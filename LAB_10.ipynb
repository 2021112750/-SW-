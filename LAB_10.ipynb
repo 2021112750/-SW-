{
 "cells": [
  {
   "cell_type": "code",
   "execution_count": 1,
   "id": "02380068",
   "metadata": {},
   "outputs": [
    {
     "name": "stdout",
     "output_type": "stream",
     "text": [
      "100과 200의 합: 300\n",
      "100과 200의 합: 300\n"
     ]
    }
   ],
   "source": [
    "#10-1\n",
    "add = lambda x, y: x + y\n",
    "print('100과 200의 합:', add(100, 200))\n",
    "\n",
    "print('100과 200의 합:', (lambda x, y: x + y)(100, 200))"
   ]
  },
  {
   "cell_type": "markdown",
   "id": "e4d103b3",
   "metadata": {},
   "source": [
    "LAB 10-1"
   ]
  },
  {
   "cell_type": "code",
   "execution_count": 2,
   "id": "1469ab36",
   "metadata": {},
   "outputs": [
    {
     "name": "stdout",
     "output_type": "stream",
     "text": [
      "200 - 100 = 100\n",
      "200 - 100 = 100\n"
     ]
    }
   ],
   "source": [
    "sub = lambda x, y: x - y\n",
    "print('200 - 100 =', sub(200, 100))\n",
    "\n",
    "print('200 - 100 =', (lambda x, y: x - y)(200, 100))"
   ]
  },
  {
   "cell_type": "code",
   "execution_count": 3,
   "id": "0f01da61",
   "metadata": {},
   "outputs": [
    {
     "name": "stdout",
     "output_type": "stream",
     "text": [
      "성년 리스트:\n",
      "34 39 20 54 "
     ]
    }
   ],
   "source": [
    "#10-4\n",
    "ages = [34, 39, 20, 18, 13, 54]\n",
    "print('성년 리스트:')\n",
    "for a in filter(lambda x: x >= 19, ages):\n",
    "    print(a, end = ' ')"
   ]
  },
  {
   "cell_type": "code",
   "execution_count": 4,
   "id": "6ce9258d",
   "metadata": {},
   "outputs": [
    {
     "name": "stdout",
     "output_type": "stream",
     "text": [
      "성년 리스트:\n",
      "34 39 20 54 "
     ]
    }
   ],
   "source": [
    "#10-5\n",
    "ages = [34, 39, 20, 18, 13, 54]\n",
    "print('성년 리스트:')\n",
    "for a in filter(lambda x: x >= 19, ages):\n",
    "    print(a, end = ' ')"
   ]
  },
  {
   "cell_type": "code",
   "execution_count": 5,
   "id": "dd950be3",
   "metadata": {},
   "outputs": [
    {
     "name": "stdout",
     "output_type": "stream",
     "text": [
      "짝수 리스트:\n",
      "2 4 6 "
     ]
    }
   ],
   "source": [
    "#짝수의 값을 판별하는 람다 함수\n",
    "lists = [1, 2, 3, 4, 5, 6]\n",
    "print('짝수 리스트:')\n",
    "for a in filter(lambda x: x % 2 == 0, lists):\n",
    "    print(a, end = ' ')"
   ]
  },
  {
   "cell_type": "markdown",
   "id": "843543dd",
   "metadata": {},
   "source": [
    "LAB 10-2"
   ]
  },
  {
   "cell_type": "code",
   "execution_count": 6,
   "id": "5dc0ce8c",
   "metadata": {},
   "outputs": [
    {
     "name": "stdout",
     "output_type": "stream",
     "text": [
      "even_list = [2, 4, 6, 8, 10]\n"
     ]
    }
   ],
   "source": [
    "#1-1\n",
    "n_list = [1, 2, 3, 4, 5, 6, 7, 8, 9, 10]\n",
    "even_list = []\n",
    "for n in filter(lambda x: x % 2 == 0, n_list):\n",
    "    even_list.append(n)\n",
    "\n",
    "print('even_list =', even_list)"
   ]
  },
  {
   "cell_type": "code",
   "execution_count": 7,
   "id": "852d7427",
   "metadata": {},
   "outputs": [
    {
     "name": "stdout",
     "output_type": "stream",
     "text": [
      "even_list = [2, 4, 6, 8, 10]\n"
     ]
    }
   ],
   "source": [
    "#1-2\n",
    "n_list = [1, 2, 3, 4, 5 ,6, 7, 8, 9, 10]\n",
    "even_list = list(filter(lambda x: x % 2 == 0, n_list))\n",
    "print('even_list =', even_list)"
   ]
  },
  {
   "cell_type": "code",
   "execution_count": 8,
   "id": "d30f7c22",
   "metadata": {},
   "outputs": [
    {
     "name": "stdout",
     "output_type": "stream",
     "text": [
      "odd_list = [1, 3, 5, 7, 9]\n"
     ]
    }
   ],
   "source": [
    "#2-1\n",
    "n_list = [1, 2, 3, 4, 5, 6, 7, 8, 9, 10]\n",
    "odd_list = []\n",
    "for n in filter(lambda x: x % 2 != 0, n_list):\n",
    "    odd_list.append(n)\n",
    "\n",
    "print('odd_list =', odd_list)"
   ]
  },
  {
   "cell_type": "code",
   "execution_count": 9,
   "id": "3d43ae8b",
   "metadata": {},
   "outputs": [
    {
     "name": "stdout",
     "output_type": "stream",
     "text": [
      "odd_list = [1, 3, 5, 7, 9]\n"
     ]
    }
   ],
   "source": [
    "#2-2\n",
    "n_list = [1, 2, 3, 4, 5, 6, 7, 8, 9, 10]\n",
    "odd_list = list(filter(lambda x: x % 2 != 0, n_list))\n",
    "print('odd_list =', odd_list)"
   ]
  },
  {
   "cell_type": "code",
   "execution_count": 11,
   "id": "c16e4c74",
   "metadata": {},
   "outputs": [
    {
     "name": "stdout",
     "output_type": "stream",
     "text": [
      "[1, 4, 9, 16, 25, 36, 49]\n"
     ]
    }
   ],
   "source": [
    "#10-12\n",
    "a = [1, 2, 3, 4, 5, 6, 7]\n",
    "square_a = list(map(lambda x: x ** 2, a))\n",
    "print(square_a)"
   ]
  },
  {
   "cell_type": "markdown",
   "id": "4f295baa",
   "metadata": {},
   "source": [
    "LAB 10-3"
   ]
  },
  {
   "cell_type": "code",
   "execution_count": 12,
   "id": "51ee23aa",
   "metadata": {},
   "outputs": [
    {
     "name": "stdout",
     "output_type": "stream",
     "text": [
      "upper_a_list = ['A', 'B', 'C', 'D']\n"
     ]
    }
   ],
   "source": [
    "#1-1\n",
    "a_list = ['a', 'b', 'c', 'd']\n",
    "def to_upper(x):\n",
    "    return x.upper()\n",
    "\n",
    "upper_a_list = list(map(to_upper, a_list))\n",
    "print('upper_a_list =', upper_a_list)"
   ]
  },
  {
   "cell_type": "code",
   "execution_count": 13,
   "id": "90934804",
   "metadata": {},
   "outputs": [
    {
     "name": "stdout",
     "output_type": "stream",
     "text": [
      "upper_a_list = ['A', 'B', 'C', 'D']\n"
     ]
    }
   ],
   "source": [
    "#1-2\n",
    "a_list = ['a', 'b', 'c', 'd']\n",
    "upper_a_list = list(map(lambda x: x.upper(), a_list))\n",
    "print('upper_a_list =', upper_a_list)"
   ]
  },
  {
   "cell_type": "code",
   "execution_count": 14,
   "id": "3fbdc2ed",
   "metadata": {},
   "outputs": [
    {
     "name": "stdout",
     "output_type": "stream",
     "text": [
      "입력 값의 두 배: [20, 40, 60]\n",
      "입력 값의 세 배: [30, 60, 90]\n"
     ]
    }
   ],
   "source": [
    "#2-1\n",
    "n_list = [10, 20, 30]\n",
    "def twice(x):\n",
    "    return x * 2\n",
    "def triple(x):\n",
    "    return x * 3\n",
    "twice_n_list = list(map(twice, n_list))\n",
    "print('입력 값의 두 배:', twice_n_list)\n",
    "triple_n_list = list(map(triple, n_list))\n",
    "print('입력 값의 세 배:', triple_n_list)"
   ]
  },
  {
   "cell_type": "code",
   "execution_count": 15,
   "id": "c96b3fbc",
   "metadata": {},
   "outputs": [
    {
     "name": "stdout",
     "output_type": "stream",
     "text": [
      "입력 값의 두 배: [20, 40, 60]\n",
      "입력 값의 세 배: [30, 60, 90]\n"
     ]
    }
   ],
   "source": [
    "#2-2\n",
    "n_list = [10, 20, 30]\n",
    "twice_n_list = list(map(lambda x: x * 2, n_list))\n",
    "print('입력 값의 두 배:', twice_n_list)\n",
    "tripe_n_list = list(map(lambda x: x * 3, n_list))\n",
    "print('입력 값의 세 배:', triple_n_list)"
   ]
  },
  {
   "cell_type": "code",
   "execution_count": 16,
   "id": "32c6c8fd",
   "metadata": {},
   "outputs": [
    {
     "name": "stdout",
     "output_type": "stream",
     "text": [
      "10\n"
     ]
    }
   ],
   "source": [
    "#10-13\n",
    "from functools import reduce\n",
    "\n",
    "a = [1, 2, 3, 4]\n",
    "n = reduce(lambda x, y: x + y, a)\n",
    "print(n)"
   ]
  },
  {
   "cell_type": "markdown",
   "id": "3dffe91f",
   "metadata": {},
   "source": [
    "LAB 10-4"
   ]
  },
  {
   "cell_type": "code",
   "execution_count": 18,
   "id": "9f80fa0c",
   "metadata": {},
   "outputs": [
    {
     "name": "stdout",
     "output_type": "stream",
     "text": [
      "1에서 100까지의 합: 5050\n"
     ]
    }
   ],
   "source": [
    "#1\n",
    "from functools import reduce\n",
    "total = reduce(lambda x, y: x + y, range(1, 101))\n",
    "print('1에서 100까지의 합:',total)"
   ]
  },
  {
   "cell_type": "code",
   "execution_count": 19,
   "id": "91fc1c7e",
   "metadata": {},
   "outputs": [
    {
     "name": "stdout",
     "output_type": "stream",
     "text": [
      "10! = 3628800\n"
     ]
    }
   ],
   "source": [
    "#2\n",
    "from functools import reduce\n",
    "factorial = reduce(lambda x, y: x * y, range(1, 11))\n",
    "print('10! =', factorial)"
   ]
  },
  {
   "cell_type": "code",
   "execution_count": 20,
   "id": "3c661a70",
   "metadata": {},
   "outputs": [
    {
     "name": "stdout",
     "output_type": "stream",
     "text": [
      "[1, 4, 9, 16, 25, 36, 49]\n",
      "[1, 4, 9, 16, 25, 36, 49]\n",
      "[1, 4, 9, 16, 25, 36, 49]\n"
     ]
    }
   ],
   "source": [
    "#10-15\n",
    "a = [1, 2, 3, 4, 5, 6, 7]\n",
    "a = list(map(lambda x: x ** 2, a))\n",
    "print(a)\n",
    "\n",
    "a = [1, 2, 3, 4, 5, 6, 7]\n",
    "a = [x ** 2 for x in a]\n",
    "print(a)\n",
    "\n",
    "a = [x ** 2 for x in range(1, 8)]\n",
    "print(a)"
   ]
  },
  {
   "cell_type": "markdown",
   "id": "4512791d",
   "metadata": {},
   "source": [
    "LAB 10-5"
   ]
  },
  {
   "cell_type": "code",
   "execution_count": 21,
   "id": "d59b409b",
   "metadata": {},
   "outputs": [
    {
     "name": "stdout",
     "output_type": "stream",
     "text": [
      "cubic = [1, 8, 27, 64, 125, 216, 343, 512, 729, 1000]\n",
      "first_a = []\n"
     ]
    }
   ],
   "source": [
    "#1\n",
    "cubic  = [x ** 3 for x in range(1, 11)]\n",
    "print('cubic =', cubic)\n",
    "\n",
    "a = ['welcome', 'to', 'the', 'python', 'world']\n",
    "first_a = []\n",
    "print('first_a =', first_a)"
   ]
  },
  {
   "cell_type": "code",
   "execution_count": 22,
   "id": "777ced7b",
   "metadata": {},
   "outputs": [
    {
     "name": "stdout",
     "output_type": "stream",
     "text": [
      "first_a = ['w', 't', 't', 'p', 'w']\n"
     ]
    }
   ],
   "source": [
    "#2\n",
    "a = ['welcome', 'to', 'the', 'python', 'world']\n",
    "first_a = [x[0] for x in a]\n",
    "print('first_a =', first_a)"
   ]
  },
  {
   "cell_type": "markdown",
   "id": "c2aa86fc",
   "metadata": {},
   "source": [
    "대화창 실습: 리스트의 축약 표현 실습"
   ]
  },
  {
   "cell_type": "code",
   "execution_count": 23,
   "id": "66239752",
   "metadata": {},
   "outputs": [
    {
     "data": {
      "text/plain": [
       "[0, 1, 2, 3, 4, 5, 6, 7, 8, 9]"
      ]
     },
     "execution_count": 23,
     "metadata": {},
     "output_type": "execute_result"
    }
   ],
   "source": [
    "[x for x in range(10)]"
   ]
  },
  {
   "cell_type": "code",
   "execution_count": 24,
   "id": "9593573b",
   "metadata": {},
   "outputs": [
    {
     "data": {
      "text/plain": [
       "[0, 1, 4, 9, 16, 25, 36, 49, 64, 81]"
      ]
     },
     "execution_count": 24,
     "metadata": {},
     "output_type": "execute_result"
    }
   ],
   "source": [
    "[x * x for x in range(10)]"
   ]
  },
  {
   "cell_type": "code",
   "execution_count": 25,
   "id": "0bfb3b2b",
   "metadata": {},
   "outputs": [
    {
     "data": {
      "text/plain": [
       "[0, 2, 4, 6, 8]"
      ]
     },
     "execution_count": 25,
     "metadata": {},
     "output_type": "execute_result"
    }
   ],
   "source": [
    "[x for x in range(10) if x % 2 == 0]"
   ]
  },
  {
   "cell_type": "code",
   "execution_count": 26,
   "id": "3f46cb25",
   "metadata": {},
   "outputs": [
    {
     "data": {
      "text/plain": [
       "[1, 3, 5, 7, 9]"
      ]
     },
     "execution_count": 26,
     "metadata": {},
     "output_type": "execute_result"
    }
   ],
   "source": [
    "[x for x in range(10) if x % 2 == 1]"
   ]
  },
  {
   "cell_type": "code",
   "execution_count": 27,
   "id": "ceffa3f7",
   "metadata": {},
   "outputs": [
    {
     "data": {
      "text/plain": [
       "[0, 4, 16, 36, 64]"
      ]
     },
     "execution_count": 27,
     "metadata": {},
     "output_type": "execute_result"
    }
   ],
   "source": [
    "[x * x for x in range(10) if x % 2 == 0]"
   ]
  },
  {
   "cell_type": "code",
   "execution_count": 28,
   "id": "639e6cfb",
   "metadata": {},
   "outputs": [
    {
     "data": {
      "text/plain": [
       "[1, 9, 25, 49, 81]"
      ]
     },
     "execution_count": 28,
     "metadata": {},
     "output_type": "execute_result"
    }
   ],
   "source": [
    "[x * x for x in range(10) if x % 2 == 1]"
   ]
  },
  {
   "cell_type": "code",
   "execution_count": 29,
   "id": "f9712492",
   "metadata": {},
   "outputs": [
    {
     "name": "stdout",
     "output_type": "stream",
     "text": [
      "[2, 4, 6, 4, 8, 12, 6, 12, 18]\n",
      "[2, 4, 6, 4, 8, 12, 6, 12, 18]\n"
     ]
    }
   ],
   "source": [
    "#10-23\n",
    "product_xy = []\n",
    "for x in [1, 2, 3]:\n",
    "    for y in [2, 4, 6]:\n",
    "        product_xy.append(x * y)\n",
    "print(product_xy)\n",
    "\n",
    "product_xy = [x * y for x in [1, 2, 3] for y in [2, 4, 6]]\n",
    "print(product_xy)"
   ]
  },
  {
   "cell_type": "markdown",
   "id": "10b80c16",
   "metadata": {},
   "source": [
    "LAB 10-6"
   ]
  },
  {
   "cell_type": "code",
   "execution_count": 30,
   "id": "7461b2bb",
   "metadata": {},
   "outputs": [
    {
     "name": "stdout",
     "output_type": "stream",
     "text": [
      "cubic = [1, 8, 27, 64, 125, 216, 343]\n"
     ]
    }
   ],
   "source": [
    "#1\n",
    "cubic = [n ** 3 for n in range(1, 11) if n ** 3 <= 500]\n",
    "print('cubic =', cubic)"
   ]
  },
  {
   "cell_type": "code",
   "execution_count": 31,
   "id": "4640d02a",
   "metadata": {},
   "outputs": [
    {
     "name": "stdout",
     "output_type": "stream",
     "text": [
      "['1', '2', '3', '4']\n"
     ]
    }
   ],
   "source": [
    "#2\n",
    "st = 'Hello 1234 Python'\n",
    "st_digit = [x for x in st if x.isdigit() == True]\n",
    "print(st_digit)"
   ]
  },
  {
   "cell_type": "code",
   "execution_count": 34,
   "id": "f2aac029",
   "metadata": {},
   "outputs": [
    {
     "name": "stdout",
     "output_type": "stream",
     "text": [
      "1 3 5 7 9 11 13 15 17 19 "
     ]
    }
   ],
   "source": [
    "#10-28\n",
    "class OddCounter:\n",
    "    def __init__(self, n = 1):\n",
    "        self.n = n\n",
    "    def __iter__(self):\n",
    "        return self\n",
    "    def __next__(self):\n",
    "        if self.n < 20:\n",
    "            t = self.n\n",
    "            self.n += 2\n",
    "            return t\n",
    "        raise StopIteration\n",
    "\n",
    "my_counter = OddCounter()\n",
    "for x in my_counter:\n",
    "    print(x, end = ' ')"
   ]
  },
  {
   "cell_type": "markdown",
   "id": "337c02a3",
   "metadata": {},
   "source": [
    "LAB 10-7"
   ]
  },
  {
   "cell_type": "code",
   "execution_count": 39,
   "id": "40e50f16",
   "metadata": {},
   "outputs": [
    {
     "name": "stdout",
     "output_type": "stream",
     "text": [
      "0 2 4 6 8 "
     ]
    }
   ],
   "source": [
    "#1\n",
    "class EvenCounter:\n",
    "    def __init__(self, n = 0):\n",
    "        self.n = n\n",
    "    def __iter__(self):\n",
    "        return self\n",
    "    def __next__(self):\n",
    "        if self.n < 9:\n",
    "            t = self.n\n",
    "            self.n += 2\n",
    "            return t\n",
    "        raise StopIteration\n",
    "\n",
    "my_even = EvenCounter()\n",
    "for x in my_even:\n",
    "    print(x, end = ' ')"
   ]
  },
  {
   "cell_type": "code",
   "execution_count": 43,
   "id": "adeec3df",
   "metadata": {},
   "outputs": [
    {
     "name": "stdout",
     "output_type": "stream",
     "text": [
      "0 2 4 6 8 10 12 14 16 18 20 "
     ]
    }
   ],
   "source": [
    "#2\n",
    "class EvenCounter:\n",
    "    def __init__(self, n = 0):\n",
    "        self.n = n\n",
    "    def __iter__(self):\n",
    "        return self\n",
    "    def __next__(self):\n",
    "        t = self.n\n",
    "        self.n += 2\n",
    "        return t\n",
    "\n",
    "my_even = EvenCounter()\n",
    "for x in my_even:\n",
    "    print(x, end = ' ')\n",
    "    if x == 20:\n",
    "        break"
   ]
  },
  {
   "cell_type": "markdown",
   "id": "a14e0a76",
   "metadata": {},
   "source": [
    "LAB 10-8"
   ]
  },
  {
   "cell_type": "code",
   "execution_count": 44,
   "id": "12fb9a7f",
   "metadata": {},
   "outputs": [
    {
     "data": {
      "text/plain": [
       "['Welcome', 'to', 'Busan', 'Metropolitan', 'City.']"
      ]
     },
     "execution_count": 44,
     "metadata": {},
     "output_type": "execute_result"
    }
   ],
   "source": [
    "#1\n",
    "txt = 'Welcome to Busan Metropolitan City.'\n",
    "txt.split()"
   ]
  },
  {
   "cell_type": "code",
   "execution_count": 45,
   "id": "33b5ac35",
   "metadata": {},
   "outputs": [
    {
     "data": {
      "text/plain": [
       "['Hello', 'My name is DongMin', 'Good to see you again']"
      ]
     },
     "execution_count": 45,
     "metadata": {},
     "output_type": "execute_result"
    }
   ],
   "source": [
    "#2\n",
    "greet = 'Hello,My name is DongMin,Good to see you again'\n",
    "greet.split(',')"
   ]
  },
  {
   "cell_type": "code",
   "execution_count": 47,
   "id": "49d4a4db",
   "metadata": {},
   "outputs": [
    {
     "name": "stdout",
     "output_type": "stream",
     "text": [
      "['Apple', 'Banana', 'Melon', 'Orange']\n"
     ]
    }
   ],
   "source": [
    "#3\n",
    "fruits = 'Apple|Banana|Melon|Orange'\n",
    "list_ = []\n",
    "for i in fruits.split('|'):\n",
    "    list_.append(i)\n",
    "print(list_)"
   ]
  }
 ],
 "metadata": {
  "kernelspec": {
   "display_name": "Python 3 (ipykernel)",
   "language": "python",
   "name": "python3"
  },
  "language_info": {
   "codemirror_mode": {
    "name": "ipython",
    "version": 3
   },
   "file_extension": ".py",
   "mimetype": "text/x-python",
   "name": "python",
   "nbconvert_exporter": "python",
   "pygments_lexer": "ipython3",
   "version": "3.9.12"
  }
 },
 "nbformat": 4,
 "nbformat_minor": 5
}
