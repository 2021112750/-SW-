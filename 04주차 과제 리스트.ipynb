{
 "cells": [
  {
   "cell_type": "code",
   "execution_count": 9,
   "id": "cc17a970",
   "metadata": {},
   "outputs": [
    {
     "name": "stdout",
     "output_type": "stream",
     "text": [
      "3 * 2 = 6\n",
      "3 * 3 = 9\n",
      "3 * 4 = 12\n",
      "3 * 5 = 15\n",
      "3 * 6 = 18\n",
      "5 * 2 = 10\n",
      "5 * 3 = 15\n",
      "5 * 4 = 20\n",
      "5 * 5 = 25\n",
      "5 * 6 = 30\n",
      "7 * 2 = 14\n",
      "7 * 3 = 21\n",
      "7 * 4 = 28\n",
      "7 * 5 = 35\n",
      "7 * 6 = 42\n"
     ]
    }
   ],
   "source": [
    "#5.3\n",
    "list1 = [3, 5, 7]\n",
    "list2 = [2, 3, 4, 5, 6]\n",
    "for i in list1:\n",
    "    for j in list2:\n",
    "        print(i, '*', j, '=', i * j)"
   ]
  },
  {
   "cell_type": "code",
   "execution_count": 18,
   "id": "187ecf15",
   "metadata": {},
   "outputs": [
    {
     "name": "stdout",
     "output_type": "stream",
     "text": [
      "a = [2, 3, 4, 5, 6]\n",
      "rev_a = [6, 5, 4, 3, 2]\n"
     ]
    }
   ],
   "source": [
    "#5.4\n",
    "a = [2, 3, 4, 5, 6]\n",
    "print('a =', a)\n",
    "rev_a=[]\n",
    "for i in range(len(a)):    #pop() 리스트의 마지막 원소를 삭제하고 반환\n",
    "    rev_a.append(a.pop())   #append()는 삭제한 마지막 원소를 리스트의 끝에 추가\n",
    "print('rev_a =', rev_a)"
   ]
  },
  {
   "cell_type": "code",
   "execution_count": 12,
   "id": "08f8c059",
   "metadata": {},
   "outputs": [
    {
     "name": "stdout",
     "output_type": "stream",
     "text": [
      "I like pancakes.\n",
      "I like kiwi juice.\n",
      "I like espresso.\n",
      "I love pancakes.\n",
      "I love kiwi juice.\n",
      "I love espresso.\n"
     ]
    }
   ],
   "source": [
    "#5.5\n",
    "list1 = ['I like ', 'I love ']\n",
    "list2 = ['pancakes.', 'kiwi juice.', 'espresso.']\n",
    "for i in list1:\n",
    "    for j in list2:\n",
    "        print(i + j)"
   ]
  },
  {
   "cell_type": "code",
   "execution_count": 1,
   "id": "626365c1",
   "metadata": {},
   "outputs": [
    {
     "name": "stdout",
     "output_type": "stream",
     "text": [
      "32\n",
      "42\n",
      "[2, 3, 4, 1]\n",
      "[1, 4, 3, 2]\n",
      "[1, 2, 3, 4]\n"
     ]
    }
   ],
   "source": [
    "#5.6\n",
    "list1 = [2, 3, 4, 1, 32]\n",
    "print(max(list1))\n",
    "print(sum(list1))\n",
    "list1.remove(32)   #리스트 내 원소 제거\n",
    "print(list1)\n",
    "list1.reverse()   #리스트를 원래 원소들의 역순으로\n",
    "print(list1)\n",
    "list1.sort()   #리스트 오름차순 정렬\n",
    "print(list1)"
   ]
  },
  {
   "cell_type": "code",
   "execution_count": 28,
   "id": "81322272",
   "metadata": {},
   "outputs": [
    {
     "name": "stdout",
     "output_type": "stream",
     "text": [
      "리스트 원소들: [10, 20, 30, 50, 60]\n",
      "리스트 원소들의 합: 170\n"
     ]
    }
   ],
   "source": [
    "#5.7\n",
    "n_list = [10, 20, 30, 50, 60]\n",
    "print('리스트 원소들:', n_list)\n",
    "\n",
    "sum = 0\n",
    "for i in n_list:\n",
    "    sum = sum + i\n",
    "print('리스트 원소들의 합:', sum)"
   ]
  },
  {
   "cell_type": "code",
   "execution_count": 5,
   "id": "e9fec80f",
   "metadata": {},
   "outputs": [
    {
     "name": "stdout",
     "output_type": "stream",
     "text": [
      "리스트 원소들: [10, 20, 30, 50, 60]\n",
      "리스트 원소들의 곱: 18000000\n"
     ]
    }
   ],
   "source": [
    "#5.8\n",
    "n_list = [10, 20, 30, 50, 60]\n",
    "print('리스트 원소들:', n_list)\n",
    "\n",
    "mul = 1\n",
    "for i in n_list:\n",
    "    mul = mul * i\n",
    "print('리스트 원소들의 곱:', mul)"
   ]
  },
  {
   "cell_type": "code",
   "execution_count": 6,
   "id": "f4f86825",
   "metadata": {},
   "outputs": [
    {
     "name": "stdout",
     "output_type": "stream",
     "text": [
      "리스트 원소들: [10, 20, 30, 50, 60]\n",
      "리스트 원소들 중 최댓값: 60\n"
     ]
    }
   ],
   "source": [
    "#5.9\n",
    "n_list = [10, 20, 30, 50, 60]\n",
    "print('리스트 원소들:', n_list)\n",
    "\n",
    "max_n = n_list[0]\n",
    "for i in n_list:\n",
    "    if i > max_n:\n",
    "        max_n = i\n",
    "print('리스트 원소들 중 최댓값:', max_n)        "
   ]
  },
  {
   "cell_type": "code",
   "execution_count": 11,
   "id": "00a8257f",
   "metadata": {},
   "outputs": [
    {
     "name": "stdout",
     "output_type": "stream",
     "text": [
      "리스트 원소들: [10, 20, 30, 50, 60]\n",
      "리스트의 원소들 중 최솟값: 10\n"
     ]
    }
   ],
   "source": [
    "#5.10\n",
    "n_list = [10, 20, 30, 50, 60]\n",
    "print('리스트 원소들:', n_list)\n",
    "\n",
    "min_n = n_list[0]\n",
    "for i in n_list:\n",
    "    if i < min_n:\n",
    "        min_n = i\n",
    "print('리스트의 원소들 중 최솟값:', min_n)"
   ]
  },
  {
   "cell_type": "code",
   "execution_count": 15,
   "id": "f406b051",
   "metadata": {},
   "outputs": [
    {
     "name": "stdout",
     "output_type": "stream",
     "text": [
      "5개의 수를 입력하세요: 45 67 20 34 2\n",
      "합: 168\n",
      "평균: 33.6\n",
      "최댓값: 67\n",
      "최솟값: 2\n"
     ]
    }
   ],
   "source": [
    "#5.11\n",
    "n_list = list(map(int, input('5개의 수를 입력하세요: ').split()))   #띄어쓰기로 구분된 여러 개의 숫자 입력 값을 리스트에 넣을 경우 map 이용\n",
    "print('합:', sum(n_list))\n",
    "print('평균:', sum(n_list)/len(n_list))\n",
    "print('최댓값:', max(n_list))\n",
    "print('최솟값:', min(n_list))"
   ]
  },
  {
   "cell_type": "code",
   "execution_count": 28,
   "id": "ca368a91",
   "metadata": {},
   "outputs": [
    {
     "name": "stdout",
     "output_type": "stream",
     "text": [
      "animals = ['dog', 'cat', 'tiger', 'lion']\n",
      "animals = ['cat', 'tiger', 'lion', 'dog']\n",
      "I love dog\n",
      "I love cat\n",
      "I love tiger\n",
      "I love lion\n",
      "I like dog\n",
      "I like cat\n",
      "I like tiger\n",
      "I like lion\n"
     ]
    }
   ],
   "source": [
    "#5.17\n",
    "animals = ['dog', 'cat', 'tiger', 'lion']\n",
    "#1\n",
    "print('animals =', animals)\n",
    "#2\n",
    "animals.remove('dog')\n",
    "animals.append('dog')\n",
    "print('animals =', animals)\n",
    "#3\n",
    "animals = ['dog', 'cat', 'tiger', 'lion']\n",
    "I_list = ['I love ', 'I like ']\n",
    "for i in I_list:\n",
    "    for j in animals:\n",
    "        print(i + j)"
   ]
  },
  {
   "cell_type": "code",
   "execution_count": 30,
   "id": "c47e826c",
   "metadata": {},
   "outputs": [
    {
     "name": "stdout",
     "output_type": "stream",
     "text": [
      "s_list = ['abc', 'bcd', 'abc', 'abba', 'cddc', 'opq', 'opq']\n",
      "new_s_list = ['abc', 'bcd', 'abba', 'cddc', 'opq']\n"
     ]
    }
   ],
   "source": [
    "#5.19\n",
    "s_list = ['abc', 'bcd', 'abc', 'abba', 'cddc', 'opq', 'opq']\n",
    "print('s_list =', s_list)\n",
    "new_s_list = []   #중복 제거된 값들이 들어갈 리스트\n",
    "for value in s_list:\n",
    "    if value not in new_s_list:\n",
    "        new_s_list.append(value)\n",
    "print('new_s_list =', new_s_list)"
   ]
  }
 ],
 "metadata": {
  "kernelspec": {
   "display_name": "Python 3 (ipykernel)",
   "language": "python",
   "name": "python3"
  },
  "language_info": {
   "codemirror_mode": {
    "name": "ipython",
    "version": 3
   },
   "file_extension": ".py",
   "mimetype": "text/x-python",
   "name": "python",
   "nbconvert_exporter": "python",
   "pygments_lexer": "ipython3",
   "version": "3.9.12"
  }
 },
 "nbformat": 4,
 "nbformat_minor": 5
}
