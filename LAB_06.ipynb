{
 "cells": [
  {
   "cell_type": "code",
   "execution_count": 1,
   "id": "c0636f50",
   "metadata": {},
   "outputs": [
    {
     "name": "stdout",
     "output_type": "stream",
     "text": [
      "a) Seoul\n",
      "b) Beijing\n",
      "c) Washington DC\n",
      "apple의 가격은 5000 입니다.\n",
      "banana의 가격은 4000 입니다.\n",
      "grape의 가격은 5300 입니다.\n",
      "melon의 가격은 6500 입니다.\n"
     ]
    }
   ],
   "source": [
    "#LAB 6-1\n",
    "#1\n",
    "capital_dic = {'Korea':'Seoul', 'China':'Beijing', 'USA':'Washington DC'}\n",
    "print('a)', capital_dic['Korea'])\n",
    "print('b)', capital_dic['China'])\n",
    "print('c)', capital_dic['USA'])\n",
    "#2\n",
    "fruits_dic = {'apple':5000, 'banana':4000, 'grape':5300, 'melon':6500}\n",
    "print('apple의 가격은', fruits_dic['apple'],'입니다.')\n",
    "print('banana의 가격은', fruits_dic['banana'],'입니다.')\n",
    "print('grape의 가격은', fruits_dic['grape'],'입니다.')\n",
    "print('melon의 가격은', fruits_dic['melon'],'입니다.')"
   ]
  },
  {
   "cell_type": "code",
   "execution_count": 2,
   "id": "c0b0a480",
   "metadata": {},
   "outputs": [
    {
     "name": "stdout",
     "output_type": "stream",
     "text": [
      "{'이름': '홍길동', '나이': 26, '몸무게': 82, '특기': '분신술'}\n",
      "{'이름': '홍길동', '나이': 26, '몸무게': 82, '특기': '분신술', '아버지': '홍판서'}\n",
      "{'이름': '홍길동', '몸무게': 82, '특기': '분신술', '아버지': '홍판서'}\n"
     ]
    }
   ],
   "source": [
    "#LAB 6-2\n",
    "#1\n",
    "person = {'이름':'홍길동', '나이':26, '몸무게':82}\n",
    "person['특기'] = '분신술'   #새로운 키:값의 항목 삽입\n",
    "print(person)\n",
    "#2\n",
    "person['아버지'] = '홍판서'\n",
    "print(person)\n",
    "#3\n",
    "del person['나이']   #딕셔너리의 항목 삭제\n",
    "print(person)"
   ]
  },
  {
   "cell_type": "code",
   "execution_count": 3,
   "id": "86f0ba8a",
   "metadata": {},
   "outputs": [
    {
     "name": "stdout",
     "output_type": "stream",
     "text": [
      "True\n",
      "True\n",
      "False\n",
      "False\n"
     ]
    }
   ],
   "source": [
    "#LAB 6-3\n",
    "#1\n",
    "capital_dic = {'Korea':'Seoul', 'China':'Beijing', 'USA':'Washington DC'}\n",
    "print('Korea' in capital_dic)\n",
    "print('China' in capital_dic)\n",
    "print('Indonesia' in capital_dic)\n",
    "print('Beijing' in capital_dic)"
   ]
  },
  {
   "cell_type": "code",
   "execution_count": 4,
   "id": "2750cf73",
   "metadata": {},
   "outputs": [
    {
     "name": "stdout",
     "output_type": "stream",
     "text": [
      "{'apple': 6000, 'melon': 3000, 'banana': 5000, 'orange': 7000}\n",
      "dict_keys(['apple', 'melon', 'banana', 'orange'])\n",
      "dict_values([6000, 3000, 5000, 7000])\n",
      "{'melon': 3000, 'banana': 5000, 'orange': 7000}\n",
      "{}\n"
     ]
    }
   ],
   "source": [
    "#LAB 6-4\n",
    "#1\n",
    "fruits_dic = {'apple':6000, 'melon':3000, 'banana':5000, 'orange':7000}\n",
    "print(fruits_dic)\n",
    "#2\n",
    "print(fruits_dic.keys())\n",
    "#3\n",
    "print(fruits_dic.values())\n",
    "#4\n",
    "fruits_dic.pop('apple')\n",
    "print(fruits_dic)\n",
    "#5\n",
    "fruits_dic.clear()   #딕셔너리의 모든 항목 삭제\n",
    "print(fruits_dic)"
   ]
  },
  {
   "cell_type": "code",
   "execution_count": 9,
   "id": "ac907718",
   "metadata": {},
   "outputs": [
    {
     "name": "stdout",
     "output_type": "stream",
     "text": [
      "['apple', 'melon', 'banana', 'orange']\n",
      "[6000, 3000, 5000, 4000]\n",
      "fruits_dic 딕셔너리의 항목의 개수: 4\n",
      "apple is in fruits_dic.\n",
      "mango is not in fruits_dic.\n"
     ]
    }
   ],
   "source": [
    "#LAB 6-5\n",
    "#1\n",
    "fruits_dic = {'apple':6000, 'melon':3000, 'banana':5000, 'orange':4000}\n",
    "list_fruits = []\n",
    "for key in fruits_dic:\n",
    "    list_fruits.append(key)\n",
    "print(list_fruits)\n",
    "\n",
    "#2\n",
    "list_fruits = []\n",
    "for key in fruits_dic.values():\n",
    "    list_fruits.append(key)\n",
    "print(list_fruits)\n",
    "\n",
    "#3\n",
    "print('fruits_dic 딕셔너리의 항목의 개수:', len(fruits_dic))\n",
    "\n",
    "#4\n",
    "if 'apple' in fruits_dic.keys():\n",
    "    print('apple is in fruits_dic.')\n",
    "else:\n",
    "    print('apple is not in fruits_dic.')\n",
    "if 'mango' in fruits_dic.keys():\n",
    "    print('mango is in fruits_dic.')\n",
    "else:\n",
    "    print('mango is not in fruits_dic.')"
   ]
  },
  {
   "cell_type": "code",
   "execution_count": 13,
   "id": "90289bb3",
   "metadata": {},
   "outputs": [
    {
     "name": "stdout",
     "output_type": "stream",
     "text": [
      "1919 년 3 월 1 일은 삼일절입니다.\n",
      "a = 30\n",
      "b = 20\n",
      "c = 10\n"
     ]
    }
   ],
   "source": [
    "#LAB 6-6\n",
    "#1\n",
    "the_day = (1919, 3, 1)\n",
    "year, month, day = the_day\n",
    "print(year, '년', month, '월', day,'일은 삼일절입니다.')\n",
    "#2\n",
    "n_list = [10, 20, 30]\n",
    "t = tuple(n_list)\n",
    "c, b, a = t\n",
    "print('a =', a)\n",
    "print('b =', b)\n",
    "print('c =', c)"
   ]
  },
  {
   "cell_type": "code",
   "execution_count": 19,
   "id": "1fe4cc14",
   "metadata": {},
   "outputs": [
    {
     "name": "stdout",
     "output_type": "stream",
     "text": [
      "person = ('홍길동', 2019001, 179)\n"
     ]
    },
    {
     "ename": "TypeError",
     "evalue": "'tuple' object does not support item assignment",
     "output_type": "error",
     "traceback": [
      "\u001b[1;31m---------------------------------------------------------------------------\u001b[0m",
      "\u001b[1;31mTypeError\u001b[0m                                 Traceback (most recent call last)",
      "Input \u001b[1;32mIn [19]\u001b[0m, in \u001b[0;36m<cell line: 7>\u001b[1;34m()\u001b[0m\n\u001b[0;32m      5\u001b[0m \u001b[38;5;28mprint\u001b[39m(\u001b[38;5;124m'\u001b[39m\u001b[38;5;124mperson =\u001b[39m\u001b[38;5;124m'\u001b[39m, person)\n\u001b[0;32m      6\u001b[0m \u001b[38;5;66;03m#2\u001b[39;00m\n\u001b[1;32m----> 7\u001b[0m person[\u001b[38;5;241m1\u001b[39m] \u001b[38;5;241m=\u001b[39m \u001b[38;5;241m2019003\u001b[39m\n\u001b[0;32m      8\u001b[0m \u001b[38;5;28mprint\u001b[39m(\u001b[38;5;124m'\u001b[39m\u001b[38;5;124mperson =\u001b[39m\u001b[38;5;124m'\u001b[39m, person)\n\u001b[0;32m      9\u001b[0m \u001b[38;5;66;03m#3\u001b[39;00m\n",
      "\u001b[1;31mTypeError\u001b[0m: 'tuple' object does not support item assignment"
     ]
    }
   ],
   "source": [
    "#LAB 6-7\n",
    "#1\n",
    "person = ('홍길동', 2019001, 179)\n",
    "p_list = list(person)\n",
    "print('person =', person)\n",
    "\n",
    "#2\n",
    "person[1] = 2019003    #튜플은 리스트와 달리 불변 자료형으로 내부의 값을 변경할 수 없다\n",
    "print('person =', person)"
   ]
  },
  {
   "cell_type": "code",
   "execution_count": 20,
   "id": "3a30c448",
   "metadata": {},
   "outputs": [
    {
     "name": "stdout",
     "output_type": "stream",
     "text": [
      "학번 변동 후 person = ('홍길동', 2019003, 179)\n"
     ]
    }
   ],
   "source": [
    "#LAB 6-7\n",
    "#3\n",
    "person = ('홍길동', 202003, 179)\n",
    "p_list = list(person)\n",
    "p_list[1] = 2019003\n",
    "person = tuple(p_list)\n",
    "print('학번 변동 후 person =', person)"
   ]
  },
  {
   "cell_type": "code",
   "execution_count": 22,
   "id": "25cce00c",
   "metadata": {},
   "outputs": [
    {
     "name": "stdout",
     "output_type": "stream",
     "text": [
      "lst = ['apple', 'mango', 'banana']\n",
      "s1 = {'apple', 'mango', 'banana'}\n",
      "greet = Good afternoon\n",
      "s2 = {'r', 'o', 'f', 'e', 'n', 'a', ' ', 't', 'd', 'G'}\n"
     ]
    }
   ],
   "source": [
    "#LAB 6-9\n",
    "#1\n",
    "lst = ['apple', 'mango', 'banana']   #3개의 과일 정보를 가지는 리스트\n",
    "s1 = set(lst)   #lst로부터 생성된 집합 s1\n",
    "print('lst =', lst)\n",
    "print('s1 =', s1)\n",
    "\n",
    "#2\n",
    "greet = 'Good afternoon'   #문자열 greet\n",
    "s2 = set(greet)   #greet로부터 생성된 집합 s2\n",
    "print('greet =', greet)\n",
    "print('s2 =', s2)"
   ]
  },
  {
   "cell_type": "code",
   "execution_count": 25,
   "id": "dad54e6f",
   "metadata": {},
   "outputs": [
    {
     "name": "stdout",
     "output_type": "stream",
     "text": [
      "1) s1 | s2 {70, 40, 10, 50, 20, 60, 30}\n",
      "2) s1 & s2 {40, 30}\n",
      "3) s1 - s2 {10, 20}\n",
      "4) s1 ^ s2 {50, 20, 70, 10, 60}\n",
      "5) s1.issubset(s2) False\n",
      "6) s1.issuperset(s2) False\n",
      "7) s1.isdisjoint(s2) False\n"
     ]
    }
   ],
   "source": [
    "#LAB 6-10\n",
    "#1\n",
    "s1 = {10, 20, 30, 40}\n",
    "s2 = {30, 40, 50, 60, 70}\n",
    "print('1) s1 | s2', s1.union(s2))\n",
    "print('2) s1 & s2', s1.intersection(s2))\n",
    "print('3) s1 - s2', s1.difference(s2))\n",
    "print('4) s1 ^ s2', s1.symmetric_difference(s2))\n",
    "print('5) s1.issubset(s2)', s1.issubset(s2))\n",
    "print('6) s1.issuperset(s2)', s1.issuperset(s2))\n",
    "print('7) s1.isdisjoint(s2)', s1.isdisjoint(s2))"
   ]
  }
 ],
 "metadata": {
  "kernelspec": {
   "display_name": "Python 3 (ipykernel)",
   "language": "python",
   "name": "python3"
  },
  "language_info": {
   "codemirror_mode": {
    "name": "ipython",
    "version": 3
   },
   "file_extension": ".py",
   "mimetype": "text/x-python",
   "name": "python",
   "nbconvert_exporter": "python",
   "pygments_lexer": "ipython3",
   "version": "3.9.12"
  }
 },
 "nbformat": 4,
 "nbformat_minor": 5
}
