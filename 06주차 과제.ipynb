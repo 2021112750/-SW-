{
 "cells": [
  {
   "cell_type": "code",
   "execution_count": 1,
   "id": "60f32c8b",
   "metadata": {},
   "outputs": [
    {
     "name": "stdout",
     "output_type": "stream",
     "text": [
      "환영합니다.\n",
      "환영합니다.\n"
     ]
    }
   ],
   "source": [
    "#4.1\n",
    "def my_greet():\n",
    "    print('환영합니다.')\n",
    "    \n",
    "my_greet()\n",
    "my_greet()"
   ]
  },
  {
   "cell_type": "code",
   "execution_count": 3,
   "id": "8489117e",
   "metadata": {},
   "outputs": [
    {
     "name": "stdout",
     "output_type": "stream",
     "text": [
      "3의 제곱은: 9\n",
      "4의 제곱은: 16\n"
     ]
    }
   ],
   "source": [
    "#4.2\n",
    "def squre(n):\n",
    "    return n * n\n",
    "\n",
    "print('3의 제곱은:', squre(3))\n",
    "print('4의 제곱은:', squre(4))"
   ]
  },
  {
   "cell_type": "code",
   "execution_count": 5,
   "id": "98cdf913",
   "metadata": {},
   "outputs": [
    {
     "name": "stdout",
     "output_type": "stream",
     "text": [
      "100과 200중 큰 수는: 200\n",
      "100과 200중 작은 수는: 100\n"
     ]
    }
   ],
   "source": [
    "#4.3\n",
    "def max2(m, n):\n",
    "    if m > n:\n",
    "        return m\n",
    "    else:\n",
    "        return n\n",
    "\n",
    "def min2(m, n):\n",
    "    if m < n:\n",
    "        return m\n",
    "    else:\n",
    "        return n\n",
    "\n",
    "print('100과 200중 큰 수는:', max2(100, 200))\n",
    "print('100과 200중 작은 수는:', min2(100, 200))"
   ]
  },
  {
   "cell_type": "code",
   "execution_count": 9,
   "id": "c239827b",
   "metadata": {},
   "outputs": [
    {
     "name": "stdout",
     "output_type": "stream",
     "text": [
      "1 마일 = 1.61 킬로미터\n",
      "2 마일 = 3.22 킬로미터\n",
      "3 마일 = 4.83 킬로미터\n",
      "4 마일 = 6.44 킬로미터\n",
      "5 마일 = 8.05 킬로미터\n"
     ]
    }
   ],
   "source": [
    "#4.4\n",
    "def mile2km(m):\n",
    "    for i in range(1, m+1):\n",
    "        result = i * 1.61\n",
    "        print(i, '마일 =', result, '킬로미터')\n",
    "\n",
    "mile2km(5)"
   ]
  },
  {
   "cell_type": "code",
   "execution_count": 11,
   "id": "17a910c8",
   "metadata": {},
   "outputs": [
    {
     "name": "stdout",
     "output_type": "stream",
     "text": [
      "1 인치 = 2.54 센티미터\n",
      "2 인치 = 5.08 센티미터\n",
      "3 인치 = 7.62 센티미터\n",
      "4 인치 = 10.16 센티미터\n",
      "5 인치 = 12.7 센티미터\n"
     ]
    }
   ],
   "source": [
    "#4.5\n",
    "def inch2cm(inch):\n",
    "    for i in range(1, inch+1):\n",
    "        result = i * 2.54\n",
    "        print(i, '인치 =', result, '센티미터')\n",
    "\n",
    "inch2cm(5)"
   ]
  },
  {
   "cell_type": "code",
   "execution_count": 12,
   "id": "035f2a28",
   "metadata": {},
   "outputs": [
    {
     "name": "stdout",
     "output_type": "stream",
     "text": [
      "섭씨 10 도 = 화씨 50.0 도\n",
      "섭씨 20 도 = 화씨 68.0 도\n",
      "섭씨 30 도 = 화씨 86.0 도\n",
      "섭씨 40 도 = 화씨 104.0 도\n",
      "섭씨 50 도 = 화씨 122.0 도\n"
     ]
    }
   ],
   "source": [
    "#4.6\n",
    "def cel2fah(cel):\n",
    "    for i in range(10, 51, 10):\n",
    "        fah = (9/5) * i +32\n",
    "        print('섭씨', i, '도 =', '화씨', fah, '도')\n",
    "\n",
    "cel2fah(50)"
   ]
  },
  {
   "cell_type": "code",
   "execution_count": 14,
   "id": "9a73c26d",
   "metadata": {},
   "outputs": [
    {
     "name": "stdout",
     "output_type": "stream",
     "text": [
      "세 수를 입력하시오: 10 30 20\n",
      "10, 30, 20의 평균값은 20.0\n",
      "10, 30, 20의 최댓값은 30\n",
      "10, 30, 20의 최솟값은 10\n"
     ]
    }
   ],
   "source": [
    "#4.7\n",
    "def mean3(a, b, c):\n",
    "    return (a + b + c) / 3\n",
    "\n",
    "def max3(a, b, c):\n",
    "    return max(a, b, c)\n",
    "\n",
    "def min3(a, b, c):\n",
    "    return min(a, b, c)\n",
    "\n",
    "a, b, c = map(int, input('세 수를 입력하시오: ').split())\n",
    "print('{}, {}, {}의 평균값은 {}'.format(a, b, c, mean3(a, b, c)))\n",
    "print('{}, {}, {}의 최댓값은 {}'.format(a, b, c, max3(a, b, c)))\n",
    "print('{}, {}, {}의 최솟값은 {}'.format(a, b, c, min3(a, b, c)))"
   ]
  },
  {
   "cell_type": "code",
   "execution_count": 18,
   "id": "43b3abc1",
   "metadata": {},
   "outputs": [
    {
     "name": "stdout",
     "output_type": "stream",
     "text": [
      "여섯 개의 수를 입력하시오: 100 20 30 45 260 370\n",
      "평균값은 137.5\n",
      "최댓값은 370\n",
      "최솟값은 20\n"
     ]
    }
   ],
   "source": [
    "#4.8\n",
    "def mean3(a, b, c):\n",
    "    return (a + b +c) / 3\n",
    "\n",
    "def max3(a, b, c):\n",
    "    return max(a, b, c)\n",
    "\n",
    "def min3(a, b, c):\n",
    "    return min(a, b, c)\n",
    "\n",
    "def mean6(a, b, c, d, e, f):\n",
    "    result = (mean3(a, b, c) + mean3(d, e, f)) / 2\n",
    "    return result\n",
    "\n",
    "def max6(a, b, c, d, e, f):\n",
    "    result = max(max3(a, b, c), max3(d, e, f))\n",
    "    return result\n",
    "\n",
    "def min6(a, b, c, d, e, f):\n",
    "    result = min(min3(a, b, c), min3(d, e, f))\n",
    "    return result\n",
    "\n",
    "a, b, c, d, e, f = map(int, input('여섯 개의 수를 입력하시오: ').split())\n",
    "print('평균값은', mean6(a, b, c, d, e, f))\n",
    "print('최댓값은', max6(a, b, c, d, e, f))\n",
    "print('최솟값은', min6(a, b, c, d, e, f))"
   ]
  },
  {
   "cell_type": "code",
   "execution_count": 22,
   "id": "873fdda4",
   "metadata": {},
   "outputs": [
    {
     "name": "stdout",
     "output_type": "stream",
     "text": [
      "정수를 여러 개 입력하시오: 3 45 32 5 7 8 4 44 5 90 17\n",
      "평균값은 23.6\n",
      "최댓값은 90\n",
      "최솟값은 3\n"
     ]
    }
   ],
   "source": [
    "#4.9\n",
    "def mean_of_n(nums):\n",
    "    return sum(nums) / len(nums)\n",
    "\n",
    "def max_of_n(nums):\n",
    "    return max(nums)\n",
    "\n",
    "def min_of_n(nums):\n",
    "    return min(nums)\n",
    "\n",
    "nums = list(map(int, input('정수를 여러 개 입력하시오: ').split()))\n",
    "print('평균값은 %.1f' % mean_of_n(nums))\n",
    "print('최댓값은', max_of_n(nums))\n",
    "print('최솟값은', min_of_n(nums))"
   ]
  },
  {
   "cell_type": "code",
   "execution_count": 24,
   "id": "6ec7f37b",
   "metadata": {},
   "outputs": [
    {
     "name": "stdout",
     "output_type": "stream",
     "text": [
      "x1 좌표를 입력하시오 : 0\n",
      "y1 좌표를 입력하시오 : 0\n",
      "x2 좌표를 입력하시오 : 3\n",
      "y2 좌표를 입력하시오 : 4\n",
      "두 점의 거리: 5.0\n"
     ]
    }
   ],
   "source": [
    "#4.10\n",
    "import math\n",
    "def distance(x1, y1, x2, y2):\n",
    "    return math.sqrt((x1-x2)**2+(y1-y2)**2)\n",
    "x1 = int(input('x1 좌표를 입력하시오 : '))\n",
    "y1 = int(input('y1 좌표를 입력하시오 : '))\n",
    "x2 = int(input('x2 좌표를 입력하시오 : '))\n",
    "y2 = int(input('y2 좌표를 입력하시오 : '))\n",
    "\n",
    "print('두 점의 거리: %.1f' % distance(x1, y1, x2, y2))"
   ]
  },
  {
   "cell_type": "code",
   "execution_count": 26,
   "id": "bdbb6a52",
   "metadata": {},
   "outputs": [
    {
     "name": "stdout",
     "output_type": "stream",
     "text": [
      "x1의 좌표를 입력하시오: 0\n",
      "y1의 좌표를 입력하시오: 0\n",
      "x2의 좌표를 입력하시오: 3\n",
      "y2의 좌표를 입력하시오: 4\n",
      "직각삼각형의 면적은 6.0\n"
     ]
    }
   ],
   "source": [
    "#4.11\n",
    "def area(x1,y1, x2, y2):\n",
    "    return (x2-x1) * (y2-y1) / 2\n",
    "\n",
    "x1 = int(input('x1의 좌표를 입력하시오: '))\n",
    "y1 = int(input('y1의 좌표를 입력하시오: '))\n",
    "x2 = int(input('x2의 좌표를 입력하시오: '))\n",
    "y2 = int(input('y2의 좌표를 입력하시오: '))\n",
    "\n",
    "print('직각삼각형의 면적은 %.1f' % area(x1,y1, x2, y2))"
   ]
  },
  {
   "cell_type": "code",
   "execution_count": 30,
   "id": "89c28695",
   "metadata": {},
   "outputs": [
    {
     "name": "stdout",
     "output_type": "stream",
     "text": [
      "밑변을 입력하시오: 20\n",
      "높이를 입력하시오: 15\n",
      "삼각형의 면적: 150.0\n"
     ]
    }
   ],
   "source": [
    "#4.12\n",
    "def cal_area(width, height):\n",
    "    return width * height / 2\n",
    "\n",
    "width = int(input('밑변을 입력하시오: '))\n",
    "height = int(input('높이를 입력하시오: '))\n",
    "print('삼각형의 면적:', cal_area(width, height))"
   ]
  },
  {
   "cell_type": "code",
   "execution_count": 31,
   "id": "f504fe0f",
   "metadata": {},
   "outputs": [
    {
     "name": "stdout",
     "output_type": "stream",
     "text": [
      "1728\n",
      "8000\n",
      "90\n",
      "4186.666666666666\n",
      "14130.0\n",
      "12560.0\n"
     ]
    }
   ],
   "source": [
    "#4.13\n",
    "pi = 3.14\n",
    "def 정육면체_부피(s):\n",
    "    return s ** 3\n",
    "def 직육면체_부피(w, h, l):\n",
    "    return l * w * h\n",
    "def 원뿔_부피(r, h):\n",
    "    return (1/3) * pi * (r**2) * h\n",
    "def 구_부피(r):\n",
    "    return (4/3) * pi *(r**3)\n",
    "def 원기둥_부피(r, h):\n",
    "    return pi * (r**2) * h\n",
    "\n",
    "#1\n",
    "print(정육면체_부피(12))\n",
    "\n",
    "#2\n",
    "print(정육면체_부피(20))\n",
    "\n",
    "#3\n",
    "print(직육면체_부피(3, 5, 6))\n",
    "\n",
    "#4\n",
    "print(원뿔_부피(20, 10))\n",
    "\n",
    "#5\n",
    "print(구_부피(15))\n",
    "\n",
    "#6\n",
    "print(원기둥_부피(20, 10))"
   ]
  },
  {
   "cell_type": "code",
   "execution_count": 37,
   "id": "5669baf6",
   "metadata": {},
   "outputs": [
    {
     "name": "stdout",
     "output_type": "stream",
     "text": [
      "세 수를 입력하세요:\n",
      "3\n",
      "2\n",
      "5\n",
      "정렬된 리스트는 다음과 같습니다: 2 3 5\n"
     ]
    }
   ],
   "source": [
    "#4.14\n",
    "def sort3(num1, num2, num3):\n",
    "    a = []   #빈리스트 생성\n",
    "    a.append(num1)   #리스트 a에 num 넣기\n",
    "    a.append(num2)\n",
    "    a.append(num3)\n",
    "    a.sort()   #리스트 a 오름차순 정렬\n",
    "    return a\n",
    "print('세 수를 입력하세요:')\n",
    "num1 = input()\n",
    "num2 = input()\n",
    "num3 = input()\n",
    "a = sort3(num1, num2, num3)\n",
    "print('정렬된 리스트는 다음과 같습니다: {} {} {}'.format(a[0], a[1], a[2]))"
   ]
  },
  {
   "cell_type": "code",
   "execution_count": 38,
   "id": "88e6ddeb",
   "metadata": {},
   "outputs": [
    {
     "name": "stdout",
     "output_type": "stream",
     "text": [
      "[3, 4, 5, 45, 56]\n",
      "[3, 4, 5, 6, 7, 8, 9]\n"
     ]
    }
   ],
   "source": [
    "#4.15\n",
    "def my_sort(*nums):\n",
    "    num = []   #빈리스트 생성\n",
    "    for i in nums:\n",
    "        num.append(i)   #num 리스트에 원소 i 넣기\n",
    "    num.sort()   #num 리스트 오름차순으로 정렬\n",
    "    print(num)\n",
    "\n",
    "my_sort(45, 3, 4, 56, 5)\n",
    "my_sort(9, 8, 7, 6, 5, 4, 3)"
   ]
  },
  {
   "cell_type": "code",
   "execution_count": 39,
   "id": "35ace2c1",
   "metadata": {},
   "outputs": [
    {
     "name": "stdout",
     "output_type": "stream",
     "text": [
      "쉼표로 구분된 정수를 여러 개 입력하시오: 56,67,89,34,24,300,99\n",
      "입력된 정수의 리스트: [56, 67, 89, 34, 24, 300, 99]\n",
      "정렬된 정수의 리스트: [24, 34, 56, 67, 89, 99, 300]\n"
     ]
    }
   ],
   "source": [
    "#4.16\n",
    "n = list(map(int, input('쉼표로 구분된 정수를 여러 개 입력하시오: ').split(',')))\n",
    "print('입력된 정수의 리스트:', n)\n",
    "n.sort()\n",
    "print('정렬된 정수의 리스트:', n)"
   ]
  },
  {
   "cell_type": "code",
   "execution_count": 41,
   "id": "7fbf9b0b",
   "metadata": {},
   "outputs": [
    {
     "name": "stdout",
     "output_type": "stream",
     "text": [
      "10에서 20까지의 정수의 합: 165\n",
      "40에서 100까지의 정수의 합: 4270\n"
     ]
    }
   ],
   "source": [
    "#4.17\n",
    "def sum_range(n1, n2):\n",
    "    result = 0\n",
    "    for n in range(n1, n2+1):\n",
    "        result += n\n",
    "    return result\n",
    "\n",
    "print('10에서 20까지의 정수의 합:', sum_range(10, 20))\n",
    "print('40에서 100까지의 정수의 합:', sum_range(40, 100))"
   ]
  },
  {
   "cell_type": "code",
   "execution_count": 49,
   "id": "3edfac6a",
   "metadata": {},
   "outputs": [
    {
     "name": "stdout",
     "output_type": "stream",
     "text": [
      "범위의 시작 정수: 2\n",
      "범위의 마지막 정수: 4\n",
      "2에서 4까지의 정수들의 최소공배수는 : 12\n"
     ]
    }
   ],
   "source": [
    "#4.18\n",
    "#유클리드 호제법을 이용한 최대공약수와 최소공배수를 구하는 방법\n",
    "def gcd(n1, n2):   #최대공약수를 구하는 함수\n",
    "    while n2 != 0:\n",
    "        n1, n2 = n2, n1 % n2\n",
    "    return n1\n",
    "\n",
    "def lcm(n1, n2):   #최소공배수를 구하는 함수\n",
    "    result = (n1 * n2) / gcd(n1, n2)\n",
    "    return result\n",
    "\n",
    "a = int(input('범위의 시작 정수: '))\n",
    "b = int(input('범위의 마지막 정수: '))\n",
    "\n",
    "for i in range(a, b):\n",
    "    l = lcm(l, i)\n",
    "print('{}에서 {}까지의 정수들의 최소공배수는 : {}'.format(a, b, int(l)))"
   ]
  },
  {
   "cell_type": "code",
   "execution_count": 50,
   "id": "817746e1",
   "metadata": {},
   "outputs": [
    {
     "name": "stdout",
     "output_type": "stream",
     "text": [
      "fibo(n)의 n을 입력하세요: 3\n",
      "fibo(3) = 3\n"
     ]
    }
   ],
   "source": [
    "#4.19\n",
    "#재귀함수를 이용한 피보나치 수열\n",
    "def fibo(n):\n",
    "    if n <= 1:   #fibo(0) = 1, fibo(1) = 1\n",
    "        return 1\n",
    "    else:\n",
    "        return fibo(n-1) + fibo(n-2)\n",
    "    \n",
    "n = int(input('fibo(n)의 n을 입력하세요: '))\n",
    "print('fibo({}) = {}'.format(n, fibo(n)))"
   ]
  },
  {
   "cell_type": "code",
   "execution_count": 51,
   "id": "51f9677a",
   "metadata": {},
   "outputs": [
    {
     "name": "stdout",
     "output_type": "stream",
     "text": [
      "fibo(  0) =        1\n",
      "fibo(  1) =        1\n",
      "fibo(  2) =        2\n",
      "fibo(  3) =        3\n",
      "fibo(  4) =        5\n",
      "fibo(  5) =        8\n",
      "fibo(  6) =       13\n",
      "fibo(  7) =       21\n",
      "fibo(  8) =       34\n",
      "fibo(  9) =       55\n",
      "fibo( 10) =       89\n",
      "fibo( 11) =      144\n",
      "fibo( 12) =      233\n",
      "fibo( 13) =      377\n",
      "fibo( 14) =      610\n",
      "fibo( 15) =      987\n"
     ]
    }
   ],
   "source": [
    "#4.20\n",
    "def fibo(n):\n",
    "    if n <= 1:\n",
    "        return 1\n",
    "    else:\n",
    "        return fibo(n-1) + fibo(n-2)\n",
    "\n",
    "for i in range(0, 16):   \n",
    "    print('fibo({:3d}) = {:8d}'.format(i, fibo(i)))   #플레이스홀더 사용"
   ]
  },
  {
   "cell_type": "code",
   "execution_count": 57,
   "id": "915d70dc",
   "metadata": {},
   "outputs": [
    {
     "name": "stdout",
     "output_type": "stream",
     "text": [
      "주민등록번호 첫 6숫자 형식 입력: 000830\n",
      "2000년 08월 30일\n"
     ]
    }
   ],
   "source": [
    "num = input('주민등록번호 첫 6숫자 형식 입력: ')\n",
    "if int(num[0:2]) >= 50:\n",
    "    year = '19' + num[0:2]\n",
    "else:\n",
    "    year = '20' + num[0:2]\n",
    "print('{}년 {}월 {}일'.format(year, num[2:4], num[4:6]))"
   ]
  },
  {
   "cell_type": "code",
   "execution_count": 63,
   "id": "9a092559",
   "metadata": {},
   "outputs": [
    {
     "name": "stdout",
     "output_type": "stream",
     "text": [
      "현재 시간은 2022년 10월 8일입니다.\n",
      "지금 태어난 아이의 주민등록번호 앞자리는 : 22108\n"
     ]
    }
   ],
   "source": [
    "#4.22\n",
    "import datetime\n",
    "date = datetime.datetime.now()\n",
    "y, m, d = date.year, date.month, date.day\n",
    "print('현재 시간은 {}년 {}월 {}일입니다.'.format(y, m, d))\n",
    "print('지금 태어난 아이의 주민등록번호 앞자리는 : {}{}{}'.format(str(y)[2:4], m, d))"
   ]
  },
  {
   "cell_type": "code",
   "execution_count": 67,
   "id": "30b3c9c6",
   "metadata": {},
   "outputs": [
    {
     "name": "stdout",
     "output_type": "stream",
     "text": [
      "반지름을 입력하시오: 6\n",
      "넓이 : 113.097, 둘레 :  37.699\n",
      "반지름을 입력하시오: 22\n",
      "넓이 : 1520.531, 둘레 : 138.230\n",
      "반지름을 입력하시오: 4\n",
      "넓이 :  50.265, 둘레 :  25.133\n",
      "반지름을 입력하시오: -1\n",
      "프로그램을 종요합니다.\n"
     ]
    }
   ],
   "source": [
    "#4.23\n",
    "import math\n",
    "Pi = math.pi\n",
    "def area_and_circumference(r):\n",
    "    area = r * r * Pi\n",
    "    circumference = 2 * r * Pi\n",
    "    return area, circumference\n",
    "while True:\n",
    "    r = int(input('반지름을 입력하시오: '))\n",
    "    if r < 0:\n",
    "        print('프로그램을 종요합니다.')\n",
    "        break\n",
    "    Tuple = area_and_circumference(r)\n",
    "    print('넓이 : {:7.3f}, 둘레 : {:7.3f}'.format(Tuple[0], Tuple[1]))"
   ]
  },
  {
   "cell_type": "code",
   "execution_count": 73,
   "id": "33210d56",
   "metadata": {},
   "outputs": [
    {
     "name": "stdout",
     "output_type": "stream",
     "text": [
      "반지름을 입력하시오 : 6\n",
      "넓이 : 113.097, 둘레 :  37.699\n",
      "반지름을 입력하시오 : 22\n",
      "넓이 : 1520.531, 둘레 : 138.230\n",
      "반지름을 입력하시오 : 4\n",
      "넓이 :  50.265, 둘레 :  25.133\n",
      "반지름을 입력하시오 : -1\n",
      "프로그램을 종료합니다.\n"
     ]
    }
   ],
   "source": [
    "# 4.23\n",
    "import math\n",
    "\n",
    "def area_and_circumference(r):\n",
    "    print('넓이 : {:7.3f}, 둘레 : {:7.3f}'.format((r*r*math.pi), (2*r*math.pi)))\n",
    "    \n",
    "while True:\n",
    "    r = int(input('반지름을 입력하시오 : '))\n",
    "    if r < 0:   #음수 입력 시 프로그램 종료\n",
    "        break\n",
    "\n",
    "    area_and_circumference(r)   #다시 함수 호출\n",
    "\n",
    "print('프로그램을 종료합니다.')   #while 문 종료시 프로그램 종료 출력 하기"
   ]
  },
  {
   "cell_type": "code",
   "execution_count": 74,
   "id": "56cbe965",
   "metadata": {},
   "outputs": [
    {
     "name": "stdout",
     "output_type": "stream",
     "text": [
      "여러 단어로 이루어진 글을 입력하세요: 임의의 문장을 입력:출력, 이것은 테스트 문장. 가:가나:나:나나:다람쥐 : 마린보이.\n",
      "정렬 결과 :\n",
      "['가', '가나', '나', '나나', '다람쥐', '마린보이', '문장', '문장을', '이것은', '임의의', '입력', '출력', '테스트']\n"
     ]
    }
   ],
   "source": [
    "#4.24\n",
    "s = input('여러 단어로 이루어진 글을 입력하세요: ')\n",
    "s = s.replace(':', ' ')\n",
    "s = s.replace(',', ' ')\n",
    "s = s.replace('.', ' ')\n",
    "s = s.split()\n",
    "s.sort()   \n",
    "print('정렬 결과 :')\n",
    "print(s)"
   ]
  },
  {
   "cell_type": "code",
   "execution_count": 76,
   "id": "99337a8f",
   "metadata": {},
   "outputs": [
    {
     "name": "stdout",
     "output_type": "stream",
     "text": [
      "Kang Young Min(은)는 ()(으)로 수정됨 KANGYOUNGMIN\n",
      "Kang Young-Min(은)는 ()(으)로 수정됨 KANGYOUNGMIN\n",
      "Park Dong Min(은)는 ()(으)로 수정됨 PARKDONGMIN\n",
      "Park Dong-Yun(은)는 ()(으)로 수정됨 PARKDONGYUN\n",
      "KANGYOUNGMIN : 3 개의 N이 나타남\n",
      "KANGYOUNGMIN : 3 개의 N이 나타남\n",
      "PARKDONGMIN : 2 개의 N이 나타남\n",
      "PARKDONGYUN : 2 개의 N이 나타남\n"
     ]
    }
   ],
   "source": [
    "#4.25\n",
    "s1 = 'Kang Young Min'\n",
    "s2 = 'Kang Young-Min'\n",
    "s3 = 'Park Dong Min'\n",
    "s4 = 'Park Dong-Yun'\n",
    "s = [s1, s2, s3, s4]\n",
    "for i in range(4):\n",
    "    result = s[i].replace(' ', '')   #s 내 공백 제거\n",
    "    result = result.replace('-', '')   #s 내 하이픈 제거\n",
    "    result = result.upper()   #s 내 원소들 모두 대문자로 저장\n",
    "    print('{}(은)는 ()(으)로 수정됨'.format(s[i]), result)\n",
    "    s[i] = result\n",
    "for i in s:\n",
    "    print('{} : {} 개의 N이 나타남'.format(i, i.count('N')))"
   ]
  },
  {
   "cell_type": "code",
   "execution_count": 77,
   "id": "b9786c78",
   "metadata": {},
   "outputs": [
    {
     "name": "stdout",
     "output_type": "stream",
     "text": [
      "주어진 문자열 : \n",
      "Park(Java city), kim(C city), Kang(Bython city), Lee(Bython city), Hong(Ruby city), Cho(Bython city), Koo(C city), Ryu(C++ city)\n",
      "수정된 문자열 : \n",
      "Park(Java city), kim(C city), Kang(Python city), Lee(Python city), Hong(Ruby city), Cho(Python city), Koo(C city), Ryu(C++ city)\n",
      "Bython 문자열은 모두 3번 수정했습니다.\n"
     ]
    }
   ],
   "source": [
    "#4.26\n",
    "s = 'Park(Java city), kim(C city), Kang(Bython city), Lee(Bython city), Hong(Ruby city), Cho(Bython city), Koo(C city), Ryu(C++ city)'\n",
    "print('주어진 문자열 : ')\n",
    "print(s)\n",
    "print('수정된 문자열 : ')\n",
    "print(s.replace('Bython', 'Python'))\n",
    "print('Bython 문자열은 모두 {}번 수정했습니다.'.format(s.count('Bython')))"
   ]
  },
  {
   "cell_type": "code",
   "execution_count": 80,
   "id": "cbf04fab",
   "metadata": {},
   "outputs": [
    {
     "name": "stdout",
     "output_type": "stream",
     "text": [
      "1보다 작고 0보다 큰 소수를 입력하세요: 0.0732\n",
      "가장 가까운 단위분수는 1/14이며, 이 값은 0.07142857142857142입니다.\n"
     ]
    }
   ],
   "source": [
    "def unit_fraction(frac):\n",
    "    n = int(1/frac)\n",
    "    r1 = 1/n\n",
    "    r2 = 1/(n+1)\n",
    "    if abs(r1 - frac) < abs(r2 - frac):   #abs() 절대값 구하는 내장함수\n",
    "        return n\n",
    "    else:\n",
    "        return n + 1\n",
    "num = float(input('1보다 작고 0보다 큰 소수를 입력하세요: '))\n",
    "n = unit_fraction(num)\n",
    "print('가장 가까운 단위분수는 1/{}이며, 이 값은 {}입니다.'.format(n, 1/n))"
   ]
  },
  {
   "cell_type": "code",
   "execution_count": 87,
   "id": "ad1201ce",
   "metadata": {},
   "outputs": [
    {
     "name": "stdout",
     "output_type": "stream",
     "text": [
      "euler( 5) = \t2.71667\n",
      "euler(20) = \t2.71828\n"
     ]
    }
   ],
   "source": [
    "def factorial(k):\n",
    "    result = 1\n",
    "    for i in range(1, k + 1):\n",
    "        result *= i\n",
    "    return result\n",
    "def euler(k):\n",
    "    result = 0\n",
    "    for i in range(k + 1): # range(1. k + 1) 로 해야 맞는것 같은데, 교재에서는 0! 도 더함..\n",
    "        result += 1/factorial(i)\n",
    "    return result\n",
    "for i in 5, 20:\n",
    "    print('euler({:2d}) = \\t{:5.5f}'.format(i, euler(i)))"
   ]
  }
 ],
 "metadata": {
  "kernelspec": {
   "display_name": "Python 3 (ipykernel)",
   "language": "python",
   "name": "python3"
  },
  "language_info": {
   "codemirror_mode": {
    "name": "ipython",
    "version": 3
   },
   "file_extension": ".py",
   "mimetype": "text/x-python",
   "name": "python",
   "nbconvert_exporter": "python",
   "pygments_lexer": "ipython3",
   "version": "3.9.12"
  }
 },
 "nbformat": 4,
 "nbformat_minor": 5
}
